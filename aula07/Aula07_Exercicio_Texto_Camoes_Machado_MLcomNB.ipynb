{
 "cells": [
  {
   "cell_type": "markdown",
   "metadata": {},
   "source": [
    "# Probabilidades e análise de texto"
   ]
  },
  {
   "cell_type": "markdown",
   "metadata": {},
   "source": [
    "Esta é uma prévia para o Projeto 1.\n",
    "\n",
    "Leia [esta referência do Prof. Sebastian Raschka](https://arxiv.org/pdf/1410.5329.pdf) após concluir a atividade. Também existe [em formato de blog](https://sebastianraschka.com/Articles/2014_naive_bayes_1.html)\n",
    "\n",
    "A técnica apresentada neste notebook foi usada para resolver [um problema histórico de autoria de documentos](https://priceonomics.com/how-statistics-solved-a-175-year-old-mystery-about/).\n",
    "\n",
    "## Índice\n",
    "\n",
    "- [Análise \"Os Lusíadas\" vs \"Dom Casmurro\"](#analise-lusiadas-vs-dom-casmurro)\n",
    "    - [Limpeza das bases](#limpeza-das-bases)\n",
    "    - [Tabelas de frequências: Dom Casmurro](#tabelas-de-frequencias-dom-casmurro)\n",
    "        - [Frequências absolutas](#frequencias-absolutas-casmurro)\n",
    "        - [Frequências relativas](#frequencias-relativas-casmurro)\n",
    "    - [Tabelas de frequências: Os Lusíadas](#tabelas-de-frequencias-os-lusiadas)\n",
    "- [Probabilidades](#probabilidades)\n",
    "- [Probabilidades na língua portuguesa](#probabilidades-na-lingua-portuguesa)\n",
    "- [Classificação: Lusíadas ou Dom Casmurro?](#classificacao-lusiadas-ou-dom-casmurro)\n",
    "    - [A ingenuidade - Naïve Bayes](#a-ingenuidade-naive-bayes)\n",
    "\n",
    "- [O que você deve fazer](#o-que-voce-deve-fazer)\n",
    "    - [Exercício 1](#ex1)\n",
    "    - [Exercício 2](#ex2)\n",
    "    - [Exercício 3](#ex3)\n",
    "    - [Exercício 4](#ex4)\n",
    "- [O que você deve pesquisar para fazer o Projeto 1](#o-que-pesquisar)\n",
    "\n"
   ]
  },
  {
   "cell_type": "code",
   "execution_count": 1,
   "metadata": {},
   "outputs": [],
   "source": [
    "import pandas as pd\n",
    "import numpy as np\n",
    "from IPython.display import display\n",
    "pd.options.display.max_rows = 13"
   ]
  },
  {
   "cell_type": "markdown",
   "metadata": {},
   "source": [
    "Abaixo definimos uma função de limpeza simples, que usaremos nos trechos de texto analizados"
   ]
  },
  {
   "cell_type": "code",
   "execution_count": 2,
   "metadata": {},
   "outputs": [],
   "source": [
    "import re \n",
    "\n",
    "\n",
    "def cleanup(text):\n",
    "    \"\"\"\n",
    "        Função de limpeza muito simples que troca alguns sinais básicos por espaços\n",
    "    \"\"\"\n",
    "    #import string\n",
    "    punctuation = '[!-.:?;]' # Note que os sinais [] são delimitadores de um conjunto.\n",
    "    pattern = re.compile(punctuation)\n",
    "    text_subbed = re.sub(pattern, ' ', text)\n",
    "    return text_subbed\n",
    "    "
   ]
  },
  {
   "cell_type": "markdown",
   "metadata": {},
   "source": [
    "<div id=\"analise-lusiadas-vs-dom-casmurro\"></div>\n",
    "\n",
    "## Análise \"Os Lusíadas\" vs \"Dom Casmurro\"\n",
    "\n",
    "Vamos analisar as obras Dom Casmurro, de [Machado de Assis](http://machado.mec.gov.br/) e Os Lusíadas, de [Luis Vaz de Camões](https://pt.wikipedia.org/wiki/Lu%C3%ADs_de_Cam%C3%B5es). Ambas as obras são de domínio público e foram obtidas no site do [Projeto Gutenberg](https://www.gutenberg.org/wiki/PT_Principal).\n",
    "\n",
    "Nosso objetivo é: dada uma frase extraída de alguma das duas obras, identificar a qual obra a frase pertence.\n",
    "Ou seja, queremos classificar uma frase como pertencendo a \"Os Lusíadas\" ou a \"Dom Casmurro\". \n",
    "\n",
    "Para isso temos somente a informação de quais **palavras constituem a frase**. Como podemos utilizar as palavras para descobrir a qual obra a frase pertence? Você deve ter algum conhecido que sempre usa alguma palavra um pouco estranha ou diferente que somente ele/ela usa. A intuição no nosso caso é semelhante: cada autor deve ter algumas palavras específicas que usa com mais frequência do que o outro autor. Se isso for verdade, poderíamos tentar descobrir qual é a obra dependendo de quais palavras aparecem na frase.\n",
    "\n",
    "Vamos pensar em termos de probabilidade. A informação que temos disponível sobre a frase são as palavras. Assim, temos os seguintes eventos:\n",
    "\n",
    "- $Casmurro$: a frase foi extraída da obra \"Dom Casmurro\";\n",
    "- $Lusíadas$: a frase foi extraída da obra \"Os Lusíadas\";\n",
    "- $frase$: uma determinada frase foi encontrada.\n",
    "\n",
    "Utilizamos $w_i$ como um nome genérico para qualquer palavra utilizada em algum dos textos.\n",
    "\n",
    "A partir das palavras contidas na frase, queremos calcular a probabilidade da frase ter sido extraída de \"Dom Casmurro\" ou de \"Os Lusíadas\". Traduzindo em termos de probabilidades:\n",
    "\n",
    "- $P(Casmurro|frase)$: probabilidade da obra original ser \"Dom Casmurro\" dado a frase;\n",
    "- $P(Lusíadas|frase)$: probabilidade da obra original ser \"Os Lusíadas\" dado a frase.\n",
    "\n",
    "Se $P(Casmurro|frase) > P(Lusíadas|frase)$ classificaremos a frase como extraída de \"Dom Casmurro\", senão, classificaremos como \"Os Lusíadas\". Mas como podemos calcular essas probabilidades?\n",
    "\n",
    "Vimos na atividade da aula (dataset do Titanic), que é possível utilizar a regra de Bayes para obter uma probabilidade condicional da seguinte forma (vamos utilizar $P(Casmurro|frase)$ como exemplo, mas o processo é análogo para $P(Lusíadas|frase)$:\n",
    "\n",
    "$$P(Casmurro|frase) = \\frac{P(frase|Casmurro) P(Casmurro)}{P(frase)}$$\n",
    "\n",
    "Ou seja, precisamos de: \n",
    "- $P(frase|Casmurro)$: probabilidade de encontrar a frase na obra \"Dom Casmurro\";\n",
    "- $P(frase|Lusíadas)$: probabilidade de encontrar a frase na obra \"Os Lusíadas\";\n",
    "- $P(Casmurro)$: probabilidade da obra original ser \"Dom Casmurro\";\n",
    "- $P(Lusíadas)$: probabilidade da obra original ser \"Os Lusíadas\";\n",
    "- $P(frase)$: probabilidade de uma frase ocorrer na língua portuguesa.\n",
    "\n",
    "Veremos que temos como conseguir estimativas de todas essas probabilidades. Assim poderemos obter as probabilidades desejadas. \n",
    "\n",
    "**Observação**: classificadores como o que vamos construir, que utilizam a regra de Bayes para calcular as probabilidades, são chamados Classificadores Bayesianos. Na verdade, vamos utilizar uma simplificação, conhecida como **Naïve Bayes**.\n",
    "\n",
    "Vamos começar carregando o texto de cada obra."
   ]
  },
  {
   "cell_type": "code",
   "execution_count": 3,
   "metadata": {},
   "outputs": [
    {
     "name": "stdout",
     "output_type": "stream",
     "text": [
      "Luís Vaz de Camões\n",
      "Os Lusíadas\n",
      "\n",
      "Canto Primeiro\n",
      "\n",
      "1\n",
      "As armas e os barões assinalados,\n",
      "Que da ocidental\n"
     ]
    }
   ],
   "source": [
    "# Carrega o arquivo de texto\n",
    "# Como ele possui caracteres com acentos, precisamos carregar utilizando o encoding=\"utf8\".\n",
    "with open(\"textos/lusiadas_texto.txt\", \"r\", encoding=\"utf-8-sig\") as arquivo_texto:\n",
    "    lusiadas_raw = arquivo_texto.read()\n",
    "\n",
    "# Imprime os 100 primeiros caracteres do texto para verificar se está tudo ok.\n",
    "print(lusiadas_raw[0:100])"
   ]
  },
  {
   "cell_type": "code",
   "execution_count": 4,
   "metadata": {},
   "outputs": [
    {
     "name": "stdout",
     "output_type": "stream",
     "text": [
      "DOM CASMURRO\n",
      "\n",
      "POR\n",
      "\n",
      "MACHADO DE ASSIS\n",
      "\n",
      "DA ACADEMIA BRAZILEIRA\n",
      "\n",
      "H. GARNIER, LIVREIRO-EDITOR\n",
      "\n",
      "RUA MOREIR\n"
     ]
    }
   ],
   "source": [
    "with open(\"textos/domcasmurro_texto.txt\", \"r\", encoding=\"utf-8-sig\") as arquivo_texto:\n",
    "    casmurro_raw = arquivo_texto.read()\n",
    "    \n",
    "print(casmurro_raw[0:100])"
   ]
  },
  {
   "cell_type": "markdown",
   "metadata": {},
   "source": [
    "<div id=\"limpeza-das-bases\"></div>\n",
    "\n",
    "### Limpezas das bases\n",
    "\n",
    "Em nossa análise será necessário calcular a frequência das palavras no texto. Entretanto, o Python diferencia caracteres maiúsculos (e.g. `'A'` ou `'B'`) de minúsculos (e.g. `'a'` e `'b'`). Por isso, vamos converter todo o texto para letras minúsculas.\n",
    "\n",
    "Além disso, apesar de serem importantes para a língua, vamos simplificar nossa análise removendo sinais de pontuação. Para isso vamos aplicar uma limpeza rudimentar com a função `cleanup()` definida anteriormente."
   ]
  },
  {
   "cell_type": "code",
   "execution_count": 5,
   "metadata": {},
   "outputs": [],
   "source": [
    "lusiadas = cleanup(lusiadas_raw.lower())"
   ]
  },
  {
   "cell_type": "code",
   "execution_count": 6,
   "metadata": {},
   "outputs": [],
   "source": [
    "casmurro = cleanup(casmurro_raw.lower())"
   ]
  },
  {
   "cell_type": "markdown",
   "metadata": {},
   "source": [
    "Vamos inspecionar  os arquivos"
   ]
  },
  {
   "cell_type": "code",
   "execution_count": 7,
   "metadata": {},
   "outputs": [
    {
     "name": "stdout",
     "output_type": "stream",
     "text": [
      "luís vaz de camões\n",
      "os lusíadas\n",
      "\n",
      "canto primeiro\n",
      "\n",
      "1\n",
      "as armas e os barões assinalados \n",
      "que da ocidental\n"
     ]
    }
   ],
   "source": [
    "print(lusiadas[0:100])"
   ]
  },
  {
   "cell_type": "code",
   "execution_count": 8,
   "metadata": {},
   "outputs": [
    {
     "name": "stdout",
     "output_type": "stream",
     "text": [
      "dom casmurro\n",
      "\n",
      "por\n",
      "\n",
      "machado de assis\n",
      "\n",
      "da academia brazileira\n",
      "\n",
      "h  garnier  livreiro editor\n",
      "\n",
      "rua moreir\n"
     ]
    }
   ],
   "source": [
    "print(casmurro[0:100])"
   ]
  },
  {
   "cell_type": "markdown",
   "metadata": {},
   "source": [
    "<div id=\"tabelas-de-frequencias-dom-casmurro\"></div>\n",
    "\n",
    "### Tabelas de frequências: Dom Casmurro\n",
    "\n",
    "Vamos começar contando as palavras em cada texto, ou seja, vamos construir a tabela de frequência absoluta para as palavras de cada obra. Primeiramente vamos converter as obras (strings contendo o texto completo) em objetos do tipo `pd.Series`, nos quais cada elemento é uma palavra."
   ]
  },
  {
   "cell_type": "code",
   "execution_count": 9,
   "metadata": {},
   "outputs": [
    {
     "data": {
      "text/plain": [
       "['dom',\n",
       " 'casmurro',\n",
       " 'por',\n",
       " 'machado',\n",
       " 'de',\n",
       " 'assis',\n",
       " 'da',\n",
       " 'academia',\n",
       " 'brazileira',\n",
       " 'h']"
      ]
     },
     "execution_count": 9,
     "metadata": {},
     "output_type": "execute_result"
    }
   ],
   "source": [
    "todas_palavras_casmurro = casmurro.split()\n",
    "todas_palavras_casmurro[0:10]"
   ]
  },
  {
   "cell_type": "code",
   "execution_count": 10,
   "metadata": {},
   "outputs": [
    {
     "data": {
      "text/plain": [
       "0             dom\n",
       "1        casmurro\n",
       "2             por\n",
       "3         machado\n",
       "4              de\n",
       "5           assis\n",
       "           ...   \n",
       "67472     cxlviii\n",
       "67473           é\n",
       "67474         bem\n",
       "67475           e\n",
       "67476           o\n",
       "67477       resto\n",
       "Length: 67478, dtype: object"
      ]
     },
     "execution_count": 10,
     "metadata": {},
     "output_type": "execute_result"
    }
   ],
   "source": [
    "serie_casmurro = pd.Series(todas_palavras_casmurro)\n",
    "serie_casmurro"
   ]
  },
  {
   "cell_type": "code",
   "execution_count": 11,
   "metadata": {},
   "outputs": [
    {
     "data": {
      "text/plain": [
       "0         dom\n",
       "1    casmurro\n",
       "2         por\n",
       "3     machado\n",
       "4          de\n",
       "dtype: object"
      ]
     },
     "execution_count": 11,
     "metadata": {},
     "output_type": "execute_result"
    }
   ],
   "source": [
    "serie_casmurro.head()"
   ]
  },
  {
   "cell_type": "markdown",
   "metadata": {},
   "source": [
    "Palavras em um texto são variáveis **qualitativas nominais**, portanto usaremos `value_counts()` para obter a tabela de frequências relativas e absolutas:"
   ]
  },
  {
   "cell_type": "markdown",
   "metadata": {},
   "source": [
    "<div id=\"frequencias-absolutas-casmurro\"></div>\n",
    "\n",
    "#### Frequências absolutas"
   ]
  },
  {
   "cell_type": "code",
   "execution_count": 12,
   "metadata": {},
   "outputs": [
    {
     "data": {
      "text/plain": [
       "que            2663\n",
       "a              2604\n",
       "e              2191\n",
       "de             1974\n",
       "o              1875\n",
       "não            1525\n",
       "               ... \n",
       "travesso          1\n",
       "comprehende       1\n",
       "achaste           1\n",
       "tornaria          1\n",
       "inclinada         1\n",
       "relance           1\n",
       "Length: 8992, dtype: int64"
      ]
     },
     "execution_count": 12,
     "metadata": {},
     "output_type": "execute_result"
    }
   ],
   "source": [
    "tabela_casmurro = serie_casmurro.value_counts()\n",
    "tabela_casmurro"
   ]
  },
  {
   "cell_type": "markdown",
   "metadata": {},
   "source": [
    "<div id=\"frequencias-relativas-casmurro\"></div>\n",
    "\n",
    "#### Frequências relativas"
   ]
  },
  {
   "cell_type": "code",
   "execution_count": 13,
   "metadata": {},
   "outputs": [
    {
     "data": {
      "text/plain": [
       "que            0.039465\n",
       "a              0.038590\n",
       "e              0.032470\n",
       "de             0.029254\n",
       "o              0.027787\n",
       "não            0.022600\n",
       "                 ...   \n",
       "travesso       0.000015\n",
       "comprehende    0.000015\n",
       "achaste        0.000015\n",
       "tornaria       0.000015\n",
       "inclinada      0.000015\n",
       "relance        0.000015\n",
       "Length: 8992, dtype: float64"
      ]
     },
     "execution_count": 13,
     "metadata": {},
     "output_type": "execute_result"
    }
   ],
   "source": [
    "tabela_casmurro_relativa = serie_casmurro.value_counts(True)\n",
    "tabela_casmurro_relativa"
   ]
  },
  {
   "cell_type": "markdown",
   "metadata": {},
   "source": [
    "É de se estranhar a linha abaixo?"
   ]
  },
  {
   "cell_type": "code",
   "execution_count": 14,
   "metadata": {},
   "outputs": [
    {
     "data": {
      "text/plain": [
       "1.0"
      ]
     },
     "execution_count": 14,
     "metadata": {},
     "output_type": "execute_result"
    }
   ],
   "source": [
    "tabela_casmurro_relativa.sum()"
   ]
  },
  {
   "cell_type": "markdown",
   "metadata": {},
   "source": [
    "\n",
    "Agora faremos exatamente os mesmos passos de converter em `Series` e obter as tabelas de frequência para a obra \"Os Lusíadas\""
   ]
  },
  {
   "cell_type": "markdown",
   "metadata": {},
   "source": [
    "<div id=\"tabelas-de-frequencias-os-lusiadas\"></div>\n",
    "\n",
    "### Tabelas de frequências: \"Os Lusíadas\""
   ]
  },
  {
   "cell_type": "code",
   "execution_count": 15,
   "metadata": {},
   "outputs": [
    {
     "data": {
      "text/plain": [
       "['luís',\n",
       " 'vaz',\n",
       " 'de',\n",
       " 'camões',\n",
       " 'os',\n",
       " 'lusíadas',\n",
       " 'canto',\n",
       " 'primeiro',\n",
       " '1',\n",
       " 'as']"
      ]
     },
     "execution_count": 15,
     "metadata": {},
     "output_type": "execute_result"
    }
   ],
   "source": [
    "todas_palavras_lusiadas = lusiadas.split()\n",
    "todas_palavras_lusiadas[0:10]"
   ]
  },
  {
   "cell_type": "code",
   "execution_count": 16,
   "metadata": {},
   "outputs": [
    {
     "data": {
      "text/plain": [
       "0            luís\n",
       "1             vaz\n",
       "2              de\n",
       "3          camões\n",
       "4              os\n",
       "5        lusíadas\n",
       "           ...   \n",
       "56943           à\n",
       "56944        dita\n",
       "56945          de\n",
       "56946     aquiles\n",
       "56947         ter\n",
       "56948      enveja\n",
       "Length: 56949, dtype: object"
      ]
     },
     "execution_count": 16,
     "metadata": {},
     "output_type": "execute_result"
    }
   ],
   "source": [
    "serie_lusiadas = pd.Series(todas_palavras_lusiadas)\n",
    "serie_lusiadas"
   ]
  },
  {
   "cell_type": "markdown",
   "metadata": {},
   "source": [
    "<div id=\"frequencias-absolutas-lusiadas\"></div>\n",
    "\n",
    "#### Frequências absolutas"
   ]
  },
  {
   "cell_type": "code",
   "execution_count": 17,
   "metadata": {},
   "outputs": [
    {
     "data": {
      "text/plain": [
       "que          2741\n",
       "e            2198\n",
       "o            1953\n",
       "a            1800\n",
       "de           1433\n",
       "se            981\n",
       "             ... \n",
       "abria           1\n",
       "choradas        1\n",
       "colosso         1\n",
       "pertinace       1\n",
       "comorim         1\n",
       "astianás        1\n",
       "Length: 9037, dtype: int64"
      ]
     },
     "execution_count": 17,
     "metadata": {},
     "output_type": "execute_result"
    }
   ],
   "source": [
    "tabela_lusiadas = serie_lusiadas.value_counts()\n",
    "tabela_lusiadas"
   ]
  },
  {
   "cell_type": "markdown",
   "metadata": {},
   "source": [
    "<div id=\"frequencias-relativas-lusiadas\"></div>\n",
    "\n",
    "#### Frequências relativas"
   ]
  },
  {
   "cell_type": "code",
   "execution_count": 18,
   "metadata": {},
   "outputs": [
    {
     "data": {
      "text/plain": [
       "que          0.048131\n",
       "e            0.038596\n",
       "o            0.034294\n",
       "a            0.031607\n",
       "de           0.025163\n",
       "se           0.017226\n",
       "               ...   \n",
       "abria        0.000018\n",
       "choradas     0.000018\n",
       "colosso      0.000018\n",
       "pertinace    0.000018\n",
       "comorim      0.000018\n",
       "astianás     0.000018\n",
       "Length: 9037, dtype: float64"
      ]
     },
     "execution_count": 18,
     "metadata": {},
     "output_type": "execute_result"
    }
   ],
   "source": [
    "tabela_lusiadas_relativa = serie_lusiadas.value_counts(True)\n",
    "tabela_lusiadas_relativa"
   ]
  },
  {
   "cell_type": "markdown",
   "metadata": {},
   "source": [
    "<div id=\"probabilidades\"></div>\n",
    "\n",
    "## Probabilidades\n",
    "\n",
    "Relembrando, queremos descobrir, dentre outras coisas, a probabilidade de uma frase ocorrer em uma das obras. Para isso, vamos assumir uma simplificação **bastante ingênua** de que a probabilidade de uma palavra da frase ocorrer em uma obra é independente da probabilidade de qualquer outra palavra. Assim, assumindo independência, **a probabilidade da frase é igual ao produto das probabilidades de cada palavra individualmente**.\n",
    "\n",
    "Vamos assumir para fins destas análises que **a frequência relativa observada nestes textos é igual à probabilidade**. Ou seja, que se quisermos encontrar $P(portugal|Lusíadas)$ basta checar a frequência da palavra `'portugal'`: `tabela_lusiadas_relativa[\"portugal\"]` (note que o acesso é semelhante ao acesso a um dicionário)."
   ]
  },
  {
   "cell_type": "code",
   "execution_count": 19,
   "metadata": {},
   "outputs": [
    {
     "data": {
      "text/plain": [
       "0.00019315527928497427"
      ]
     },
     "execution_count": 19,
     "metadata": {},
     "output_type": "execute_result"
    }
   ],
   "source": [
    "tabela_lusiadas_relativa[\"portugal\"]"
   ]
  },
  {
   "cell_type": "markdown",
   "metadata": {},
   "source": [
    "Da mesma fora, se quisermos $P(capitú|casmurro)$ basta checar: "
   ]
  },
  {
   "cell_type": "code",
   "execution_count": 20,
   "metadata": {},
   "outputs": [
    {
     "data": {
      "text/plain": [
       "0.005112777497851152"
      ]
     },
     "execution_count": 20,
     "metadata": {},
     "output_type": "execute_result"
    }
   ],
   "source": [
    "tabela_casmurro_relativa[\"capitú\"]"
   ]
  },
  {
   "cell_type": "markdown",
   "metadata": {},
   "source": [
    "Notamos que na versão do *Gutenberg* a palavra *Capitú* aparece grafada com acento."
   ]
  },
  {
   "cell_type": "markdown",
   "metadata": {},
   "source": [
    "<div id=\"probabilidades-na-lingua-portuguesa\"></div>\n",
    "\n",
    "## Probabilidades na língua portuguesa\n",
    "\n",
    "Vamos fazer mais uma simplificação. Vamos assumir que o todo da língua portuguesa fosse formado pela fusão das obras *Dom Casmurro* e *Os Lusíadas*"
   ]
  },
  {
   "cell_type": "code",
   "execution_count": 21,
   "metadata": {},
   "outputs": [],
   "source": [
    "portugues = lusiadas + casmurro"
   ]
  },
  {
   "cell_type": "markdown",
   "metadata": {},
   "source": [
    "Podemos refazer a análise de probabilidades considerando este novo *corpus* de texto"
   ]
  },
  {
   "cell_type": "code",
   "execution_count": 22,
   "metadata": {},
   "outputs": [
    {
     "data": {
      "text/plain": [
       "que            0.043431\n",
       "a              0.035394\n",
       "e              0.035274\n",
       "o              0.030765\n",
       "de             0.027382\n",
       "não            0.016958\n",
       "                 ...   \n",
       "nhõ            0.000008\n",
       "asseio         0.000008\n",
       "severamente    0.000008\n",
       "obito          0.000008\n",
       "validas        0.000008\n",
       "lxxih          0.000008\n",
       "Length: 15611, dtype: float64"
      ]
     },
     "execution_count": 22,
     "metadata": {},
     "output_type": "execute_result"
    }
   ],
   "source": [
    "serie_portugues = pd.Series(portugues.split())\n",
    "tabela_portugues_relativa = serie_portugues.value_counts(True)\n",
    "tabela_portugues_relativa"
   ]
  },
  {
   "cell_type": "markdown",
   "metadata": {},
   "source": [
    "Desta forma, se quisermos saber a probabilidade da palavra *pintura* em toda a língua portuguesa, a notação seria simplesmente $P(pintura)$ porque estamos a assumir que trabalhamos com a totalidade da língua, ou seja **o conjunto universo**.\n",
    "\n",
    "E a probabilidade $P(pintura)$ é:"
   ]
  },
  {
   "cell_type": "code",
   "execution_count": 23,
   "metadata": {},
   "outputs": [
    {
     "data": {
      "text/plain": [
       "0.00010447893142163678"
      ]
     },
     "execution_count": 23,
     "metadata": {},
     "output_type": "execute_result"
    }
   ],
   "source": [
    "tabela_portugues_relativa[\"pintura\"]"
   ]
  },
  {
   "cell_type": "markdown",
   "metadata": {},
   "source": [
    "<div id=\"classificacao-lusiadas-ou-dom-casmurro\"></div>\n",
    "\n",
    "## Classificação: Lusíadas ou Dom Casmurro?\n",
    "\n",
    "Agora vamos ao problema que queremos resolver.\n",
    "\n",
    "Você precisa dizer se a frase *\"Contou que João como santo se verá vestido, de maneira  que virão a barba do marido\"* é mais provável de ter vindo de *Os Lusíadas* ou de *Dom Casmurro*.\n",
    "\n",
    "Ou seja, precisa decidir se:\n",
    "\n",
    "$P(Casmurro|frase) > P(Lusíadas|frase)$\n",
    "\n",
    "Vamos indicar $Casmurro$ como $C$ e $Lusíadas$ como $L$ para brevidade.\n",
    "\n",
    "O teorema de Bayes vai ser particularmente útil neste caso. Lembre-se que:\n",
    "\n",
    "$P(C|frase) = \\frac{P(frase|C)P(C)}{P(frase)}$\n",
    "\n",
    "e que:\n",
    "\n",
    "$P(L|frase) = \\frac{P(frase|L)P(L)}{P(frase)}$"
   ]
  },
  {
   "cell_type": "markdown",
   "metadata": {},
   "source": [
    "### Frase a classificar"
   ]
  },
  {
   "cell_type": "code",
   "execution_count": 24,
   "metadata": {},
   "outputs": [],
   "source": [
    "frase = \"Contou que João como santo se verá vestido, de maneira  que virão a barba do marido\""
   ]
  },
  {
   "cell_type": "markdown",
   "metadata": {},
   "source": [
    "Vamos converter primeiro em minúsculas e fazer a limpeza"
   ]
  },
  {
   "cell_type": "code",
   "execution_count": 25,
   "metadata": {},
   "outputs": [],
   "source": [
    "frase = cleanup(frase.lower())"
   ]
  },
  {
   "cell_type": "markdown",
   "metadata": {},
   "source": [
    "Agora a frase está assim"
   ]
  },
  {
   "cell_type": "code",
   "execution_count": 26,
   "metadata": {},
   "outputs": [
    {
     "data": {
      "text/plain": [
       "'contou que joão como santo se verá vestido  de maneira  que virão a barba do marido'"
      ]
     },
     "execution_count": 26,
     "metadata": {},
     "output_type": "execute_result"
    }
   ],
   "source": [
    "frase"
   ]
  },
  {
   "cell_type": "markdown",
   "metadata": {},
   "source": [
    "Em forma de lista, para facilitar o processamento:"
   ]
  },
  {
   "cell_type": "code",
   "execution_count": 27,
   "metadata": {},
   "outputs": [
    {
     "data": {
      "text/plain": [
       "['contou',\n",
       " 'que',\n",
       " 'joão',\n",
       " 'como',\n",
       " 'santo',\n",
       " 'se',\n",
       " 'verá',\n",
       " 'vestido',\n",
       " 'de',\n",
       " 'maneira',\n",
       " 'que',\n",
       " 'virão',\n",
       " 'a',\n",
       " 'barba',\n",
       " 'do',\n",
       " 'marido']"
      ]
     },
     "execution_count": 27,
     "metadata": {},
     "output_type": "execute_result"
    }
   ],
   "source": [
    "frase.split()"
   ]
  },
  {
   "cell_type": "markdown",
   "metadata": {},
   "source": [
    "<div id=\"a-ingenuidade-naive-bayes\"></div>\n",
    "\n",
    "### A ingenuidade - Naïve Bayes\n",
    "\n",
    "Agora vamos à parte ingênua do Naïve Bayes, que consiste em assumir que as palavras são independentes entre si e que sua ordem na frase não importa. \n",
    "\n",
    "\n",
    "Ou seja:\n",
    "\n",
    "$P(frase|C) = \n",
    "P(contou|C).P(que|C).P(joão|C).P(como|C).P(santo|C).P(se|C).P(verá|C).P(vestido|C).P(de|C).P(maneira|C).P(que|C).P(virão|C).P(a|C).P(barba|C).P(do|C).P(marido|C)$\n",
    "\n",
    "\n",
    "Vamos denotar $Casmurro$ simplesmente como $C$, para encurtar a fórmula\n",
    "\n",
    "\n",
    "\n",
    "\n",
    "A fórmula completa fica então:\n",
    "\n",
    "$P(C|frase) = \\frac{P(contou|C).P(que|C).P(joão|C).P(como|C).P(santo|C).P(se|C).P(verá|C).P(vestido|C).P(de|C).P(maneira|C).P(que|C).P(virão|C).P(a|C).P(barba|C).P(do|C).P(marido|C).P(C)}{P(frase)}$\n",
    "\n",
    "\n",
    "Da mesma forma, denotando *Os Lusíadas* como $L$ a fórmula completa fica:\n",
    "\n",
    "$P(L|frase) = \\frac{P(contou|L).P(que|L).P(joão|L).P(como|L).P(santo|L).P(se|L).P(verá|L).P(vestido|L).P(de|L).P(maneira|L).P(que|L).P(virão|L).P(a|L).P(barba|L).P(do|L).P(marido|L).P(L)}{P(frase)}$\n",
    "\n",
    "Note que precisamos somente classificar se $P(C|frase) > P(L|frase)$, de modo que podemos cancelar o denominador $P(frase)$ que aparece em ambos"
   ]
  },
  {
   "cell_type": "markdown",
   "metadata": {},
   "source": [
    "<div id=\"o-que-voce-deve-fazer\"></div>\n",
    "\n",
    "# O que você deve fazer\n",
    "\n",
    "<div id=\"ex1\"></div>\n",
    "\n",
    "### EXERCÍCIO 1\n",
    "\n",
    "Como podemos calcular os valores dos priors $P(C)$ e $P(L)$ ? Ou, colocando a pergunta em termos Bayesianos: o que é um *prior* razoável para se usar?\n",
    "\n",
    "**Dica**:\n",
    "\n",
    "Você pode usar proporção de número de palavras do conjunto *Lusíadas* e *Dom Casmurro* em relação ao total. Ou ainda proporção destas palavras ponderadas pela frequência absoluta\n",
    "\n",
    "Armazene o valor de $P(C)$ e $P(L)$ nas variáveis `probC` e `probL`, respectivamente."
   ]
  },
  {
   "cell_type": "code",
   "execution_count": 28,
   "metadata": {},
   "outputs": [],
   "source": [
    "# ESCREVA SEU CÓDIGO AQUI\n",
    "totalC = tabela_casmurro.value_counts().sum()\n",
    "totalL = tabela_lusiadas.value_counts().sum()\n",
    "total = totalC + totalL\n",
    "probC = totalC/total\n",
    "probL=totalL/total"
   ]
  },
  {
   "cell_type": "code",
   "execution_count": 29,
   "metadata": {},
   "outputs": [
    {
     "data": {
      "text/plain": [
       "0.49875201064950914"
      ]
     },
     "execution_count": 29,
     "metadata": {},
     "output_type": "execute_result"
    }
   ],
   "source": [
    "probC"
   ]
  },
  {
   "cell_type": "code",
   "execution_count": 30,
   "metadata": {},
   "outputs": [
    {
     "data": {
      "text/plain": [
       "0.5012479893504909"
      ]
     },
     "execution_count": 30,
     "metadata": {},
     "output_type": "execute_result"
    }
   ],
   "source": [
    "probL"
   ]
  },
  {
   "cell_type": "markdown",
   "metadata": {},
   "source": [
    "<div id=\"ex2\"></div>\n",
    "\n",
    "### EXERCÍCIO 2\n",
    "\n",
    "Calcule os termos: \n",
    "\n",
    "$$P(frase|L) = P(contou|L).P(que|L).P(joão|L).P(como|L).P(santo|L).P(se|L).P(verá|L).P(vestido|L).P(de|L).P(maneira|L).P(que|L).P(virão|L).P(a|L).P(barba|L).P(do|L).P(marido|L)$$\n",
    "\n",
    "e \n",
    "\n",
    "$$\n",
    "P(frase|C) = P(contou|C).P(que|C).P(joão|C).P(como|C).P(santo|C).P(se|C).P(verá|C).P(vestido|C).P(de|C).P(maneira|C).P(que|C).P(virão|C).P(a|C).P(barba|C).P(do|C).P(marido|C)$$\n",
    "\n",
    "Armazene o valor de $P(frase|L)$ e $P(frase|C)$ nas variáveis `probFraseDadoC` e `probFraseDadoL`."
   ]
  },
  {
   "cell_type": "code",
   "execution_count": 35,
   "metadata": {},
   "outputs": [
    {
     "data": {
      "text/plain": [
       "1.217979216877812e-47"
      ]
     },
     "execution_count": 35,
     "metadata": {},
     "output_type": "execute_result"
    }
   ],
   "source": [
    "# ESCREVA SEU CÓDIGO AQUI\n",
    "probFraseDadoC = 100\n",
    "for i in frase.split():\n",
    "    probFraseDadoC *= tabela_casmurro_relativa['{}'.format(i)]\n",
    "probFraseDadoC"
   ]
  },
  {
   "cell_type": "markdown",
   "metadata": {},
   "source": [
    "<div id=\"ex3\"></div>\n",
    "\n",
    "### EXERCÍCIO 3\n",
    "\n",
    "Calcule $P(L|frase)$ e $P(C|frase)$ como indicado acima. Lembre-se que não precisamos descobrir o valor de $P(frase)$, pois ele é denominador comum de ambos os lados da comparação. "
   ]
  },
  {
   "cell_type": "code",
   "execution_count": 42,
   "metadata": {},
   "outputs": [
    {
     "data": {
      "text/plain": [
       "1.2929786161098014e-46"
      ]
     },
     "execution_count": 42,
     "metadata": {},
     "output_type": "execute_result"
    }
   ],
   "source": [
    "# ESCREVA SEU CÓDIGO AQUI\n",
    "probFraseDadoL = 100\n",
    "for i in frase.split():\n",
    "    probFraseDadoL *= tabela_lusiadas_relativa['{}'.format(i)]\n",
    "probFraseDadoL"
   ]
  },
  {
   "cell_type": "markdown",
   "metadata": {},
   "source": [
    "<div id=\"ex4\"></div>\n",
    "\n",
    "### EXERCÍCIO 4\n",
    "\n",
    "Escreva seu parecer: você acha que o texto indicado pertence a Os Lusíadas ou a Dom Casmurro?"
   ]
  },
  {
   "cell_type": "code",
   "execution_count": 44,
   "metadata": {},
   "outputs": [
    {
     "name": "stdout",
     "output_type": "stream",
     "text": [
      "A frase pertence ao livro Lusíadas\n"
     ]
    }
   ],
   "source": [
    "# ESCREVA SEU CÓDIGO AQUI\n",
    "if probFraseDadoL > probFraseDadoC:\n",
    "    print('A frase pertence ao livro Lusíadas')\n",
    "else:\n",
    "    print('A frase pertence ao livro Dom Casmurro')"
   ]
  },
  {
   "cell_type": "markdown",
   "metadata": {},
   "source": [
    "ESCREVA SUA RESPOSTA AQUI"
   ]
  },
  {
   "cell_type": "markdown",
   "metadata": {},
   "source": [
    "<div id=\"o-que-pesquisar\"></div>\n",
    "\n",
    "# O que você deve pesquisar para fazer o Projeto 1\n",
    "\n",
    "No [texto recomendado](https://arxiv.org/pdf/1410.5329.pdf) estude o que fazer quando duas situações acontecerem:\n",
    "- Quando aparecem palavras inéditas para classificar\n",
    "- Quando a multiplicação das probabilidades é um valor tão pequeno que ocorre *underflow*"
   ]
  }
 ],
 "metadata": {
  "kernelspec": {
   "display_name": "Python 3",
   "language": "python",
   "name": "python3"
  },
  "language_info": {
   "codemirror_mode": {
    "name": "ipython",
    "version": 3
   },
   "file_extension": ".py",
   "mimetype": "text/x-python",
   "name": "python",
   "nbconvert_exporter": "python",
   "pygments_lexer": "ipython3",
   "version": "3.7.1"
  }
 },
 "nbformat": 4,
 "nbformat_minor": 2
}
