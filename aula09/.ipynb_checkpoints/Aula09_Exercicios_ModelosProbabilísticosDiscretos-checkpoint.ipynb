{
 "cells": [
  {
   "cell_type": "markdown",
   "metadata": {},
   "source": [
    "___\n",
    "# Exercícios: Modelos probabilísticos discretos e Dados\n",
    "___\n",
    "\n",
    "## Aula 09 - Exercícios\n",
    "\n",
    "<div id=\"indice\"></div>\n",
    "\n",
    "## Índice\n",
    "\n",
    "- [Microempresas](#microempresas)\n",
    "    - [Exercício 1](#ex1)\n",
    "    - [Exercício 2](#ex2)\n",
    "    - [Exercício 3](#ex3)\n",
    "    - [Exercício 4](#ex4)\n",
    "\n",
    "___\n",
    "\n",
    "<div id=\"microempresas\"></div>\n",
    "\n",
    "# <font color='blue'>Microempresas</font> \n",
    "\n",
    "A mortalidade de microempresas no primeiro ano de funcionamento é da ordem de 0,55. Deseja-se avaliar as causas da mortalidade. Para os exercícios a seguir, considere uma amostra de 10 empresas.\n",
    "\n",
    "**Preencha as respostas na APS 6, disponível no Blackboard.**"
   ]
  },
  {
   "cell_type": "markdown",
   "metadata": {},
   "source": [
    "<div id=\"ex1\"></div>\n",
    "\n",
    "### EXERCÍCIO 1\n",
    "\n",
    "Qual é a probabilidade de exatamente 5 empresas terem falido ao final do primeiro ano?"
   ]
  },
  {
   "cell_type": "code",
   "execution_count": 16,
   "metadata": {},
   "outputs": [],
   "source": [
    "n = 10\n",
    "p = 0.55"
   ]
  },
  {
   "cell_type": "code",
   "execution_count": 17,
   "metadata": {},
   "outputs": [
    {
     "data": {
      "text/plain": [
       "0.2340327075925782"
      ]
     },
     "execution_count": 17,
     "metadata": {},
     "output_type": "execute_result"
    }
   ],
   "source": [
    "from scipy import stats\n",
    "# ESCREVA SUA RESPOSTA AQUI\n",
    "stats.binom.pmf(5, n, p)"
   ]
  },
  {
   "cell_type": "markdown",
   "metadata": {},
   "source": [
    "<div id=\"ex2\"></div>\n",
    "\n",
    "### EXERCÍCIO 2\n",
    "\n",
    "Qual é a probabilidade de pelo menos 3 empresas virem a falir no primeiro ano?"
   ]
  },
  {
   "cell_type": "code",
   "execution_count": 18,
   "metadata": {},
   "outputs": [
    {
     "data": {
      "text/plain": [
       "0.9726081607386718"
      ]
     },
     "execution_count": 18,
     "metadata": {},
     "output_type": "execute_result"
    }
   ],
   "source": [
    "# ESCREVA SUA RESPOSTA AQUI\n",
    "1 - stats.binom.cdf(2, n, p)"
   ]
  },
  {
   "cell_type": "markdown",
   "metadata": {},
   "source": [
    "<div id=\"ex3\"></div>\n",
    "\n",
    "### EXERCÍCIO 3\n",
    "\n",
    "Sabe-se que pelo menos 3 empresas faliram no primeiro ano. Qual é a probabilidade de no máximo 5 terem falido?"
   ]
  },
  {
   "cell_type": "code",
   "execution_count": 19,
   "metadata": {},
   "outputs": [
    {
     "data": {
      "text/plain": [
       "0.48138971888756643"
      ]
     },
     "execution_count": 19,
     "metadata": {},
     "output_type": "execute_result"
    }
   ],
   "source": [
    "# ESCREVA SUA RESPOSTA AQUI\n",
    "# P(X <= 5|X >= 3) = P(X <= 5 & X >= 3)/P(X >= 3) = P(3 <= X <= 5)/P(X >= 3)\n",
    "PEntreTresECinco = stats.binom.cdf(5,n,p) - stats.binom.cdf(2,n,p)\n",
    "PMaiorQueTres = 1 - stats.binom.cdf(2, n,p)\n",
    "PEntreTresECinco/PMaiorQueTres"
   ]
  },
  {
   "cell_type": "markdown",
   "metadata": {},
   "source": [
    "<div id=\"ex4\"></div>\n",
    "\n",
    "### EXERCÍCIO 4\n",
    "\n",
    "Qual o número esperado de empresas que irão à falência no primeiro ano na amostra? E o desvio padrão?"
   ]
  },
  {
   "cell_type": "code",
   "execution_count": 21,
   "metadata": {},
   "outputs": [
    {
     "name": "stdout",
     "output_type": "stream",
     "text": [
      "Esperança: 5.5 empresas\n",
      "Desvio-padrão: 1.5732132722552272 empresas\n"
     ]
    }
   ],
   "source": [
    "# ESCREVA SUA RESPOSTA AQUI\n",
    "from math import sqrt\n",
    "\n",
    "esperanca = n*p\n",
    "var = n*p*(1-p)\n",
    "dp = sqrt(var)\n",
    "\n",
    "print(\"Esperança: {} empresas\".format(esperanca))\n",
    "print(\"Desvio-padrão: {} empresas\".format(dp))"
   ]
  }
 ],
 "metadata": {
  "anaconda-cloud": {},
  "kernelspec": {
   "display_name": "Python 3",
   "language": "python",
   "name": "python3"
  },
  "language_info": {
   "codemirror_mode": {
    "name": "ipython",
    "version": 3
   },
   "file_extension": ".py",
   "mimetype": "text/x-python",
   "name": "python",
   "nbconvert_exporter": "python",
   "pygments_lexer": "ipython3",
   "version": "3.7.1"
  }
 },
 "nbformat": 4,
 "nbformat_minor": 1
}
