{
 "cells": [
  {
   "cell_type": "markdown",
   "metadata": {},
   "source": [
    "___\n",
    "# Atividade: Combinação linear de variáveis aleatórias e propriedades de esperança e variância\n",
    "___\n",
    "\n",
    "## Aula 16 - Atividade\n",
    "\n",
    "<div id=\"indice\"></div>\n",
    "\n",
    "## Índice\n",
    "\n",
    "- [Motivação teórica](#motivacao)\n",
    "    - [Exercício 1](#ex1)\n",
    "- [O que significa fazer $X+Y$?](#significa)\n",
    "- [Programando valores para representar $X$, $Y$ e $X+Y$](#simulacao)\n",
    "    - [Simulação com uso de *loop*](#simulacao1)\n",
    "        - [Exercício 2](#ex2)\n",
    "    - [Melhorando a performance na simulação](#simulacao2)\n",
    "        - [Exercício 3](#ex3)\n",
    "        - [Exercício 4](#ex4)\n",
    "- [Contrastando com previsão teórica](#teoria)       \n",
    "- [Contrastando com previsão teórica](#propriedades)       \n",
    "    - [Exercício 5](#ex5)\n",
    " \n",
    "- [Lista de comandos utilizados neste notebook](#comandos)\n",
    "___"
   ]
  },
  {
   "cell_type": "code",
   "execution_count": 10,
   "metadata": {},
   "outputs": [],
   "source": [
    "import pandas as pd\n",
    "import numpy as np\n",
    "from scipy import stats\n",
    "import matplotlib.pyplot as plt\n",
    "%matplotlib inline"
   ]
  },
  {
   "cell_type": "markdown",
   "metadata": {},
   "source": [
    "___\n",
    "<div id=\"motivacao\"></div>\n",
    "\n",
    "## Motivação teórica\n",
    "\n",
    "A seguir, considere duas variáveis aleatórias $X$ e $Y$, ambas contínuas, cujo objetivo seja somá-las, ou seja, obter $X+Y$!\n",
    "\n",
    "Vamos criar um experimento considerando as seguintes distribuições e parâmetros para $X$ e $Y$, respectivamente:\n",
    "\n",
    " $X \\sim$ Uniforme$(4,7)$, ou seja, $a=4$ e $b=7$\n",
    "\n",
    "e \n",
    "\n",
    " $Y \\sim$ Exponencial$(1/3)$, ou seja, $\\lambda=1/3$ e $\\mu=3$."
   ]
  },
  {
   "cell_type": "markdown",
   "metadata": {},
   "source": [
    "<div id=\"ex1\"></div>\n",
    "\n",
    "### EXERCÍCIO 1\n",
    "\n",
    "Inicialmente, construa um gráfico de ambas as distribuições univariadamente. Veja **Aula12** caso tenha dúvidas com essas duas distribuições."
   ]
  },
  {
   "cell_type": "code",
   "execution_count": 19,
   "metadata": {},
   "outputs": [],
   "source": [
    "# ESCREVA SEU CÓDIGO AQUI\n",
    "mu = 3\n",
    "a = 4\n",
    "b = 7"
   ]
  },
  {
   "cell_type": "code",
   "execution_count": 20,
   "metadata": {},
   "outputs": [],
   "source": [
    "# Vamos criar uma faixa de valores para eixo x, válida para ambas as distribuições\n",
    "eixo_x = np.linspace(-1, 15, 300)"
   ]
  },
  {
   "cell_type": "code",
   "execution_count": 21,
   "metadata": {},
   "outputs": [
    {
     "data": {
      "image/png": "[encoded data removed]",
      "text/plain": [
       "<Figure size 432x288 with 1 Axes>"
      ]
     },
     "metadata": {
      "needs_background": "light"
     },
     "output_type": "display_data"
    }
   ],
   "source": [
    "fx_expon = stats.expon.pdf(eixo_x, scale = mu)\n",
    "fx_uniform = stats.uniform.pdf(eixo_x, loc = a, scale = b - a)\n",
    "\n",
    "plt.plot(eixo_x, fx_expon, color='orange')\n",
    "plt.plot(eixo_x, fx_uniform, color='red')\n",
    "plt.ylabel('densidade')\n",
    "plt.xlabel('valores de x')\n",
    "plt.title('Função densidade de probabilidade')\n",
    "plt.show()"
   ]
  },
  {
   "cell_type": "markdown",
   "metadata": {},
   "source": [
    "___\n",
    "<div id=\"significa\"></div>\n",
    "\n",
    "## O que significa fazer $X + Y$ ?\n",
    "\n",
    "Considere, **por exemplo**, que um produto passe por duas etapas na linha de produção e o tempo em cada etapa seja mensurados. Assim, assuma que:\n",
    "\n",
    "  * $X$ represente o tempo, em minutos, que um produto demora para passar pela etapa $1$; e\n",
    "  * $Y$ represente o tempo, em minutos, que o mesmo produto demora para passar pela etapa $2$ na linha de produção.\n",
    "  \n",
    "Assim, $W+X+Y$ deverá representar o tempo total que um produto demora para ficar pronto se esse precisa apenas dessas duas etapas na linha de produção.\n",
    "\n",
    "O que vamos entender agora é como podemos analisar o **valor esperado** e a **variância** de $W$ a partir de dados e depois considerando propriedades de esperança e variância."
   ]
  },
  {
   "cell_type": "markdown",
   "metadata": {},
   "source": [
    "___\n",
    "<div id=\"simulacao\"></div>\n",
    "\n",
    "## Programando valores para representar $X$, $Y$ e $X+Y$\n",
    "\n",
    "Para estudarmos como ficaria o valor esperado e a variância de $W=X+Y$ a partir de dados, devemos simular alguns valores hipotéticos para representar $X$ conforme a uniforme e $Y$ conforme a exponencial mencionada acima. \n",
    "\n",
    "Para tanto, no `scipy.stats`, a função que gera uma amostra de valores conforme uma distribuição qualquer é a função `rvs()` (de *random variable sample*). No nosso exemplo, vamos utilizar `uniform.rvs()` ou `expon.rvs` com os valores dos parâmetros adequadamente aos citados anteriormente.\n",
    "\n",
    "Assim, faremos:\n",
    "  * Simular $n$ valores para construir uma amostra de $X$ utilizando a distribuição uniforme\n",
    "  * Simular $n$ valores para construir uma amostra de $Y$ utilizando a distribuição exponencial\n",
    "  * A cada linha, somar os valores de $x$ e de $y$ para construir a coluna $w$, já que $W = X + Y$"
   ]
  },
  {
   "cell_type": "markdown",
   "metadata": {},
   "source": [
    "<div id=\"simulacao1\"></div>\n",
    "\n",
    "### Simulação com uso de *loop*:\n",
    "\n",
    "Simulação mais \"lenta\" por fazer uso de `for`. Aqui, será simulado um valor por vez para $x$ e para $y$, calculado a soma e aguardado em $w$."
   ]
  },
  {
   "cell_type": "code",
   "execution_count": 22,
   "metadata": {},
   "outputs": [],
   "source": [
    "n = 5000"
   ]
  },
  {
   "cell_type": "code",
   "execution_count": 23,
   "metadata": {},
   "outputs": [],
   "source": [
    "x_all = []\n",
    "y_all = []\n",
    "w_all = []\n",
    "\n",
    "for i in range(n):\n",
    "    x = uniform.rvs(loc=a, scale=b-a)\n",
    "    y = expon.rvs(scale=mu)\n",
    "    w = x+y\n",
    "    \n",
    "    # Guarda os n valores em lista\n",
    "    x_all.append(x)\n",
    "    y_all.append(y)\n",
    "    w_all.append(w)"
   ]
  },
  {
   "cell_type": "markdown",
   "metadata": {},
   "source": [
    "Dependendo das distribuições somadas, a nova distribuição resultante pode apresentar um outro formato. Ou seja, somar uma uniforme e uma exponencial, pode resultar numa terceira distribuição teórica que pode ou não ser facilmente conhecida na literatura estatística. \n",
    "\n",
    "Vamos visualizar o histograma dos valores de $x$, de $y$ e de $w$, esse último que deve indicar o formato da distribuição resultante."
   ]
  },
  {
   "cell_type": "code",
   "execution_count": 24,
   "metadata": {},
   "outputs": [
    {
     "data": {
      "image/png": "[encoded data removed]",
      "text/plain": [
       "<Figure size 1296x360 with 3 Axes>"
      ]
     },
     "metadata": {
      "needs_background": "light"
     },
     "output_type": "display_data"
    }
   ],
   "source": [
    "plt.figure(figsize=(18, 5))\n",
    "\n",
    "plt.subplot(131)\n",
    "plt.hist(x_all, bins=50, density=True,\n",
    "         color='blue', edgecolor='white', \n",
    "         linewidth=1, alpha=0.8)\n",
    "plt.ylabel('densidade')\n",
    "plt.xlabel('valores simulados para x')\n",
    "plt.title('Simulação - Uniforme')\n",
    "#plt.ylim(0,0.35)\n",
    "\n",
    "plt.subplot(132)\n",
    "plt.hist(y_all, bins=50, density=True,\n",
    "         color='orange', edgecolor='white', \n",
    "         linewidth=1, alpha=0.8)\n",
    "plt.ylabel('densidade')\n",
    "plt.xlabel('valores simulados para y')\n",
    "plt.title('Simulação - Exponencial')\n",
    "plt.ylim(0,0.35)\n",
    "\n",
    "plt.subplot(133)\n",
    "plt.hist(w_all, bins=50, density=True,\n",
    "         color='red', edgecolor='white', \n",
    "         linewidth=1, alpha=0.8)\n",
    "plt.ylabel('densidade')\n",
    "plt.xlabel('valores calculados para w')\n",
    "plt.title('W=X+Y')\n",
    "\n",
    "plt.show()"
   ]
  },
  {
   "cell_type": "markdown",
   "metadata": {},
   "source": [
    "\n",
    "**Pontos importantes:** \n",
    "\n",
    "Implementar $X+Y$ é somar os valores de $X$ com os valores de $Y$, linha a linha, e obter uma nova distribuição, cuja área também valerá $1$!!!"
   ]
  },
  {
   "cell_type": "markdown",
   "metadata": {},
   "source": [
    "<div id=\"ex2\"></div>\n",
    "\n",
    "### EXERCÍCIO 2\n",
    "\n",
    "Considerando os valores de `x_all`, `y_all` e `w_all`, calcule a média e variância de cada variável."
   ]
  },
  {
   "cell_type": "code",
   "execution_count": 59,
   "metadata": {},
   "outputs": [
    {
     "name": "stdout",
     "output_type": "stream",
     "text": [
      "Esperança de x: 13762.869585007247\n",
      "Esperança de y: 7562.6019505179975\n",
      "Esperança de w: 21325.4715355253\n",
      "\n",
      "Variância de x: 3543492417275.4517\n",
      "Variância de y: 415864588599.2165\n",
      "Variância de w: 15166705338620.777\n"
     ]
    }
   ],
   "source": [
    "# ESCREVA SEU CÓDIGO AQUI\n",
    "esperanca_x = 0\n",
    "for i in range(len(x_all)):\n",
    "    esperanca_x += i*x_all[i]\n",
    "\n",
    "esperanca_x /= len(x_all) \n",
    "\n",
    "var_x = 0\n",
    "for i in range(len(x_all)):\n",
    "    var_x += (i-esperanca_x)**2*x_all[i]\n",
    "    \n",
    "esperanca_y = 0\n",
    "for i in range(len(y_all)):\n",
    "    esperanca_y += i*y_all[i]\n",
    "    \n",
    "esperanca_y /= len(y_all)\n",
    "\n",
    "var_y = 0\n",
    "for i in range(len(y_all)):\n",
    "    var_y += (i-esperanca_y)**2*y_all[i]\n",
    "    \n",
    "esperanca_w = 0\n",
    "for i in range(len(w_all)):\n",
    "    esperanca_w += i*w_all[i]\n",
    "    \n",
    "esperanca_w /= len(w_all)\n",
    "\n",
    "var_w = 0\n",
    "for i in range(len(w_all)):\n",
    "    var_w += (i-esperanca_w)**2*w_all[i]\n",
    "    \n",
    "print(\"Esperança de x: {}\".format(esperanca_x))\n",
    "print(\"Esperança de y: {}\".format(esperanca_y))\n",
    "print(\"Esperança de w: {}\".format(esperanca_w))\n",
    "print(\"\")\n",
    "print(\"Variância de x: {}\".format(var_x))\n",
    "print(\"Variância de y: {}\".format(var_y))\n",
    "print(\"Variância de w: {}\".format(var_w))"
   ]
  },
  {
   "cell_type": "code",
   "execution_count": 61,
   "metadata": {},
   "outputs": [
    {
     "data": {
      "text/plain": [
       "3.0145016237231452"
      ]
     },
     "execution_count": 61,
     "metadata": {},
     "output_type": "execute_result"
    }
   ],
   "source": [
    "np.mean(y_all)"
   ]
  },
  {
   "cell_type": "markdown",
   "metadata": {},
   "source": [
    "___\n",
    "\n",
    "<div id=\"simulacao2\"></div>\n",
    "\n",
    "### Melhorando a performance na simulação:\n",
    "\n",
    "Agora, ao invés de fazer um *loop* para gerar $n$ amostras em Python, podemos pedir à função `rvs()` que realize $n$ sorteios diretamente utilizando o **argumento** `size = n`. "
   ]
  },
  {
   "cell_type": "code",
   "execution_count": 41,
   "metadata": {},
   "outputs": [],
   "source": [
    "x_All = uniform.rvs(loc=a, scale=b-a, size=n)\n",
    "y_All = expon.rvs(scale=mu, size=n)\n",
    "\n",
    "# note que estamos somando elemento a elemento de x_All e y_All e obtendo um novo array\n",
    "w_All = x_All + y_All "
   ]
  },
  {
   "cell_type": "markdown",
   "metadata": {},
   "source": [
    "Observe que os resultados gerados aqui não se alteram, de maneira geral, mas o desempenho é melhor (mais rápido)."
   ]
  },
  {
   "cell_type": "code",
   "execution_count": 42,
   "metadata": {},
   "outputs": [
    {
     "data": {
      "image/png": "[encoded data removed]",
      "text/plain": [
       "<Figure size 1296x360 with 3 Axes>"
      ]
     },
     "metadata": {
      "needs_background": "light"
     },
     "output_type": "display_data"
    }
   ],
   "source": [
    "plt.figure(figsize=(18, 5))\n",
    "\n",
    "plt.subplot(131)\n",
    "plt.hist(x_All, bins=50, density=True,\n",
    "         color='blue', edgecolor='white', \n",
    "         linewidth=1, alpha=0.8)\n",
    "plt.ylabel('densidade')\n",
    "plt.xlabel('valores simulados para x')\n",
    "plt.title('Simulação - Uniforme')\n",
    "#plt.ylim(0,0.35)\n",
    "\n",
    "plt.subplot(132)\n",
    "plt.hist(y_All, bins=50, density=True,\n",
    "         color='orange', edgecolor='white', \n",
    "         linewidth=1, alpha=0.8)\n",
    "plt.ylabel('densidade')\n",
    "plt.xlabel('valores simulados para y')\n",
    "plt.title('Simulação - Exponencial')\n",
    "plt.ylim(0,0.35)\n",
    "\n",
    "plt.subplot(133)\n",
    "plt.hist(w_All, bins=50, density=True,\n",
    "         color='red', edgecolor='white', \n",
    "         linewidth=1, alpha=0.8)\n",
    "plt.ylabel('densidade')\n",
    "plt.xlabel('valores calculados para w')\n",
    "plt.title('W=X+Y')\n",
    "\n",
    "plt.show()"
   ]
  },
  {
   "cell_type": "markdown",
   "metadata": {},
   "source": [
    "<div id=\"ex3\"></div>\n",
    "\n",
    "### EXERCÍCIO 3\n",
    "\n",
    "Considerando os valores de `x_All`, `y_All` e `w_All`, calcule a média e variância de cada variável. Ainda, calcule covariância e correlação entre `x_All` e `y_All`."
   ]
  },
  {
   "cell_type": "code",
   "execution_count": 52,
   "metadata": {},
   "outputs": [
    {
     "name": "stdout",
     "output_type": "stream",
     "text": [
      "Esperança de x: 68636498.30982143\n",
      "Esperança de y: 36286510.17885154\n",
      "Esperança de w: 104923008.48867317\n",
      "\n",
      "Variância de x: 1.2952987750802899e+20\n",
      "Variância de y: 1.9253410979567948e+19\n",
      "Variância de w: 4.636893024507751e+20\n",
      "\n",
      "Covariância entre X e Y: 2490578594250413.0\n",
      "Correlação entre X e Y: 4.987253377194091e-05\n"
     ]
    }
   ],
   "source": [
    "# ESCREVA SEU CÓDIGO AQUI\n",
    "from math import sqrt\n",
    "\n",
    "esperanca_x = 0\n",
    "for i in range(len(x_All)):\n",
    "    esperanca_x += i*x_All[i]\n",
    "\n",
    "var_x = 0\n",
    "for i in range(len(x_All)):\n",
    "    var_x += (i-esperanca_x)**2*x_All[i]\n",
    "    \n",
    "esperanca_y = 0\n",
    "for i in range(len(y_All)):\n",
    "    esperanca_y += i*y_All[i]\n",
    "\n",
    "var_y = 0\n",
    "for i in range(len(y_All)):\n",
    "    var_y += (i-esperanca_y)**2*y_All[i]\n",
    "    \n",
    "covarianciaXY = 0\n",
    "for i in range(len(x_All)):\n",
    "    covarianciaXY += (x_All[i]-esperanca_x)*(y_All[i]-esperanca_y)/len(x_All) \n",
    "    \n",
    "correlacaoXY = covarianciaXY/(sqrt(var_x)*sqrt(var_y))\n",
    "    \n",
    "esperanca_w = 0\n",
    "for i in range(len(w_All)):\n",
    "    esperanca_w += i*w_All[i]\n",
    "\n",
    "var_w = 0\n",
    "for i in range(len(w_all)):\n",
    "    var_w += (i-esperanca_w)**2*w_All[i]\n",
    "    \n",
    "print(\"Esperança de x: {}\".format(esperanca_x))\n",
    "print(\"Esperança de y: {}\".format(esperanca_y))\n",
    "print(\"Esperança de w: {}\".format(esperanca_w))\n",
    "print(\"\")\n",
    "print(\"Variância de x: {}\".format(var_x))\n",
    "print(\"Variância de y: {}\".format(var_y))\n",
    "print(\"Variância de w: {}\".format(var_w))\n",
    "print(\"\")\n",
    "print(\"Covariância entre X e Y: {}\".format(covarianciaXY))\n",
    "print(\"Correlação entre X e Y: {}\".format(correlacaoXY))"
   ]
  },
  {
   "cell_type": "markdown",
   "metadata": {},
   "source": [
    "<div id=\"ex4\"></div>\n",
    "\n",
    "### EXERCÍCIO 4\n",
    "\n",
    "Os valores de `x_All`, `y_All` e `w_All` foram colocados em um *dataframe* chamando `df`.\n",
    "\n",
    "Considerando as variáveis `X`, `Y` e `W` desse *dataframe*, calcule a média e variância de cada variável. Ainda, calcule covariância e correlação entre `X` e `Y`.\n",
    "\n",
    "Faça todas as contas utilizando comando do *pandas*.\n"
   ]
  },
  {
   "cell_type": "code",
   "execution_count": 53,
   "metadata": {
    "scrolled": true
   },
   "outputs": [
    {
     "data": {
      "text/html": [
       "<div>\n",
       "<style scoped>\n",
       "    .dataframe tbody tr th:only-of-type {\n",
       "        vertical-align: middle;\n",
       "    }\n",
       "\n",
       "    .dataframe tbody tr th {\n",
       "        vertical-align: top;\n",
       "    }\n",
       "\n",
       "    .dataframe thead th {\n",
       "        text-align: right;\n",
       "    }\n",
       "</style>\n",
       "<table border=\"1\" class=\"dataframe\">\n",
       "  <thead>\n",
       "    <tr style=\"text-align: right;\">\n",
       "      <th></th>\n",
       "      <th>X</th>\n",
       "      <th>Y</th>\n",
       "      <th>W</th>\n",
       "    </tr>\n",
       "  </thead>\n",
       "  <tbody>\n",
       "    <tr>\n",
       "      <th>0</th>\n",
       "      <td>4.652239</td>\n",
       "      <td>0.973421</td>\n",
       "      <td>5.625660</td>\n",
       "    </tr>\n",
       "    <tr>\n",
       "      <th>1</th>\n",
       "      <td>5.481498</td>\n",
       "      <td>0.569892</td>\n",
       "      <td>6.051390</td>\n",
       "    </tr>\n",
       "    <tr>\n",
       "      <th>2</th>\n",
       "      <td>6.320514</td>\n",
       "      <td>8.187761</td>\n",
       "      <td>14.508275</td>\n",
       "    </tr>\n",
       "    <tr>\n",
       "      <th>3</th>\n",
       "      <td>5.258405</td>\n",
       "      <td>5.569414</td>\n",
       "      <td>10.827819</td>\n",
       "    </tr>\n",
       "    <tr>\n",
       "      <th>4</th>\n",
       "      <td>6.374912</td>\n",
       "      <td>1.083900</td>\n",
       "      <td>7.458812</td>\n",
       "    </tr>\n",
       "  </tbody>\n",
       "</table>\n",
       "</div>"
      ],
      "text/plain": [
       "          X         Y          W\n",
       "0  4.652239  0.973421   5.625660\n",
       "1  5.481498  0.569892   6.051390\n",
       "2  6.320514  8.187761  14.508275\n",
       "3  5.258405  5.569414  10.827819\n",
       "4  6.374912  1.083900   7.458812"
      ]
     },
     "execution_count": 53,
     "metadata": {},
     "output_type": "execute_result"
    }
   ],
   "source": [
    "df = pd.DataFrame()\n",
    "df['X'] = x_All\n",
    "df['Y'] = y_All\n",
    "df['W'] = w_All\n",
    "df.head()"
   ]
  },
  {
   "cell_type": "code",
   "execution_count": 56,
   "metadata": {},
   "outputs": [],
   "source": [
    "# ESCREVA SEU CÓDIGO AQUI\n",
    "esperanca_x_pd = df['X'].mean()\n",
    "esperanca_y_pd = df['Y'].mean()\n",
    "esperanca_W_pd = df['W'].mean()\n",
    "\n",
    "var_x_pd = (df['X'].std()**2)\n",
    "var_y_pd = (df['Y'].std()**2)\n",
    "var_w_pd = (df['W'].std()**2)"
   ]
  },
  {
   "cell_type": "markdown",
   "metadata": {},
   "source": [
    "___\n",
    "<div id=\"teoria\"></div>\n",
    "\n",
    "\n",
    "## Contrastando com previsão teórica\n",
    "\n",
    "Dica: Reveja as aulas de **modelos probabilísticos contínuos** - uniforme e exponencial\n",
    "\n",
    "Relembrando:\n",
    "\n",
    "### Para a Uniforme:\n",
    "\n",
    "Utilizando o resultado teórica da distribuição Uniforme, temos que o valor esperado é dado por:\n",
    "\n",
    "$$E(X) = \\frac{a + b}{2} = 5.5$$\n",
    "\n",
    "Já a variância de uma variável com distribuição Yniforme é dada por:\n",
    "\n",
    "$$Var(X) = \\frac{(b-a)^2}{12} = 0.75$$\n",
    "\n",
    "\n",
    "### Para a exponencial:\n",
    "\n",
    "Utilizando o resultado teórica da distribuição Exponencial, temos que o valor esperado é dado por:\n",
    "\n",
    "$$E(Y) = \\mu = 3$$\n",
    "\n",
    "Já a variância de uma variável com distribuição Exponencial é dada por:\n",
    "\n",
    "$$Var(Y) = \\beta^2 = 9$$"
   ]
  },
  {
   "cell_type": "markdown",
   "metadata": {},
   "source": [
    "___\n",
    "<div id=\"propriedades\"></div>\n",
    "\n",
    "## Propriedades de esperança e variância em combinação linear de variáveis aleatórias\n",
    "\n",
    "\n",
    "### E(W): Valor esperado da W calculada a partir da teoria\n",
    "\n",
    "**Previsão teórica:**\n",
    "\n",
    "**$\\qquad E(W) = E(X)  + E(Y)$**\n",
    "\n",
    "$\\quad$\n",
    "\n",
    "### Var(W): Variância da W calculada a partir da teoria\n",
    "\n",
    "**Previsão teórica:**\n",
    "\n",
    "**$\\qquad Var(W) = Var(X) + Var(Y) + 2 * Cov(X,Y)$**\n",
    "\n",
    "$\\quad$\n",
    "\n",
    "Assuma que as variáveis $X$ e $Y$ são **INDEPENDENTES** até mesmo pela maneira que foram geradas.\n",
    "\n"
   ]
  },
  {
   "cell_type": "markdown",
   "metadata": {},
   "source": [
    "<div id=\"ex5\"></div>\n",
    "\n",
    "### EXERCÍCIO 5\n",
    "\n",
    "Considerando os resultados teóricos para $E(X)$, $E(Y)$, $Var(X)$, $Var(Y)$ e $Cov(X,Y)$, calcule o valor esperado e a variância de $W$. \n",
    "\n",
    "Compare os valores obtidos para $E(W)$ e $Var(W)$ com os obtidos nos exercícios [Exercício 2](#ex2), [Exercício 3](#ex3) e [Exercício 4](#ex4).\n"
   ]
  },
  {
   "cell_type": "code",
   "execution_count": null,
   "metadata": {},
   "outputs": [],
   "source": [
    "# ESCREVA SEU CÓDIGO AQUI"
   ]
  },
  {
   "cell_type": "code",
   "execution_count": null,
   "metadata": {},
   "outputs": [],
   "source": []
  },
  {
   "cell_type": "markdown",
   "metadata": {},
   "source": [
    "Comparando os resultados SIMULADOS com os calculados por PROPRIEDADES:"
   ]
  },
  {
   "cell_type": "code",
   "execution_count": null,
   "metadata": {},
   "outputs": [],
   "source": []
  },
  {
   "cell_type": "code",
   "execution_count": null,
   "metadata": {},
   "outputs": [],
   "source": []
  }
 ],
 "metadata": {
  "kernelspec": {
   "display_name": "Python 3",
   "language": "python",
   "name": "python3"
  },
  "language_info": {
   "codemirror_mode": {
    "name": "ipython",
    "version": 3
   },
   "file_extension": ".py",
   "mimetype": "text/x-python",
   "name": "python",
   "nbconvert_exporter": "python",
   "pygments_lexer": "ipython3",
   "version": "3.7.1"
  }
 },
 "nbformat": 4,
 "nbformat_minor": 4
}
