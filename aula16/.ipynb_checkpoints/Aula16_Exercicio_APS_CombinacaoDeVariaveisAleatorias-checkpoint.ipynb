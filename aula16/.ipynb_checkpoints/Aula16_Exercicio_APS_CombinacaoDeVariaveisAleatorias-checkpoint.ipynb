{
 "cells": [
  {
   "cell_type": "markdown",
   "metadata": {},
   "source": [
    "___\n",
    "# Exercícios: Combinação linear de variáveis aleatórias e propriedades de esperança e variância\n",
    "___\n",
    "\n",
    "## Aula 16 - APS\n",
    "\n",
    "<div id=\"indice\"></div>\n",
    "\n",
    "## Índice\n",
    "\n",
    "- [Exercício 1](#ex1)\n",
    "- [Exercício 2](#ex2)\n",
    "- [Exercício 3](#ex3)\n",
    "- [Exercício 4](#ex4)\n",
    "- [Exercício 5](#ex5)\n",
    "\n",
    "\n",
    "### Consulte o arquivo `Aula16_PropriedadesDeVariaveisAleatorias.ipynb` para consultas das propriedades de esperança e variância.\n",
    "___"
   ]
  },
  {
   "cell_type": "code",
   "execution_count": 6,
   "metadata": {},
   "outputs": [],
   "source": [
    "import pandas as pd\n",
    "import math\n",
    "import numpy as np\n",
    "from scipy.stats import uniform, expon, norm\n",
    "import matplotlib.pyplot as plt\n",
    "%matplotlib inline"
   ]
  },
  {
   "cell_type": "markdown",
   "metadata": {},
   "source": [
    "___\n",
    "<div id=\"ex1\"></div>\n",
    "\n",
    "### EXERCÍCIO 1\n",
    "\n",
    "Um processo industrial pode ser executado em duas etapas independentes. O tempo gasto em cada etapa leva, em média, 5 horas com desvio padrão de 10 horas.\n",
    "\n",
    "Um engenheiro resolveu modificar o processo de produção fazendo com que seja executado numa única fase, cujo novo tempo de execução agora é o dobro da primeira etapa do processo atual.\n",
    "\n",
    "O novo processo proposto pelo engenheiro deve ser adotado?\n",
    "\n",
    "**Escolha a alternativa mais adequada na Questão 1 da APS 7, no Blackboard**."
   ]
  },
  {
   "cell_type": "code",
   "execution_count": 7,
   "metadata": {},
   "outputs": [
    {
     "name": "stdout",
     "output_type": "stream",
     "text": [
      "Esperança atual: 10, Variância atual: 200\n",
      "Esperança nova: 10, Variância nova: 400\n"
     ]
    }
   ],
   "source": [
    "E_X = 5\n",
    "Std_X = 10\n",
    "Var_X = Std_X**2 \n",
    "\n",
    "# E(Atual) = E(X1+X2) = E(X1) + E(X2)\n",
    "E_X_Atual = E_X + E_X\n",
    "\n",
    "# Var(Atual) = Var(X1+X2) = Var(X1) + Var(X2) + 2.Cov(X1,X2)\n",
    "# Mas são independentes, então Cov = 0.\n",
    "Var_X_Atual = Var_X + Var_X + 2*0\n",
    "\n",
    "\n",
    "# E(Nova) = E(2.X1) = 2.E(X1)\n",
    "E_X_Nova = 2*E_X\n",
    "\n",
    "# Var(Nova) = Var(2.X1) = 2².Var(X1)\n",
    "Var_X_Nova = 2**2*Var_X \n",
    "\n",
    "print(\"Esperança atual: {0}, Variância atual: {1}\".format(E_X_Atual, Var_X_Atual))\n",
    "print(\"Esperança nova: {0}, Variância nova: {1}\".format(E_X_Nova, Var_X_Nova))"
   ]
  },
  {
   "cell_type": "markdown",
   "metadata": {},
   "source": [
    "Não, pois a espernça se mantem mas a variância aumenta com esse novo processo, deixando o processo industrial mais \"imprevisível\"."
   ]
  },
  {
   "cell_type": "markdown",
   "metadata": {},
   "source": [
    "___\n",
    "\" **Quanto custa em média?**\n",
    "\n",
    "O fluido de freio custa, em média, 50 reais. As pastilhas possuem variação alta: em um carro popular custa 80 reais o par, mas pode chegar a 500 reais em um importado. O par das lonas de freio custa 80 reais, o de tambor 180 reais e o de disco 250 reais.\" Extraído da [Revista Auto Esporte](https://revistaautoesporte.globo.com/Servico/autoajuda/noticia/2015/05/autoajuda-freios.html).\n",
    "\n",
    "___\n",
    "<div id=\"ex2\"></div>\n",
    "\n",
    "### EXERCÍCIO 2\n",
    "\n",
    "Com a reportagem acima, vimos que as pastilhas de freio têm preços variados, a depender de diversos fatores como marca do carro.\n",
    "\n",
    "Em uma determinada loja de autopeças, o preço médio das pastilhas de freio é de 112 reais, com um desvio-padrão associado a essa variável de 22 reais. \n",
    "\n",
    "Um pessoa entra nessa loja e deseja comprar três pastilhas de freio, sendo todas iguais.\n",
    "\n",
    "Qual o gasto total esperado dessa pessoa e respectivo desvio padrão?\n",
    "\n",
    "**Responda o valor esperado e desvio padrão na Questão 3 da APS 7, no Blackboard**."
   ]
  },
  {
   "cell_type": "code",
   "execution_count": 11,
   "metadata": {},
   "outputs": [
    {
     "name": "stdout",
     "output_type": "stream",
     "text": [
      "Esperança nova: 336, Desvio-padrão novo: 66.0\n"
     ]
    }
   ],
   "source": [
    "E_X = 112\n",
    "Std_X = 22\n",
    "Var_X = Std_X**2\n",
    "\n",
    "# E(3.X) = 3.E(X)\n",
    "E_X_Nova = 3*E_X\n",
    "\n",
    "# Var(3.X) = 3².Var(X)\n",
    "Var_X_Nova = 3**2*Var_X\n",
    "Std_Novo = math.sqrt(Var_X_Nova)\n",
    "\n",
    "print(\"Esperança nova: {0}, Desvio-padrão novo: {1}\".format(E_X_Nova, Std_Novo))"
   ]
  },
  {
   "cell_type": "markdown",
   "metadata": {},
   "source": [
    "___\n",
    "<div id=\"ex3\"></div>\n",
    "\n",
    "### EXERCÍCIO 3\n",
    "\n",
    "Com a reportagem acima, vimos que as pastilhas de freio têm preços variados, a depender de diversos fatores como marca do carro.\n",
    "\n",
    "Em uma determinada loja de autopeças, o preço médio das pastilhas de freio é de 112 reais, com um desvio-padrão associado a essa variável de 22 reais. \n",
    "\n",
    "Uma outra pessoa entra nessa loja e deseja comprar três pastilhas de freio, porém fará escolhas indenpendentes e não necessariamente iguais.\n",
    "Qual o gasto total esperado dessa outra pessoa e respectivo desvio padrão?\n",
    "\n",
    "\n",
    "\n",
    "**Responda o valor esperado e desvio padrão na Questão 4 da APS 7, no Blackboard**."
   ]
  },
  {
   "cell_type": "code",
   "execution_count": 12,
   "metadata": {},
   "outputs": [
    {
     "name": "stdout",
     "output_type": "stream",
     "text": [
      "Esperança nova: 336, Desvio-padrão novo: 38.1051177665153\n"
     ]
    }
   ],
   "source": [
    "# E(X1+X2+X3) = E(X1) + E(X2) + E(X3)\n",
    "E_X_Nova = E_X+ E_X + E_X\n",
    "\n",
    "# Var(X1+X2+X3) = Var(X1) + Var(X2) + Var(X3)\n",
    "Var_X_Nova = Var_X + Var_X + Var_X\n",
    "Std_Novo = math.sqrt(Var_X_Nova)\n",
    "\n",
    "print(\"Esperança nova: {0}, Desvio-padrão novo: {1}\".format(E_X_Nova, Std_Novo))"
   ]
  },
  {
   "cell_type": "markdown",
   "metadata": {},
   "source": [
    "___\n",
    "<div id=\"ex4\"></div>\n",
    "\n",
    "### EXERCÍCIO 4\n",
    "\n",
    "Joãozinho sai de casa para comprar um notebook e um celular novos!\n",
    "\n",
    "O notebook tem preço médio de R$\\rm{$}$ 2.500,00, com desvio padrão igual a R$\\rm{\\$}$ 1.000,00.\n",
    "\n",
    "O celular tem preço médio de R$\\rm{$}$ 1.300,00, com desvio padrão igual a R$\\rm{$}$ 700,00.\n",
    "\n",
    "Assuma que os preços desses produtos sejam independentes.\n",
    "\n",
    "Joãozinho sabe que terá um gasto alto e, por isso, irá de ônibus. Com isso, deverá acrescentar mais R$\\rm{$}$40,00 de gasto.\n",
    "\n",
    "Qual o gasto esperado e respectivo desvio padrão de Joãozinho?\n",
    "\n",
    "\n",
    "**Responda o valor esperado e desvio padrão na Questão 5 da APS 7, no Blackboard**."
   ]
  },
  {
   "cell_type": "code",
   "execution_count": 10,
   "metadata": {},
   "outputs": [
    {
     "name": "stdout",
     "output_type": "stream",
     "text": [
      "E(Gasto) = 3840\n",
      "DP(Gasto) = 1220.6555615733703\n"
     ]
    }
   ],
   "source": [
    "E_Notebook = 2500\n",
    "Std_Notebook = 1000\n",
    "Var_Notebook = Std_Notebook**2\n",
    "\n",
    "E_Celular = 1300\n",
    "Std_Celular = 700\n",
    "Var_Celular = Std_Celular**2\n",
    "\n",
    "# E(Gasto) = E(Celular + Notebook + 40) = E(Celular) + E(Notebook) + 40\n",
    "E_Gasto = E_Celular + E_Notebook + 40\n",
    "\n",
    "# Var(Gasto) = Var(Celular + Notebook + 40) = Var(Celular) + Var(Notebook)\n",
    "Var_Gasto = Var_Celular + Var_Notebook\n",
    "Std_Gasto = math.sqrt(Var_Gasto)\n",
    "\n",
    "print(\"E(Gasto) = {}\".format(E_Gasto))\n",
    "print(\"DP(Gasto) = {}\".format(Std_Gasto))"
   ]
  },
  {
   "cell_type": "markdown",
   "metadata": {},
   "source": [
    "___\n",
    "<div id=\"ex5\"></div>\n",
    "\n",
    "### EXERCÍCIO 5\n",
    "\n",
    "Aninha é mãe de bebezinhos gêmeos.\n",
    "\n",
    "Ela sairá de casa para comprar uma roupa e um brinquedo para cada um.\n",
    "\n",
    "O preço médio da roupa é de R$\\rm{$}$ 60,00, com desvio padrão igual a R$\\rm{$}$ 15,00.\n",
    "\n",
    "O preço médio do brinquedo é de R$\\rm{$}$ 75,00, com desvio padrão igual a R$\\rm{$}$ 25,00.\n",
    "\n",
    "Assuma que esses produtos tenham preços variando de forma independente entre si.\n",
    "\n",
    "\n",
    "Aninha deseja comprar roupas iguais para os gêmeos, mas os brinquedos não necessariamente serão os mesmos.\n",
    "\n",
    "Nesse caso, qual o gasto esperado de Aninha e o respectivo desvio padrão?\n",
    "\n",
    "**Responda o valor esperado e desvio padrão na Questão 6 da APS 7, no Blackboard**."
   ]
  },
  {
   "cell_type": "code",
   "execution_count": 9,
   "metadata": {},
   "outputs": [
    {
     "name": "stdout",
     "output_type": "stream",
     "text": [
      "E(Gasto) = 270\n",
      "DP(Gasto) = 46.36809247747852\n"
     ]
    }
   ],
   "source": [
    "E_Roupa = 60\n",
    "Std_Roupa = 15\n",
    "Var_Roupa = Std_Roupa**2\n",
    "\n",
    "E_Brinq = 75\n",
    "Std_Brinq = 25\n",
    "Var_Brinq = Std_Brinq**2\n",
    "\n",
    "# Independentes !!!\n",
    "# E(Gasto) = E(2.Roupa + Brinq1 + Brinq2) = 2.E(Roupa) + E(Brinq1) + E(Brinq2)\n",
    "E_Gasto = 2*E_Roupa + 2*E_Brinq\n",
    "\n",
    "# Var(Gasto) = Var(2.Roupa + Brinq1 + Brinq2) = 2².Var(Roupa) + Var(Brinq1) + Var(Brinq2)\n",
    "Var_Gasto = 4*Var_Roupa + Var_Brinq + Var_Brinq\n",
    "Std_Gasto  = math.sqrt(Var_Gasto)\n",
    "\n",
    "print(\"E(Gasto) = {}\".format(E_Gasto))\n",
    "print(\"DP(Gasto) = {}\".format(Std_Gasto))"
   ]
  }
 ],
 "metadata": {
  "hide_input": false,
  "kernelspec": {
   "display_name": "Python 3",
   "language": "python",
   "name": "python3"
  },
  "language_info": {
   "codemirror_mode": {
    "name": "ipython",
    "version": 3
   },
   "file_extension": ".py",
   "mimetype": "text/x-python",
   "name": "python",
   "nbconvert_exporter": "python",
   "pygments_lexer": "ipython3",
   "version": "3.7.1"
  }
 },
 "nbformat": 4,
 "nbformat_minor": 4
}
