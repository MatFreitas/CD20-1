{
 "cells": [
  {
   "cell_type": "markdown",
   "metadata": {},
   "source": [
    "**APS3**"
   ]
  },
  {
   "cell_type": "markdown",
   "metadata": {},
   "source": [
    "**EXERCÍCIO 1**"
   ]
  },
  {
   "cell_type": "code",
   "execution_count": 17,
   "metadata": {},
   "outputs": [
    {
     "data": {
      "text/plain": [
       "0.74"
      ]
     },
     "execution_count": 17,
     "metadata": {},
     "output_type": "execute_result"
    }
   ],
   "source": [
    "#P_A = Comprar carro A\n",
    "#P_Ac = Comprar carro B\n",
    "#P_P = Comprar carro popular\n",
    "#P_Pc = Comprar carro não-popular\n",
    "P_A_dado_P = 0.7\n",
    "P_A_dado_Pc = 0.8\n",
    "P_P = 0.6\n",
    "P_Pc = 0.4\n",
    "P_A = P_A_dado_P*P_P + P_A_dado_Pc*P_Pc\n",
    "P_A"
   ]
  },
  {
   "cell_type": "code",
   "execution_count": 18,
   "metadata": {},
   "outputs": [
    {
     "data": {
      "text/plain": [
       "0.5675675675675675"
      ]
     },
     "execution_count": 18,
     "metadata": {},
     "output_type": "execute_result"
    }
   ],
   "source": [
    "P_P_dado_A = (P_A_dado_P*P_P)/P_A\n",
    "P_P_dado_A"
   ]
  },
  {
   "cell_type": "markdown",
   "metadata": {},
   "source": [
    "**EXERCÍCIO 2**"
   ]
  },
  {
   "cell_type": "code",
   "execution_count": 19,
   "metadata": {},
   "outputs": [
    {
     "data": {
      "text/plain": [
       "0.0037"
      ]
     },
     "execution_count": 19,
     "metadata": {},
     "output_type": "execute_result"
    }
   ],
   "source": [
    "#P_V = Processo feito em alta velocidade\n",
    "#P_Vc = Processo feito em baixa velocidade\n",
    "#P_E = Enchimento correto\n",
    "#P_Ec= Enchimento incorreto\n",
    "P_Ec_dado_Vc = 0.001\n",
    "P_Ec_dado_V = 0.01\n",
    "P_V = 0.3\n",
    "P_Vc = 0.7\n",
    "P_Ec = P_Ec_dado_Vc*P_Vc + P_Ec_dado_V*P_V\n",
    "P_Ec"
   ]
  },
  {
   "cell_type": "code",
   "execution_count": 20,
   "metadata": {},
   "outputs": [
    {
     "data": {
      "text/plain": [
       "0.8108108108108107"
      ]
     },
     "execution_count": 20,
     "metadata": {},
     "output_type": "execute_result"
    }
   ],
   "source": [
    "P_V_dado_Ec = (P_Ec_dado_V*P_V)/P_Ec\n",
    "P_V_dado_Ec"
   ]
  },
  {
   "cell_type": "markdown",
   "metadata": {},
   "source": [
    "**EXERCÍCIO 3**"
   ]
  },
  {
   "cell_type": "code",
   "execution_count": 30,
   "metadata": {},
   "outputs": [
    {
     "data": {
      "text/plain": [
       "0.9840649499999999"
      ]
     },
     "execution_count": 30,
     "metadata": {},
     "output_type": "execute_result"
    }
   ],
   "source": [
    "#P_C = Codificação sem erro\n",
    "#P_Cc = Codificação com erro\n",
    "#P_T = Transmissão sem erro\n",
    "#P_Tc = Transmissão com erro\n",
    "#P_D = Decodificação sem erro\n",
    "#P_Dc = Decodificação com erro\n",
    "#P_M = Mensagem com erro\n",
    "#P_Mc = Mensagem com err0\n",
    "P_Cc = 0.005\n",
    "P_C = 1 - P_Cc\n",
    "P_Tc = 0.01\n",
    "P_T = 1 - P_Tc\n",
    "P_Dc = 0.001\n",
    "P_D = 1 - P_Dc\n",
    "P_M = P_C*P_T*P_D\n",
    "P_M"
   ]
  },
  {
   "cell_type": "code",
   "execution_count": 31,
   "metadata": {},
   "outputs": [
    {
     "data": {
      "text/plain": [
       "5e-06"
      ]
     },
     "execution_count": 31,
     "metadata": {},
     "output_type": "execute_result"
    }
   ],
   "source": [
    "P_Cc_e_Dc = P_Cc * P_Dc\n",
    "P_Cc_e_Dc\n",
    "5*(10**)"
   ]
  },
  {
   "cell_type": "markdown",
   "metadata": {},
   "source": [
    "**EXERCÍCIO 4**"
   ]
  },
  {
   "cell_type": "code",
   "execution_count": 23,
   "metadata": {},
   "outputs": [
    {
     "data": {
      "text/plain": [
       "0.4624591947769314"
      ]
     },
     "execution_count": 23,
     "metadata": {},
     "output_type": "execute_result"
    }
   ],
   "source": [
    "#P_D = Lado Direito\n",
    "#P_Dc = Lado Esquerdo\n",
    "#P_R = Relaxado\n",
    "#P_Rc = Nervoso\n",
    "P_D = 0.5\n",
    "P_Dc = 1 - P_D\n",
    "P_R_dado_D = 0.85\n",
    "P_D_dado_R = 0.919\n",
    "P_R = (P_R_dado_D*P_D)/P_D_dado_R\n",
    "P_R"
   ]
  },
  {
   "cell_type": "code",
   "execution_count": 24,
   "metadata": {},
   "outputs": [
    {
     "data": {
      "text/plain": [
       "0.8604757085020243"
      ]
     },
     "execution_count": 24,
     "metadata": {},
     "output_type": "execute_result"
    }
   ],
   "source": [
    "P_Rc = 1 - P_R\n",
    "P_Rc_dado_D = 1 - P_R_dado_D\n",
    "P_D_dado_Rc = (P_Rc_dado_D*P_D)/P_Rc\n",
    "P_Dc_dado_Rc = 1 - P_D_dado_Rc \n",
    "P_Dc_dado_Rc"
   ]
  },
  {
   "cell_type": "code",
   "execution_count": null,
   "metadata": {},
   "outputs": [],
   "source": []
  }
 ],
 "metadata": {
  "kernelspec": {
   "display_name": "Python 3",
   "language": "python",
   "name": "python3"
  },
  "language_info": {
   "codemirror_mode": {
    "name": "ipython",
    "version": 3
   },
   "file_extension": ".py",
   "mimetype": "text/x-python",
   "name": "python",
   "nbconvert_exporter": "python",
   "pygments_lexer": "ipython3",
   "version": "3.7.1"
  }
 },
 "nbformat": 4,
 "nbformat_minor": 2
}
