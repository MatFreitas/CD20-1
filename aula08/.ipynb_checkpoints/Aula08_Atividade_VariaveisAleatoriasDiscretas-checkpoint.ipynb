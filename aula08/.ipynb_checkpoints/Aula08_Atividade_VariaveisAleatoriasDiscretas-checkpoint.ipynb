{
 "cells": [
  {
   "cell_type": "markdown",
   "metadata": {},
   "source": [
    "# Aula 09 - Variáveis aleatórias discretas\n",
    "___\n",
    "\n",
    "\n",
    "<div id=\"indice\"></div>\n",
    "\n",
    "## Índice\n",
    "\n",
    "- [Corretora de Seguros](#corretora-de-seguros)\n",
    "    - [Exercício 1](#ex1)\n",
    "    - [Simulando as vendas de um corretor](#simulando-as-vendas)\n",
    "    - [Exercício 2](#ex2)\n",
    "    - [Exercício 3](#ex3)\n",
    "    - [Exercício 4](#ex4)\n",
    "    - [Exercício 5](#ex5)\n",
    "    - [Exercício 6](#ex6)\n",
    "    - [Exercício 7](#ex7)"
   ]
  },
  {
   "cell_type": "code",
   "execution_count": 65,
   "metadata": {},
   "outputs": [],
   "source": [
    "import numpy as np\n",
    "import random\n",
    "import pandas as pd"
   ]
  },
  {
   "cell_type": "markdown",
   "metadata": {},
   "source": [
    "___\n",
    "\n",
    "<div id=\"corretora-de-seguros\"></div>\n",
    "\n",
    "## Corretora de Seguros\n",
    "\n",
    "Uma corretora de seguros paga uma comissão de R\\\\$50,00 a cada novo seguro que um corretor vende. A probabilidade de um cliente adquirir o seguro é de 0,20. \n",
    "\n",
    "1. Descreva como pode se comportar a comissão se um corretor ao abordar 2 clientes de maneira independente um do outro.\n",
    "1. Qual a probabilidade de um corretor ganhar apenas R\\\\$50,00?\n",
    "\n",
    "Vamos considerar os eventos:\n",
    "\n",
    "- $S_i$: o cliente $i$ compra o seguro;\n",
    "- $N_i = S_i^C$: o cliente $i$ não compra o seguro.\n",
    "\n",
    "Pelo enunciado sabemos que:\n",
    "\n",
    "- $P(S_i) = 0.2$\n",
    "- $P(N_i) = P(S_i^C) = 1 - P(S_i) = 0.8$\n",
    "\n",
    "Listando todas as possíveis combinações de eventos, temos:\n",
    "\n",
    "Cliente 1 | Cliente 2 | Probabilidade         | Valor da comissão\n",
    "--------- | --------- | --------------------- | -----------------\n",
    "$N_1$     | $N_2$     | $P(N_1)P(N_2) = 0.64$ | 0\n",
    "$N_1$     | $S_2$     | $P(N_1)P(S_2) = 0.16$ | 50\n",
    "$S_1$     | $N_2$     | $P(S_1)P(N_2) = 0.16$ | 50\n",
    "$S_1$     | $S_2$     | $P(S_1)P(S_2) = 0.04$ | 100\n",
    "\n",
    "Estamos interessados no valor da comissão de um corretor. Para isso, vamos definir a variável aleatória:\n",
    "\n",
    "- $C$: valor da comissão do corretor.\n",
    "\n",
    "Assim, o item 2 pode ser interpretado como: qual é o valor de $P(C=50)$?\n",
    "\n",
    "Consultando a tabela calculada acima, vemos que $P(C=50) = 0.16 + 0.16 = 0.32$.\n",
    "\n",
    "<div id=\"ex1\"></div>\n",
    "\n",
    "### EXERCÍCIO 1\n",
    "\n",
    "Calcule o valor esperado e a variância da variável $C$."
   ]
  },
  {
   "cell_type": "code",
   "execution_count": 66,
   "metadata": {},
   "outputs": [],
   "source": [
    "# Definindo o valor das probabilidades\n",
    "P_C0 = 0.64\n",
    "P_C50 = 0.32\n",
    "P_C100 = 0.04"
   ]
  },
  {
   "cell_type": "code",
   "execution_count": 67,
   "metadata": {},
   "outputs": [
    {
     "name": "stdout",
     "output_type": "stream",
     "text": [
      "E(C): 20.0 reais ²\n"
     ]
    }
   ],
   "source": [
    "# ESCREVA SEU CÓDIGO AQUI\n",
    "E_X = 0*P_C0 + 50*P_C50 + 100*P_C100\n",
    "Var = (0-E_X)**2*P_C0 + (50-E_X)**2*P_C50 + (100-E_X)**2*P_C100\n",
    "print(\"E(C): {} reais ²\".format(E_X))"
   ]
  },
  {
   "cell_type": "code",
   "execution_count": 68,
   "metadata": {},
   "outputs": [
    {
     "name": "stdout",
     "output_type": "stream",
     "text": [
      "Var: 800.0 reais ²\n"
     ]
    }
   ],
   "source": [
    "print(\"Var: {} reais ²\".format(Var))"
   ]
  },
  {
   "cell_type": "markdown",
   "metadata": {},
   "source": [
    "<div id=\"simulando-as-vendas\"></div>\n",
    "\n",
    "### Simulando as vendas de um corretor\n",
    "\n",
    "Para termos uma melhor intuição sobre o significado do valor esperado e variância de $C$, ou seja, $E(C)$, vamos realizar uma simulação. Como conhecemos as probabilidades, podemos simular as vendas de um determinado corretor. Considere a função a seguir:"
   ]
  },
  {
   "cell_type": "code",
   "execution_count": 69,
   "metadata": {},
   "outputs": [],
   "source": [
    "# Simula uma venda ocorrendo com probabilidade 0.2\n",
    "def simula_venda():\n",
    "    p = random.random()\n",
    "    if p <= 0.2:\n",
    "        vendeu = True\n",
    "    else:\n",
    "        vendeu = False\n",
    "    return vendeu\n",
    "\n",
    "# Simula a comissao de duas abordagens a clientes\n",
    "def simula_comissao_total(valor_da_comissao):\n",
    "    venda1 = simula_venda()\n",
    "    venda2 = simula_venda()\n",
    "    comissao = 0\n",
    "    if venda1:\n",
    "        comissao += valor_da_comissao\n",
    "    if venda2:\n",
    "        comissao += valor_da_comissao\n",
    "    return comissao"
   ]
  },
  {
   "cell_type": "markdown",
   "metadata": {},
   "source": [
    "Vamos repetir a simulação `n` vezes. A série a seguir contém a comissão de 100 simulações."
   ]
  },
  {
   "cell_type": "code",
   "execution_count": 70,
   "metadata": {},
   "outputs": [
    {
     "data": {
      "text/plain": [
       "0      0\n",
       "1      0\n",
       "2      0\n",
       "3     50\n",
       "4      0\n",
       "5      0\n",
       "6    100\n",
       "7      0\n",
       "8      0\n",
       "9      0\n",
       "dtype: int64"
      ]
     },
     "execution_count": 70,
     "metadata": {},
     "output_type": "execute_result"
    }
   ],
   "source": [
    "def simula_n_vezes(n, valor_da_comissao, valor_fixo):    \n",
    "    simulacoes = []\n",
    "    for i in range(n):\n",
    "        comissao = simula_comissao_total(valor_da_comissao) + valor_fixo\n",
    "        simulacoes.append(comissao)\n",
    "    return pd.Series(simulacoes)\n",
    "    \n",
    "n = 10\n",
    "valor_da_comissao = 50\n",
    "simulacoes = simula_n_vezes(n, valor_da_comissao, 0)\n",
    "simulacoes"
   ]
  },
  {
   "cell_type": "markdown",
   "metadata": {},
   "source": [
    "Vamos verificar a comissão média recebida nas simulações. Além disso, vamos imprimir também a variância."
   ]
  },
  {
   "cell_type": "code",
   "execution_count": 71,
   "metadata": {},
   "outputs": [
    {
     "name": "stdout",
     "output_type": "stream",
     "text": [
      "Média = 15.0\n",
      "Variância = 1025.0\n"
     ]
    }
   ],
   "source": [
    "media = simulacoes.mean()\n",
    "variancia = simulacoes.var(ddof=0)  # Pesquise o que significa o argumento ddof=0\n",
    "print('Média = {0}\\nVariância = {1}'.format(media, variancia))"
   ]
  },
  {
   "cell_type": "markdown",
   "metadata": {},
   "source": [
    "Esse valor é possívelmente bastante diferente do valor esperado calculado no [exercício 1](#ex1). Vamos verificar o que acontece quando aumentamos a quantidade de simulações:\n",
    "\n",
    "<div id=\"n-simulacoes\"></div>"
   ]
  },
  {
   "cell_type": "code",
   "execution_count": 72,
   "metadata": {},
   "outputs": [
    {
     "name": "stdout",
     "output_type": "stream",
     "text": [
      "Simulando n = 10 vezes:\n",
      "    comissão média = 25.0\n",
      "    variância = 625.0\n",
      "Simulando n = 100 vezes:\n",
      "    comissão média = 12.5\n",
      "    variância = 568.75\n",
      "Simulando n = 1000 vezes:\n",
      "    comissão média = 20.25\n",
      "    variância = 807.4375\n",
      "Simulando n = 10000 vezes:\n",
      "    comissão média = 19.585\n",
      "    variância = 779.1777749998387\n",
      "Simulando n = 100000 vezes:\n",
      "    comissão média = 20.085\n",
      "    variância = 800.1927749990763\n"
     ]
    }
   ],
   "source": [
    "valor_da_comissao = 50\n",
    "for i in range(1, 6):\n",
    "    n = 10**i\n",
    "    simulacoes = simula_n_vezes(n, valor_da_comissao, 0)\n",
    "    comissao_media = simulacoes.mean()\n",
    "    variancia = simulacoes.var(ddof=0)\n",
    "    print('Simulando n = {0} vezes:'.format(n))\n",
    "    print('    comissão média = {0}'.format(comissao_media))\n",
    "    print('    variância = {0}'.format(variancia))"
   ]
  },
  {
   "cell_type": "markdown",
   "metadata": {},
   "source": [
    "<div id=\"ex2\"></div>\n",
    "\n",
    "### EXERCÍCIO 2\n",
    "\n",
    "Observando os resultados acima, qual você esperaria ser a média e variância de 1000000000000 simulações? Você não deve realizar essa simulação, apenas discutir qual você espera ser o resultado. Por quê?"
   ]
  },
  {
   "cell_type": "markdown",
   "metadata": {},
   "source": [
    "A média deve tender a 20 reais e a variância tende a 800 reais ². Quanto maior o número de simulações, maior a tendência da média de se aproximar do valor da esperça de média e variância."
   ]
  },
  {
   "cell_type": "markdown",
   "metadata": {},
   "source": [
    "## Tomando uma decisão\n",
    "\n",
    "Imagine que a corretora de seguros irá fornecer um aumento na comissão dos corretores. Entretanto, cada corretor poderá escolher uma das seguintes opções:\n",
    "\n",
    "- Nova comissão será a comissão atual mais um fixo de R$ 20,00;\n",
    "- Nova comissão será o dobro da atual comissão.\n",
    "\n",
    "1. Escolha qual delas é melhor para aumentar o ganho de um corretor. Justifique sua resposta."
   ]
  },
  {
   "cell_type": "markdown",
   "metadata": {},
   "source": [
    "<div id=\"ex3\"></div>\n",
    "\n",
    "### EXERCÍCIO 3\n",
    "\n",
    "Construa a distribuição de probabilidade e calcule o valor esperado e a variância de cada opção. "
   ]
  },
  {
   "cell_type": "markdown",
   "metadata": {},
   "source": [
    "_1° CASO - ATUAL MAIS FIXO DE R$ 20,00_"
   ]
  },
  {
   "cell_type": "code",
   "execution_count": 73,
   "metadata": {},
   "outputs": [
    {
     "name": "stdout",
     "output_type": "stream",
     "text": [
      "E(C): 40.0 reais\n"
     ]
    }
   ],
   "source": [
    "P_C20 = P_C0\n",
    "P_C70 = P_C50\n",
    "P_C120 = P_C100\n",
    "E_Y = 20*P_C20 + 70*P_C70 + 120*P_C120\n",
    "print(\"E(C): {} reais\".format(E_Y))"
   ]
  },
  {
   "cell_type": "code",
   "execution_count": 74,
   "metadata": {},
   "outputs": [
    {
     "name": "stdout",
     "output_type": "stream",
     "text": [
      "Var: 800.0 reais ²\n"
     ]
    }
   ],
   "source": [
    "VarY = (20-E_Y)**2*P_C20 + (70-E_Y)**2*P_C70 + (120-E_Y)**2*P_C120\n",
    "print(\"Var: {} reais ²\".format(VarY))"
   ]
  },
  {
   "cell_type": "markdown",
   "metadata": {},
   "source": [
    "_2° CASO - DOBRO_"
   ]
  },
  {
   "cell_type": "code",
   "execution_count": 75,
   "metadata": {},
   "outputs": [
    {
     "name": "stdout",
     "output_type": "stream",
     "text": [
      "E(C): 40.0 reais\n"
     ]
    }
   ],
   "source": [
    "E_W = 0*P_C0 + 100*P_C50 + 200*P_C100\n",
    "print(\"E(C): {} reais\".format(E_W))"
   ]
  },
  {
   "cell_type": "code",
   "execution_count": 76,
   "metadata": {},
   "outputs": [
    {
     "name": "stdout",
     "output_type": "stream",
     "text": [
      "Var: 3200.0 reais ²\n"
     ]
    }
   ],
   "source": [
    "VarW = (0-E_W)**2*P_C0 + (100-E_W)**2*P_C50 + (200-E_W)**2*P_C100\n",
    "print(\"Var: {} reais ²\".format(VarW))"
   ]
  },
  {
   "cell_type": "markdown",
   "metadata": {},
   "source": [
    "<div id=\"ex4\"></div>\n",
    "\n",
    "### EXERCÍCIO 4\n",
    "\n",
    "Baseado nas propriedades da esperança (nos slides), calcule o valor esperado para a nova comissão em cada uma das opções."
   ]
  },
  {
   "cell_type": "code",
   "execution_count": 77,
   "metadata": {},
   "outputs": [
    {
     "name": "stdout",
     "output_type": "stream",
     "text": [
      "E(C): 40.0 reais\n",
      "E(C): 40.0 reais\n"
     ]
    }
   ],
   "source": [
    "# Opção 1 (E[x+20] = E[x] + 20)\n",
    "E_Y =  E_X + 20\n",
    "print(\"E(C): {} reais\".format(E_Y))\n",
    "\n",
    "# Opção 2 (E[X*2] = 2*E[X])\n",
    "E_W = 2*E_X\n",
    "print(\"E(C): {} reais\".format(E_W))"
   ]
  },
  {
   "cell_type": "markdown",
   "metadata": {},
   "source": [
    "<div id=\"ex5\"></div>\n",
    "\n",
    "### EXERCÍCIO 5\n",
    "\n",
    "Baseado nas propriedades da variância (nos slides), calcule a variância para a nova comissão em cada uma das opções."
   ]
  },
  {
   "cell_type": "code",
   "execution_count": 80,
   "metadata": {},
   "outputs": [
    {
     "name": "stdout",
     "output_type": "stream",
     "text": [
      "VarY: 800.0 reais ²\n",
      "VarW: 3200.0 reais ²\n"
     ]
    }
   ],
   "source": [
    "# Opção 1 (Var[X+20] = Var[X])\n",
    "VarY = Var \n",
    "print(\"VarY: {} reais ²\".format(VarY))\n",
    "\n",
    "# Opção 2 (Var[x*2] = 2²*Var[X])\n",
    "VarW = 2**2*Var\n",
    "print(\"VarW: {} reais ²\".format(VarW))"
   ]
  },
  {
   "cell_type": "markdown",
   "metadata": {},
   "source": [
    "<div id=\"ex6\"></div>\n",
    "\n",
    "### EXERCÍCIO 6\n",
    "\n",
    "Vamos verificar as propriedades da esperança e da variância. Utilize a função `simula_n_vezes` como mostrado [nesta célula](#n-simulacoes) para realizar simulações das duas novas opções de comissão para os seguintes valores de `n`: 10, 100, 1000, 10000, 100000."
   ]
  },
  {
   "cell_type": "code",
   "execution_count": null,
   "metadata": {},
   "outputs": [],
   "source": [
    "# ESCREVA SEU CÓDIGO AQUI"
   ]
  },
  {
   "cell_type": "markdown",
   "metadata": {},
   "source": [
    "<div id=\"ex7\"></div>\n",
    "\n",
    "### EXERCÍCIO 7\n",
    "\n",
    "Baseado nos resultados acima, qual opção você recomendaria para um corretor?"
   ]
  },
  {
   "cell_type": "markdown",
   "metadata": {},
   "source": [
    "ESCREVA SUA RESPOSTA AQUI"
   ]
  },
  {
   "cell_type": "markdown",
   "metadata": {},
   "source": [
    "# Referências\n",
    "\n",
    "1. MONTGOMERY, D. et al. Estatística Aplicada e Probabilidade para Engenheiros. 6. ed. Seções 2.8 e 3.1\n",
    "1. MAGALHÃES, M. et al. Noções de Probabilidade e Estatística. 7. ed. Seções 3.1 e definições 4.2 (p. 110) e 4.5 (p. 121)"
   ]
  }
 ],
 "metadata": {
  "kernelspec": {
   "display_name": "Python 3",
   "language": "python",
   "name": "python3"
  },
  "language_info": {
   "codemirror_mode": {
    "name": "ipython",
    "version": 3
   },
   "file_extension": ".py",
   "mimetype": "text/x-python",
   "name": "python",
   "nbconvert_exporter": "python",
   "pygments_lexer": "ipython3",
   "version": "3.7.1"
  }
 },
 "nbformat": 4,
 "nbformat_minor": 4
}
