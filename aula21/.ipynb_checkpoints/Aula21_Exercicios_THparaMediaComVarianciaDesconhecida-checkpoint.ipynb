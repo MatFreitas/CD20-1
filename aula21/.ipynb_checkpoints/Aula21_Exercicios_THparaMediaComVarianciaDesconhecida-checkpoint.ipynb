{
 "cells": [
  {
   "cell_type": "markdown",
   "metadata": {},
   "source": [
    "# Atividade - Teste de hipóteses para média populacional \n",
    "\n",
    "## Variância populacional desconhecida\n",
    "\n",
    "## Aula 21 - Atividade\n",
    "___\n",
    "\n",
    "<div id=\"indice\"></div>\n",
    "\n",
    "## Índice\n",
    "\n",
    "- [Exercício 1](#ex1)\n",
    "- [Exercício 2](#ex2)\n",
    "\n",
    "___"
   ]
  },
  {
   "cell_type": "code",
   "execution_count": 2,
   "metadata": {},
   "outputs": [],
   "source": [
    "import scipy.stats as stats\n",
    "from scipy.stats import t, norm, probplot\n",
    "import numpy as np\n",
    "import pandas as pd\n",
    "import matplotlib.pyplot as plt\n",
    "from math import sqrt"
   ]
  },
  {
   "cell_type": "markdown",
   "metadata": {},
   "source": [
    "___\n",
    "\n",
    "<div id=\"ex1\"></div>\n",
    "\n",
    "### EXERCÍCIO 1\n",
    "\n",
    "O índice de poluição no município de Curitiba segue uma distribuição normal com média e variância desconhecidas. O departamento ambiental deseja estimar o índice médio de poluição no município. Para isso, ele medirá a poluição em uma amostra de dias escolhidos aleatoriamente.\n",
    "\n",
    "Pretende-se extrair, em Curitiba, uma amostra aleatória de 16 dias. Em uma cidade com características similares, verificou-se que o índice médio de poluição é de 90 u.m.. \n",
    "\n",
    "a) Construa uma regra de decisão (via região crítica) para concluir se Curitiba é ou não mais poluída do que a outra cidade. Adote um nível de significância de 10%. \n",
    "\n",
    "b) Interprete os erros do tipo I e II relacionados ao teste acima, em termos do problema em questão. \n",
    "\n",
    "c) Extraída uma amostra aleatória de 16 dias verificou-se, em Curitiba, um índice médio amostral de poluição de 95 u.m., com desvio padrão amostral igual a 10 u.m.. Conclua o T.H. por meio da construção da R.C. e por meio do valor-p.\n",
    "\n",
    "d) Descreva as suposições necessárias para as conclusões acima serem confiáveis.\n",
    "\n",
    "e) Um técnico resolveu medir a poluição em 16 dias consecutivos. A amostra obtida satisfaz as suposições necessárias para a realização do teste? Por quê?\n",
    "\n",
    "*Valores de referência para as respostas: t_obs= 2.0, RC={t_obs> 1.3406056078504547} e Valor-p=0.03197250364236004*"
   ]
  },
  {
   "cell_type": "markdown",
   "metadata": {},
   "source": [
    "**a)**"
   ]
  },
  {
   "cell_type": "markdown",
   "metadata": {},
   "source": [
    "$H_0: \\mu = 90 =>$ Curitiba não é mais poluída que a outra cidade.\n",
    "\n",
    "\n",
    "$H_A: \\mu > 90 =>$ Curitiba é mais poluída que a outra cidade."
   ]
  },
  {
   "cell_type": "markdown",
   "metadata": {},
   "source": [
    "**b)** **Erro do tipo I:** Rejeeitar a hipótese nula quando ela é verdadeira, ou seja, concluir que Curitiba não é mais poluída que a outra cidade, quando, na verdade, é."
   ]
  },
  {
   "cell_type": "markdown",
   "metadata": {},
   "source": [
    "**c)**"
   ]
  },
  {
   "cell_type": "markdown",
   "metadata": {},
   "source": [
    "## Via R.C unicaudal à direita"
   ]
  },
  {
   "cell_type": "code",
   "execution_count": 6,
   "metadata": {},
   "outputs": [
    {
     "name": "stdout",
     "output_type": "stream",
     "text": [
      "t_obs=2.0\n",
      "t_c1=1.3406056078504547\n"
     ]
    }
   ],
   "source": [
    "n = 16\n",
    "mu = 90\n",
    "alpha = 0.1\n",
    "x_obs = 95\n",
    "s = 10\n",
    "\n",
    "t_obs=(x_obs-mu)/(s/np.sqrt(n))\n",
    "t_critico = stats.t.ppf(1-alpha, df=n-1)\n",
    "\n",
    "print(\"t_obs={}\".format(t_obs))\n",
    "print(\"t_c1={}\".format(t_critico))"
   ]
  },
  {
   "cell_type": "markdown",
   "metadata": {},
   "source": [
    "Como t_obs > t_critico, então rejeita-se a hipótese nula e confirma-se que Curitiba é mais poluída que a outra cidade!"
   ]
  },
  {
   "cell_type": "markdown",
   "metadata": {},
   "source": [
    "## Via valor-p "
   ]
  },
  {
   "cell_type": "code",
   "execution_count": 8,
   "metadata": {},
   "outputs": [
    {
     "name": "stdout",
     "output_type": "stream",
     "text": [
      "𝛼=0.1\n",
      "Valor-p=0.03197250364236004\n"
     ]
    }
   ],
   "source": [
    "valor_p = 1 - stats.t.cdf(t_obs, df=n-1)\n",
    "\n",
    "print(\"𝛼={}\".format(alpha))\n",
    "print(\"Valor-p={}\".format(valor_p))"
   ]
  },
  {
   "cell_type": "markdown",
   "metadata": {},
   "source": [
    "Como valor-p < alpha, rejeita-se a a hipótese nula e confirma-se que Curitiba é mais poluída que a outra cidade!"
   ]
  },
  {
   "cell_type": "markdown",
   "metadata": {},
   "source": [
    "___\n",
    "\n",
    "<div id=\"ex2\"></div>\n",
    "\n",
    "### EXERCÍCIO 2\n",
    "\n",
    "Em 2012, antes dos supermercados deixarem de distribuir sacolas plásticas gratuitamente para os consumidores, o consumo mensal de sacolas plásticas na cidade de São Paulo por adulto era, em média, de 25 sacolas plásticas. \n",
    "\n",
    "No mesmo ano, os estabelecimentos passaram a cobrar pelo uso das mesmas e depois voltaram atrás. Alguns anos se passaram e uma ONG da área de sustentabilidade deseja avaliar se essas idas e vindas deixaram o consumidor um pouco mais consciente com o meio ambiente. \n",
    "\n",
    "Para avaliar se consumo está mais consciente, verifique se o consumo de sacolas plásticas reduziu, em média, em mais do que 15% após todo esse período, ao nível de significância de 1%?\n",
    "\n",
    "A ONG monitorou, por um mês, 100 adultos moradores da cidade e observou que o consumo médio amostral de sacolas plásticas entre eles foi de 20,01 unidades e com desvio  padrão amostral de 6 unidades. \n",
    "\n",
    "*Valores de referência para as respostas: t_obs=-2.066666666666664, RC={t_obs< -2.364605861435974} e Valor-p=0.02068793604675599*"
   ]
  },
  {
   "cell_type": "code",
   "execution_count": 9,
   "metadata": {},
   "outputs": [
    {
     "data": {
      "text/plain": [
       "21.25"
      ]
     },
     "execution_count": 9,
     "metadata": {},
     "output_type": "execute_result"
    }
   ],
   "source": [
    "mu = 25*0.85\n",
    "mu"
   ]
  },
  {
   "cell_type": "markdown",
   "metadata": {},
   "source": [
    "$H_0: \\mu = 21.25$\n",
    "\n",
    "\n",
    "$H_A: \\mu < 21.25$"
   ]
  },
  {
   "cell_type": "markdown",
   "metadata": {},
   "source": [
    "## Via R.C unicaudal à esquerda"
   ]
  },
  {
   "cell_type": "code",
   "execution_count": 12,
   "metadata": {},
   "outputs": [
    {
     "name": "stdout",
     "output_type": "stream",
     "text": [
      "t_obs=-2.066666666666664\n",
      "t_c=-2.364605861435974\n"
     ]
    }
   ],
   "source": [
    "alpha = 0.01\n",
    "n = 100\n",
    "x_obs = 20.01\n",
    "s = 6\n",
    "\n",
    "t_obs=(x_obs-mu)/(s/np.sqrt(n))\n",
    "t_critico = stats.t.ppf(alpha, df=n-1)\n",
    "\n",
    "print(\"t_obs={}\".format(t_obs))\n",
    "print(\"t_c={}\".format(t_critico))"
   ]
  },
  {
   "cell_type": "markdown",
   "metadata": {},
   "source": [
    "Como t_obs > t_critico, não rejeita-se a hipótese nula e o consumo de sacolas não reduziu!"
   ]
  },
  {
   "cell_type": "markdown",
   "metadata": {},
   "source": [
    "## Via valor-p"
   ]
  },
  {
   "cell_type": "code",
   "execution_count": 15,
   "metadata": {},
   "outputs": [
    {
     "name": "stdout",
     "output_type": "stream",
     "text": [
      "𝛼=0.01\n",
      "Valor-p=0.02068793604675599\n"
     ]
    }
   ],
   "source": [
    "valor_p = stats.t.cdf(t_obs, df=n-1)\n",
    "\n",
    "print(\"𝛼={}\".format(alpha))\n",
    "print(\"Valor-p={}\".format(valor_p))"
   ]
  },
  {
   "cell_type": "markdown",
   "metadata": {},
   "source": [
    "Como valor-p > alpha, não rejeita-se a hipótese nula e o consumo de sacolas não reduziu!"
   ]
  }
 ],
 "metadata": {
  "hide_input": false,
  "kernelspec": {
   "display_name": "Python 3",
   "language": "python",
   "name": "python3"
  },
  "language_info": {
   "codemirror_mode": {
    "name": "ipython",
    "version": 3
   },
   "file_extension": ".py",
   "mimetype": "text/x-python",
   "name": "python",
   "nbconvert_exporter": "python",
   "pygments_lexer": "ipython3",
   "version": "3.7.1"
  }
 },
 "nbformat": 4,
 "nbformat_minor": 2
}
