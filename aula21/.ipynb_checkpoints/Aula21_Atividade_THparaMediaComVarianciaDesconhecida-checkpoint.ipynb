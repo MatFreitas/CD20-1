{
 "cells": [
  {
   "cell_type": "markdown",
   "metadata": {},
   "source": [
    "# Atividade - Teste de hipóteses para média populacional \n",
    "\n",
    "## Variância populacional desconhecida\n",
    "\n",
    "## Aula 21 - Atividade\n",
    "___\n",
    "\n",
    "<div id=\"indice\"></div>\n",
    "\n",
    "## Índice\n",
    "\n",
    "- [Teste de hipóteses para média populacional com variância populacional desconhecida](#th-var-desconhecida)\n",
    "    - [Passos para construção de um teste de hipóteses](#passos)\n",
    "    - [Decisão do teste](#decisao)\n",
    "        - [Caso Unilateral a Esquerda](#unilateral-esquerda)\n",
    "        - [Caso Unilateral a Direita](#unilateral-direita)\n",
    "        - [Caso Bilateral](#bilateral)\n",
    "    - [Exemplos](#exemplos)\n",
    "        - [Exemplo 1: Pontuação em um exame de inglês](#exemplo1)\n",
    "        - [Exemplo 2: Conteúdo de latas de regrigerante](#exemplo2)\n",
    "- [Base de dados: Precipitação Pluviométrica](#base)\n",
    "    - [Exercício 1](#ex1)\n",
    "    - [Exercício 2](#ex2)\n",
    "    - [Exercício 3](#ex3)\n",
    "    - [Exercício 4](#ex4)\n",
    "- [Estimando o tamanho da amostra](#estimando-n)\n",
    "    - [Estimativa de $n$ com $\\sigma$ conhecido](#n-sigma-conhecido)\n",
    "        - [Exercício 5](#ex5)\n",
    "___"
   ]
  },
  {
   "cell_type": "code",
   "execution_count": 1,
   "metadata": {},
   "outputs": [],
   "source": [
    "import scipy.stats as stats\n",
    "from scipy.stats import t, norm, probplot\n",
    "import numpy as np\n",
    "import pandas as pd\n",
    "import matplotlib.pyplot as plt\n",
    "from math import sqrt, ceil\n",
    "from ipywidgets import interact, interactive, fixed, interact_manual\n",
    "import ipywidgets as widgets\n",
    "%matplotlib inline"
   ]
  },
  {
   "cell_type": "markdown",
   "metadata": {},
   "source": [
    "<div id=\"th-var-desconhecida\"></div>\n",
    "\n",
    "# Teste de hipóteses para média populacional com variância populacional desconhecida\n",
    "\n",
    "Quando não conhecemos a variância populacional não é possível realizar o teste de hipóteses utilizando o TLC. Assim, precisamos de uma nova estatística de teste. **Importante**: para esta estatística vamos considerar apenas variáveis de interesse com distribuição **normal**.\n",
    "\n",
    "Supondo que uma amostra aleatória simples foi coletada da população, podemos utilizar o estimador $S^2$ (variância amostra - calculada a partir de uma amostra) para $\\sigma^2$ (variância populacional - desconhecida), obtemos, sob $H_0$, que:\n",
    "\n",
    "$$t = \\frac{\\overline{X}-\\mu_0}{S/\\sqrt{n}}\\sim t_{(n-1)}$$\n",
    "\n",
    "sendo $(n-1)$ os graus de liberdade da distribuição t-Student do teste.\n",
    "\n",
    "<div id=\"passos\"></div>\n",
    "\n",
    "## Passos para construção de um teste de hipóteses\n",
    "\n",
    "1. Fixe qual a hipótese nula, $H_0$, a ser testada e qual a hipótese alternativa ($H_A$).\n",
    "2. Use a teoria estatística e as informações disponíveis para decidir qual **estatística de teste** será usada sob $H_0$. Não se esqueça de levantar as propriedades dessa estatística.\n",
    "3. Utilize a estatística para rejeitar, ou não, $H_0$. Para isso temos duas opções:\n",
    "    1. Via Região Crítica:\n",
    "        1. **Fixe a probabilidade $\\alpha$** de cometer erro de rejeitar $H_0$, sob $H_0$ verdadeiro, e use este valor para **construir a região crítica RC**. Lembre que esta região é construída para a estatística definida no segundo passo, usando o valor hipotetizado em $H_0$.\n",
    "        2. Use as informações fornecidas pela amostra para encontrar o **valor observado da estatística de teste**. \n",
    "        3. Se o **valor observado da estatística de teste pertencer à região crítica, rejeite $H_0$**; caso contrário, não rejeite.\n",
    "    2. Via valor-p:\n",
    "        1. Use as informações fornecidas pela amostra para encontrar o **valor observado da estatística de teste**. \n",
    "        2. Use o valor observado da *estatística de teste* para **encontrar o valor-p**, ou seja, a probabilidade de encontrar valores tão ou mais desfavoráveis à $H_0$ quanto a *estatística de teste* observada pela amostra. \n",
    "        3. Se o **valor-p for menor do que algum $\\alpha$ fixado, rejeite $H_0$**; caso contrário, não rejeite.\n",
    "\n",
    "<div id=\"decisao\"></div>\n",
    "\n",
    "## Decisão do teste\n",
    "\n",
    "Vamos considerar a estatística do teste observada (sob $H_0$): $t_{obs} = \\frac{\\overline{x}_{obs}-\\mu_0}{s/\\sqrt{n}}$\n",
    "\n",
    "<div id=\"unilateral-esquerda\"></div>\n",
    "\n",
    "### Caso Unilateral a Esquerda\n",
    "\n",
    "No caso em que a hipótese alternativa está exclusivamente à esquerda da média, ou seja,\n",
    "\n",
    "$$H_0: \\mu = \\mu_0$$\n",
    "$$H_A: \\mu < \\mu_0$$\n",
    "\n",
    "**Via Região Crítica**: Obtemos o valor crítico como: $t_c = \\text{stats.t.ppf}(\\alpha , \\text{df}=n-1)$, pois $\\alpha = P(erro~I)$ estará na cauda à esquerda. Assim, rejeitamos $H_0$, ao nível de significância $\\alpha$, se $t_{obs} < t_c$.\n",
    "\n",
    "**Via valor-p**: É razoável rejeitar $H_0$ se a média amostral observada $(\\overline{x}_{obs})$ for muito menor que $\\mu_0$, ou seja, se $t_{obs}$ for \"muito\" negativo. Define-se o valor-p em um teste unilateral a esquerda por: $valor\\_p = P(t_{(n-1)} < t_{obs} | \\mu=\\mu_0) = \\text{stats.t.cdf}(t_{obs}, \\text{df}=n-1)$.\n",
    "\n",
    "<div id=\"unilateral-direita\"></div>\n",
    "\n",
    "### Caso Unilateral a Direita\n",
    "\n",
    "No caso em que a hipótese alternativa está exclusivamente à direita da média, ou seja,\n",
    "\n",
    "$$H_0: \\mu = \\mu_0$$\n",
    "$$H_A: \\mu > \\mu_0$$\n",
    "\n",
    "**Via Região Crítica**: Obtemos o valor crítico como: $t_c = \\text{stats.t.ppf}(1-\\alpha, \\text{df}=n-1)$, pois $\\alpha = P(erro~I)$ estará na cauda à direita. Assim, rejeitamos $H_0$, ao nível de significância $\\alpha$, se $t_{obs} > t_c$.\n",
    "\n",
    "**Via valor-p**: É razoável rejeitar $H_0$ se a média amostral observada $(\\overline{x}_{obs})$ for muito maior que $\\mu_0$, ou seja, se $t_{obs}$ for \"muito\" positivo. Define-se o valor-p em um teste unilateral a esquerda por: $valor\\_p = P(t_{(n-1)} > t_{obs} | \\mu=\\mu_0) = 1 - \\text{stats.t.cdf}(t_{obs}, \\text{df}=n-1)$.\n",
    "\n",
    "<div id=\"bilateral\"></div>\n",
    "\n",
    "### Caso Bilateral\n",
    "\n",
    "No caso em que a hipótese alternativa é diferente da média, ou seja,\n",
    "\n",
    "$$H_0: \\mu = \\mu_0$$\n",
    "$$H_A: \\mu \\neq \\mu_0$$\n",
    "\n",
    "**Via Região Crítica**: Obtemos o valor crítico como: $t_c = \\text{stats.t.ppf}(1-\\alpha/2, df=n-1)$, pois temos $\\alpha/2$ em cada cauda. Assim, rejeitamos $H_0$, ao nível de significância $\\alpha$, se $t_{obs} < -t_c$ ou $t_{obs} > t_c$.\n",
    "\n",
    "**Via valor-p**: É razoável rejeitar $H_0$ se a média amostral observada $(\\overline{x}_{obs})$ for muito menor ou muito maior que $\\mu_0$, ou seja, se $t_{obs}$ for \"muito\" negativo ou \"muito\" positivo. Define-se o valor-p em um teste bilateral por: $valor\\_p = 2p'$, onde\n",
    "\n",
    "1. Se $\\overline{x}_{obs} < \\mu_0$: $p' = P(t_{(n-1)} < t_{obs} | \\mu=\\mu_0) = \\text{stats.t.cdf}(t_{obs}, \\text{df}=n-1)$.\n",
    "2. Se $\\overline{x}_{obs} > \\mu_0$: $p' = P(t_{(n-1)} > t_{obs} | \\mu=\\mu_0) = 1 - \\text{stats.t.cdf}(t_{obs}, \\text{df}=n-1)$.\n",
    "\n",
    "<div id=\"exemplos\"></div>\n",
    "\n",
    "## Exemplos\n",
    "\n",
    "Vamos apresentar dois exemplos de teste de hipótese para média populacional com variância desconhecida."
   ]
  },
  {
   "cell_type": "markdown",
   "metadata": {},
   "source": [
    "___\n",
    "\n",
    "<div id=\"exemplo1\"></div>\n",
    "\n",
    "## Exemplo 1: Pontuação em um exame de inglês\n",
    "\n",
    "O número médio de pontos em um exame de inglês tem sido historicamente igual a 80. Foram sorteados 10 estudantes que fizeram recentemente esse exame e observadas as notas: 65, 70, 76, 86, 59, 81, 75, 72, 81, 83.\n",
    "\n",
    "Especialistas desconfiam que o rendimento médio dos alunos diminuiu e desejam testar essa afirmação por meio de um teste de hipóteses, com nível de significância de 5%. Fazendo as suposições necessárias, qual seria a conclusão do teste?"
   ]
  },
  {
   "cell_type": "markdown",
   "metadata": {},
   "source": [
    "### Definição da variável de interesse\n",
    "\n",
    "$X$: número de pontos que um estudante tira em um exame de inglês.\n",
    "\n",
    "Aqui, $E(X)=\\mu \\mbox{ e } Var(X)=\\sigma^2$, \n",
    "sendo ambos desconhecidos pelo contexto do problema!\n",
    "\n",
    "### Hipóteses em termos do problema e em termos estatísticos\n",
    "\n",
    "$H_0:$ Desconfiança não procede $\\Rightarrow H_0: \\mu=80$\n",
    "\n",
    "$H_1:$ Desconfiança procede que rendimento médio caiu $\\Rightarrow H_1: \\mu<80$\n",
    "\n",
    "### Inicializando os parâmetros"
   ]
  },
  {
   "cell_type": "code",
   "execution_count": 2,
   "metadata": {
    "scrolled": true
   },
   "outputs": [
    {
     "name": "stdout",
     "output_type": "stream",
     "text": [
      "Tamanho da amostral: n=10\n",
      "Média amostral observada: x_obs=74.8\n",
      "Desvio padrão amostral observada: s=8.482662055955993\n"
     ]
    }
   ],
   "source": [
    "#Dados\n",
    "amostra=(65,70,76,86,59,81,75,72,81,83)\n",
    "\n",
    "n=len(amostra)                                                                                                                                                                                                                                                                                                                                                                                                                                                                                                                                                                                                                             \n",
    "x_obs=np.mean(amostra)\n",
    "s=np.std(amostra, ddof=1)\n",
    "\n",
    "print(\"Tamanho da amostral: n={}\".format(n))\n",
    "print(\"Média amostral observada: x_obs={}\".format(x_obs))\n",
    "print(\"Desvio padrão amostral observada: s={}\".format(s))"
   ]
  },
  {
   "cell_type": "code",
   "execution_count": 3,
   "metadata": {},
   "outputs": [],
   "source": [
    "𝛼=0.05 #nível de significância fixado para o teste\n",
    "μ0=80 #sob a hipótese nula"
   ]
  },
  {
   "cell_type": "markdown",
   "metadata": {},
   "source": [
    "### Decisão via Região Crítica: UNICAUDAL a esquerda\n",
    "\n",
    "#### Usando t_critico"
   ]
  },
  {
   "cell_type": "code",
   "execution_count": 4,
   "metadata": {},
   "outputs": [
    {
     "name": "stdout",
     "output_type": "stream",
     "text": [
      "t_obs=-1.9385239827313108\n",
      "t_c=-1.8331129326536337\n",
      "\n",
      "Regra geral: Rejeitamos a hipótese nula H0 se t_obs pertencer a Região Crítica (RC)!!\n",
      "\n",
      "RC={t_obs<(-1.8331129326536337)}\n",
      "\n",
      "Conclusão: Como t_obs pertence a RC, então há evidências de que desconfiança procede, com 95% de confiança!!\n"
     ]
    }
   ],
   "source": [
    "#Decisão Via Região Crítica: UNICAUDAL a esquerda\n",
    "t_obs=(x_obs-μ0)/(s/np.sqrt(n))\n",
    "\n",
    "t_c=stats.t.ppf(𝛼, df=n-1) #valor crítico na cauda a esquerda\n",
    "\n",
    "print(\"t_obs={}\".format(t_obs))\n",
    "print(\"t_c={}\".format(t_c))\n",
    "\n",
    "print(\"\\nRegra geral: Rejeitamos a hipótese nula H0 se t_obs pertencer a Região Crítica (RC)!!\\n\")\n",
    "print(\"RC={{t_obs<({})}}\\n\".format(t_c))\n",
    "print(\"Conclusão: Como t_obs pertence a RC, então há evidências de que desconfiança procede, com 95% de confiança!!\")\n"
   ]
  },
  {
   "cell_type": "markdown",
   "metadata": {},
   "source": [
    "#### Usando x_critico"
   ]
  },
  {
   "cell_type": "code",
   "execution_count": 5,
   "metadata": {},
   "outputs": [
    {
     "name": "stdout",
     "output_type": "stream",
     "text": [
      "x_obs=74.8\n",
      "x_c=75.08276021616798\n",
      "\n",
      "Regra geral: Rejeitamos a hipótese nula H0 se x_obs pertencer a Região Crítica (RC)!!\n",
      "\n",
      "RC={x_obs<(75.08276021616798)}\n",
      "\n",
      "Conclusão: Como x_obs pertence a RC, então há evidências de que desconfiança procede, com 95% de confiança!!\n"
     ]
    }
   ],
   "source": [
    "# Se quisermos descobrir qual é o x_critico ao invés do t_critico...\n",
    "x_c = t.ppf(𝛼, loc=μ0, scale=s/sqrt(n), df=n-1)\n",
    "\n",
    "print(\"x_obs={}\".format(x_obs))\n",
    "print(\"x_c={}\".format(x_c))\n",
    "\n",
    "print(\"\\nRegra geral: Rejeitamos a hipótese nula H0 se x_obs pertencer a Região Crítica (RC)!!\\n\")\n",
    "print(\"RC={{x_obs<({})}}\\n\".format(x_c))\n",
    "print(\"Conclusão: Como x_obs pertence a RC, então há evidências de que desconfiança procede, com 95% de confiança!!\")"
   ]
  },
  {
   "cell_type": "markdown",
   "metadata": {},
   "source": [
    "### Decisão via Valor-p: UNICAUDAL a esquerda"
   ]
  },
  {
   "cell_type": "code",
   "execution_count": 6,
   "metadata": {},
   "outputs": [
    {
     "name": "stdout",
     "output_type": "stream",
     "text": [
      "𝛼=0.05\n",
      "Valor-p=0.042254614967800266\n",
      "\n",
      "Regra geral: Rejeitamos a hipótese nula H0 se valor-p < 𝛼!!\n",
      "\n",
      "Conclusão: Como nos resultados acima vemos que valor-p < 𝛼, então há evidências de que desconfiança procede, com 95% de confiança!!\n"
     ]
    }
   ],
   "source": [
    "#Decisão Via Valor-p: UNICAUDAL a esquerda\n",
    "t_obs=(x_obs-μ0)/(s/np.sqrt(n))\n",
    "\n",
    "valor_p=stats.t.cdf(t_obs, df=n-1) \n",
    "\n",
    "print(\"𝛼={}\".format(𝛼))\n",
    "print(\"Valor-p={}\".format(valor_p))\n",
    "\n",
    "print(\"\\nRegra geral: Rejeitamos a hipótese nula H0 se valor-p < 𝛼!!\\n\")\n",
    "\n",
    "print(\"Conclusão: Como nos resultados acima vemos que valor-p < 𝛼, então há evidências de que desconfiança procede, com 95% de confiança!!\")\n",
    "\n"
   ]
  },
  {
   "cell_type": "markdown",
   "metadata": {},
   "source": [
    "___\n",
    "\n",
    "<div id=\"exemplo2\"></div>\n",
    "\n",
    "## Exemplo 2: Conteúdo de latas de regrigerante\n",
    "\n",
    "As latas de certa marca de refrigerante apresentam em seu rótulo o volume de 350 ml. O fabricante deseja testar se o conteúdo médio das latas é igual a 350 ml, como anunciado no rótulo. Isto equivale a verificar se a máquina está regulada para colocar 350 ml, ou não, nas latas. \n",
    "\n",
    "Para averiguar a afirmação do fabricante, foi coletada uma amostra de 36 latas do refrigerante em pontos de comercialização e mediu-se o conteúdo destas latas. Os resultados obtidos na amostra foram: $\\overline{x} = 347~\\text{ml}$ e $s = 10,5~\\text{ml}$\n",
    "\n",
    "Será que as latas contêm 350 ml de líquido com 95% de confiança?"
   ]
  },
  {
   "cell_type": "markdown",
   "metadata": {},
   "source": [
    "### Definição da variável de interesse\n",
    "\n",
    "$X$: quantidade de refrigerante dentro de uma lata.\n",
    "\n",
    "Aqui, $E(X)=\\mu \\mbox{ e } Var(X)=\\sigma^2$, \n",
    "sendo ambos desconhecidos pelo contexto do problema!\n",
    "\n",
    "### Hipóteses em termos do problema e em termos estatísticos\n",
    "\n",
    "$H_0:$ Máquina está regulada $\\Rightarrow H_0: \\mu=350$\n",
    "\n",
    "$H_1:$ Máquina não está regulada $\\Rightarrow H_1: \\mu\\neq350$\n",
    "\n",
    "### Inicializando os parâmetros"
   ]
  },
  {
   "cell_type": "code",
   "execution_count": 10,
   "metadata": {
    "scrolled": true
   },
   "outputs": [
    {
     "name": "stdout",
     "output_type": "stream",
     "text": [
      "Tamanho da amostral: n=36\n",
      "Média amostral observada: x_obs=347\n",
      "Desvio padrão amostral observada: s=10.5\n"
     ]
    }
   ],
   "source": [
    "#Dados\n",
    "n=36                                                                                                                                                                                                                                                                                                                                                                                                                                                                                                                                                                                                                             \n",
    "x_obs=347\n",
    "s=10.5\n",
    "\n",
    "print(\"Tamanho da amostral: n={}\".format(n))\n",
    "print(\"Média amostral observada: x_obs={}\".format(x_obs))\n",
    "print(\"Desvio padrão amostral observada: s={}\".format(s))"
   ]
  },
  {
   "cell_type": "code",
   "execution_count": 11,
   "metadata": {},
   "outputs": [],
   "source": [
    "𝛼=0.05 #nível de significância fixado para o teste\n",
    "μ0=350 #sob a hipótese nula"
   ]
  },
  {
   "cell_type": "markdown",
   "metadata": {},
   "source": [
    "### Decisão via Região Crítica: BICAUDAL"
   ]
  },
  {
   "cell_type": "markdown",
   "metadata": {},
   "source": [
    "**Usando t_critico**"
   ]
  },
  {
   "cell_type": "code",
   "execution_count": 12,
   "metadata": {},
   "outputs": [
    {
     "name": "stdout",
     "output_type": "stream",
     "text": [
      "t_obs=-1.7142857142857142\n",
      "t_c1=-2.030107928250343\n",
      "t_c2=2.0301079282503425\n",
      "\n",
      "Regra geral: Rejeitamos a hipótese nula H0 se t_obs pertencer a Região Crítica (RC)!!\n",
      "\n",
      "RC={t_obs<-2.030107928250343 ou t_obs >2.0301079282503425}\n",
      "\n",
      "Conclusão: Como t_obs não pertence a RC, então não há evidências de que desconfiança procede, com 95% de confiança, ou seja, a máquina não está regulada!!\n"
     ]
    }
   ],
   "source": [
    "#Decisão Via Região Crítica: BICAUDAL\n",
    "t_obs=(x_obs-μ0)/(s/np.sqrt(n))\n",
    "\n",
    "t_c1=stats.t.ppf(𝛼/2, df=n-1) #valor crítico na cauda a esquerda\n",
    "t_c2=stats.t.ppf(1-𝛼/2, df=n-1) #valor crítico na cauda a direita\n",
    "\n",
    "print(\"t_obs={}\".format(t_obs))\n",
    "print(\"t_c1={}\".format(t_c1))\n",
    "print(\"t_c2={}\".format(t_c2))\n",
    "\n",
    "print(\"\\nRegra geral: Rejeitamos a hipótese nula H0 se t_obs pertencer a Região Crítica (RC)!!\\n\")\n",
    "print(\"RC={{t_obs<{0} ou t_obs >{1}}}\\n\".format(t_c1, t_c2))\n",
    "print(\"Conclusão: Como t_obs não pertence a RC, então não há evidências de que desconfiança procede, com 95% de confiança, ou seja, a máquina não está regulada!!\")"
   ]
  },
  {
   "cell_type": "markdown",
   "metadata": {},
   "source": [
    "### Decisão via Valor-p: BICAUDAL"
   ]
  },
  {
   "cell_type": "code",
   "execution_count": 13,
   "metadata": {},
   "outputs": [
    {
     "name": "stdout",
     "output_type": "stream",
     "text": [
      "𝛼=0.05\n",
      "Valor-p=0.042254614967800266\n",
      "\n",
      "Regra geral: Rejeitamos a hipótese nula H0 se valor-p < 𝛼!!\n",
      "\n",
      "Conclusão: Como nos resultados acima vemos que valor-p > 𝛼, então não há evidências de que desconfiança procede, com 95% de confiança, ou seja, a máquina não está regulada!!\n"
     ]
    }
   ],
   "source": [
    "# Decisão Via Valor-p: BICAUDAL\n",
    "# x_obs < Mi0\n",
    "\n",
    "t_obs=(x_obs-μ0)/(s/np.sqrt(n))\n",
    "\n",
    "p_linha=stats.t.cdf(t_obs, df=n-1) \n",
    "valor_P = 2*p_linha\n",
    "\n",
    "print(\"𝛼={}\".format(𝛼))\n",
    "print(\"Valor-p={}\".format(valor_p))\n",
    "\n",
    "print(\"\\nRegra geral: Rejeitamos a hipótese nula H0 se valor-p < 𝛼!!\\n\")\n",
    "\n",
    "print(\"Conclusão: Como nos resultados acima vemos que valor-p > 𝛼, então não há evidências de que desconfiança procede, com 95% de confiança, ou seja, a máquina não está regulada!!\")"
   ]
  },
  {
   "cell_type": "markdown",
   "metadata": {},
   "source": [
    "___\n",
    "\n",
    "<div id=\"base\"></div>\n",
    "\n",
    "## Base de dados: Precipitação Pluviométrica\n",
    "\n",
    "Montgomery – Adaptado do Exercício 9-34\n",
    "\n",
    "Semear nuvens tem sido estudado durante muitas décadas como um procedimento de mudança do tempo (veja referência da pesquisa no livro). Algumas nuvens foram selecionadas aleatoriamente e semeadas com nitrato de prata. A precipitação pluviométrica, em acre-pé, foi medida e registrada no arquivo `precipitacao.csv`.\n",
    "\n",
    "Suspeita-se que a precipitação média das nuvens semeadas excede 25 acres-pés."
   ]
  },
  {
   "cell_type": "code",
   "execution_count": 14,
   "metadata": {},
   "outputs": [
    {
     "data": {
      "text/html": [
       "<div>\n",
       "<style scoped>\n",
       "    .dataframe tbody tr th:only-of-type {\n",
       "        vertical-align: middle;\n",
       "    }\n",
       "\n",
       "    .dataframe tbody tr th {\n",
       "        vertical-align: top;\n",
       "    }\n",
       "\n",
       "    .dataframe thead th {\n",
       "        text-align: right;\n",
       "    }\n",
       "</style>\n",
       "<table border=\"1\" class=\"dataframe\">\n",
       "  <thead>\n",
       "    <tr style=\"text-align: right;\">\n",
       "      <th></th>\n",
       "      <th>precipitacao</th>\n",
       "    </tr>\n",
       "  </thead>\n",
       "  <tbody>\n",
       "    <tr>\n",
       "      <th>0</th>\n",
       "      <td>18.0</td>\n",
       "    </tr>\n",
       "    <tr>\n",
       "      <th>1</th>\n",
       "      <td>30.7</td>\n",
       "    </tr>\n",
       "    <tr>\n",
       "      <th>2</th>\n",
       "      <td>19.8</td>\n",
       "    </tr>\n",
       "    <tr>\n",
       "      <th>3</th>\n",
       "      <td>27.1</td>\n",
       "    </tr>\n",
       "    <tr>\n",
       "      <th>4</th>\n",
       "      <td>22.3</td>\n",
       "    </tr>\n",
       "  </tbody>\n",
       "</table>\n",
       "</div>"
      ],
      "text/plain": [
       "   precipitacao\n",
       "0          18.0\n",
       "1          30.7\n",
       "2          19.8\n",
       "3          27.1\n",
       "4          22.3"
      ]
     },
     "execution_count": 14,
     "metadata": {},
     "output_type": "execute_result"
    }
   ],
   "source": [
    "# Carregando os dados\n",
    "dados = pd.read_csv('precipitacao.csv', header=None)\n",
    "dados.columns = ['precipitacao']\n",
    "precipitacao = dados['precipitacao']\n",
    "dados.head()"
   ]
  },
  {
   "cell_type": "markdown",
   "metadata": {},
   "source": [
    "<div id=\"ex1\"></div>\n",
    "\n",
    "### EXERCÍCIO 1\n",
    "\n",
    "Formule as hipóteses em termos do problema e em termos do parâmetro."
   ]
  },
  {
   "cell_type": "markdown",
   "metadata": {},
   "source": [
    "$H_0:$ Precipitação média não excede 25 acre-pés => $\\mu = 25$\n",
    "\n",
    "\n",
    "$H_A:$ Precipitação média excede 25 acre-pés => $\\mu > 25$"
   ]
  },
  {
   "cell_type": "markdown",
   "metadata": {},
   "source": [
    "<div id=\"ex2\"></div>\n",
    "\n",
    "### EXERCÍCIO 2\n",
    "\n",
    "Interprete os erros do tipo I e II relacionados ao teste acima, em termos do problema em questão. "
   ]
  },
  {
   "cell_type": "markdown",
   "metadata": {},
   "source": [
    "**Erro do tipo I:** Rejeitar H0 quando ela é verdadeira, ou seja, decidir que a precipitação média excede 25 acre-pés quando na realidade isso é incorreto."
   ]
  },
  {
   "cell_type": "markdown",
   "metadata": {},
   "source": [
    "<div id=\"ex3\"></div>\n",
    "\n",
    "### EXERCÍCIO 3\n",
    "\n",
    "Verifique se a afirmação procede, considerando nível de significância de 1%. Tome a decisão via região crítica e valor-p.\n",
    "\n",
    "*Valores de referência para a resposta: t_obs=0.9673747735077124, RC={t_obs< 2.539483190622288} e Valor-p=0.1727550662376527*"
   ]
  },
  {
   "cell_type": "code",
   "execution_count": 33,
   "metadata": {},
   "outputs": [],
   "source": [
    "alpha = 0.01\n",
    "mu = 25\n",
    "x_obs = np.mean(dados.precipitacao)\n",
    "s = np.std(dados.precipitacao, ddof=1)\n",
    "n = len(dados.precipitacao)"
   ]
  },
  {
   "cell_type": "markdown",
   "metadata": {},
   "source": [
    "## Via Região Crítica: Unicaudal à direita"
   ]
  },
  {
   "cell_type": "code",
   "execution_count": 34,
   "metadata": {},
   "outputs": [
    {
     "name": "stdout",
     "output_type": "stream",
     "text": [
      "t_obs: 0.9673747735077124\n",
      "t_critico: 2.539483190622288\n",
      "Como t_obs < t_critico, não rejeita-se H0 e a suspeita não procede\n"
     ]
    }
   ],
   "source": [
    "t_obs = (x_obs-mu)/(s/np.sqrt(n))\n",
    "\n",
    "t_critico = stats.t.ppf(1-alpha, df=n-1)\n",
    "t_critico\n",
    "\n",
    "print(\"t_obs: {}\".format(t_obs))\n",
    "print(\"t_critico: {}\".format(t_critico))\n",
    "print(\"Como t_obs < t_critico, não rejeita-se H0 e a suspeita não procede\")"
   ]
  },
  {
   "cell_type": "markdown",
   "metadata": {},
   "source": [
    "## Via valor-p"
   ]
  },
  {
   "cell_type": "code",
   "execution_count": 36,
   "metadata": {},
   "outputs": [
    {
     "name": "stdout",
     "output_type": "stream",
     "text": [
      "valor-p: 0.1727550662376527\n",
      "alpha: 0.01\n",
      "Como valor-p > alpha, não rejeita-se H0 e a suspeita nçao procede\n"
     ]
    }
   ],
   "source": [
    "valor_p = 1 - stats.t.cdf(t_obs, df=n-1)\n",
    "\n",
    "print(\"valor-p: {}\".format(valor_p))\n",
    "print(\"alpha: {}\".format(alpha))\n",
    "print(\"Como valor-p > alpha, não rejeita-se H0 e a suspeita nçao procede\")"
   ]
  },
  {
   "cell_type": "markdown",
   "metadata": {},
   "source": [
    "<div id=\"ex4\"></div>\n",
    "\n",
    "### EXERCÍCIO 4\n",
    "\n",
    "Verifique se a precipitação é normalmente distribuída. Lembre-se que só podemos realizar o teste do [exercício 3](#ex3) se a precipitação seguir uma distribuição normal. **Dica**: use `probplot`."
   ]
  },
  {
   "cell_type": "code",
   "execution_count": 41,
   "metadata": {},
   "outputs": [
    {
     "data": {
      "text/plain": [
       "Text(0.5, 1.0, 'Probplot das precipitações com uma normal')"
      ]
     },
     "execution_count": 41,
     "metadata": {},
     "output_type": "execute_result"
    },
    {
     "data": {
      "image/png": "[encoded data removed]",
      "text/plain": [
       "<Figure size 432x288 with 1 Axes>"
      ]
     },
     "metadata": {
      "needs_background": "light"
     },
     "output_type": "display_data"
    }
   ],
   "source": [
    "stats.probplot(dados.precipitacao, dist=\"norm\", plot=plt)\n",
    "plt.title('Probplot das precipitações com uma normal', fontsize=15, ha='center')"
   ]
  },
  {
   "cell_type": "markdown",
   "metadata": {},
   "source": [
    "<div id=\"estimando-n\"></div>\n",
    "\n",
    "# Estimando o tamanho da amostra\n",
    "\n",
    "Vamos aprender a estimar um tamanho da amostra com limite para o erro máximo da amostra com probabilidade $\\gamma$. Lembrando que $\\gamma$ é o complemento do nível de significância, ou seja, $\\gamma = 1 - \\alpha$.\n",
    "\n",
    "<div id=\"n-sigma-conhecido\"></div>\n",
    "\n",
    "## Estimativa de $n$ com $\\sigma$ conhecido\n",
    "\n",
    "Passo 1: Precisamos encontrar na normal padrão o valor de $z_{\\gamma/2}$ que faz com que a probabilidade $\\gamma$ esteja cercando a origem. Utilize a simulação a seguir para encontrar o valor de $z_{\\gamma/2}$ para $\\gamma = 95\\%$. "
   ]
  },
  {
   "cell_type": "code",
   "execution_count": 44,
   "metadata": {},
   "outputs": [
    {
     "data": {
      "application/vnd.jupyter.widget-view+json": {
       "model_id": "5aacd096784a4d9ea7ce7d7f92a0ef39",
       "version_major": 2,
       "version_minor": 0
      },
      "text/plain": [
       "interactive(children=(FloatSlider(value=1.0, description='z', max=2.6, min=1.0, step=0.02), Output()), _dom_cl…"
      ]
     },
     "metadata": {},
     "output_type": "display_data"
    }
   ],
   "source": [
    "zγ2 = 0\n",
    "prob = 0.9\n",
    "x = np.linspace(-5, 5, 500)\n",
    "y = norm.pdf(x)\n",
    "\n",
    "#Função que utiliza o pywidget\n",
    "@interact(z = (1.0, 2.6, 0.02))\n",
    "def f(z=0.2):\n",
    "    global zγ2\n",
    "    global prob\n",
    "    plt.plot(x,y)\n",
    "    plt.fill_between(x,y,where=(x>-z)&(x<z), color=\"wheat\")\n",
    "    cdfs = norm.cdf([-z,z])\n",
    "    area = cdfs[1]-cdfs[0]\n",
    "    plt.text(-0.7, 0.25*norm.pdf(0), \"$\\gamma={:.2f}\\%$\".format(area*100), fontsize=16)\n",
    "    plt.title(\"Valor $z$ que delimita probabilidade $\\gamma$ na $N(0,1)$\")\n",
    "    zγ2 = z\n",
    "    prob = area"
   ]
  },
  {
   "cell_type": "code",
   "execution_count": 45,
   "metadata": {},
   "outputs": [
    {
     "name": "stdout",
     "output_type": "stream",
     "text": [
      "z(𝛾/2)=1.96 com gamma=0.950004209703559\n"
     ]
    }
   ],
   "source": [
    "print('z(𝛾/2)={} com gamma={}'.format(zγ2, prob))"
   ]
  },
  {
   "cell_type": "markdown",
   "metadata": {},
   "source": [
    "Você também pode obter esse valor utilizando `stats.norm.ppf`, sem a necessidade de interação:"
   ]
  },
  {
   "cell_type": "code",
   "execution_count": 46,
   "metadata": {},
   "outputs": [
    {
     "name": "stdout",
     "output_type": "stream",
     "text": [
      "Calculando diretamente\n",
      "z(𝛾/2)=1.959963984540054 com gamma=0.95\n"
     ]
    }
   ],
   "source": [
    "print('Calculando diretamente')\n",
    "gamma = 0.95\n",
    "alpha = 1 - gamma\n",
    "z_gamma2 = stats.norm.ppf(1 - alpha / 2)  # Não precisa de loc e scale porque Z é a normal padrão\n",
    "print('z(𝛾/2)={} com gamma={}'.format(z_gamma2, gamma))"
   ]
  },
  {
   "cell_type": "markdown",
   "metadata": {},
   "source": [
    "Agora, com o $z_{\\gamma/2}$ encontrado acima, vamos encontrar $n$ tal que este valor seja menor que uma certa tolerância dada por parâmetros do problema. Suponha que gostaríamos de estimar uma amostra que em `prob` $\\%$ das vezes está a uma distância máxima $d$ da média amostral (essa distância $\\varepsilon$ deve ser definida por quem está conduzindo a análise, assim como o $\\gamma$). \n",
    "\n",
    "Precisamos então projetar uma curva normal estreita o suficiente. Para isso, o valor $d$ precisa corresponder ao $z_{\\gamma/2}$ encontrado acima.\n",
    "\n",
    "Para este exemplo vamos utilizar o exemplo dos resistores. Vamos supor que $\\sigma=50\\Omega$. Qual o tamanho $n$ da amostra precisaríamos ter para que em $95\\%$ das vezes estivéssemos a uma distância de no máximo $\\varepsilon=20\\Omega$ da média populacional $\\mu$?"
   ]
  },
  {
   "cell_type": "code",
   "execution_count": 47,
   "metadata": {
    "scrolled": false
   },
   "outputs": [
    {
     "data": {
      "application/vnd.jupyter.widget-view+json": {
       "model_id": "b10d2692f98741d1991ad1e7195321ce",
       "version_major": 2,
       "version_minor": 0
      },
      "text/plain": [
       "interactive(children=(IntSlider(value=1, description='n', max=80, min=1), IntSlider(value=1000, description='m…"
      ]
     },
     "metadata": {},
     "output_type": "display_data"
    }
   ],
   "source": [
    "σ = 50\n",
    "𝜀 = 20\n",
    "\n",
    "#Função que utiliza o pywidget\n",
    "@interact(n = (1, 80, 1), mu=(950, 1050, 2), 𝜀 = (10, 40, 2))\n",
    "def funcao_Xbar(n=1, mu=1000, 𝜀=15):\n",
    "    plt.xlim(mu-50, mu+50)\n",
    "    d_amostral = σ/sqrt(n)\n",
    "    x_amostral = np.linspace(mu - 4*d_amostral, mu+4*d_amostral, 100)\n",
    "    y_X = norm.pdf(x_amostral, loc=mu, scale=d_amostral)\n",
    "    plt.plot(x_amostral, y_X)\n",
    "    plt.axvline(mu + 𝜀, color=\"red\")\n",
    "    plt.axvline(mu - 𝜀, color=\"red\")\n",
    "    x_equiv = zγ2*d_amostral\n",
    "    cdfs = norm.cdf([mu-𝜀,mu+𝜀], loc=mu, scale=d_amostral)\n",
    "    area = cdfs[1]-cdfs[0]\n",
    "    plt.fill_between(x_amostral, y_X, where=((x_amostral >= (mu - x_equiv))&(x_amostral <= (mu + x_equiv)) ), color=\"wheat\")\n",
    "    plt.text(mu, 0.5*norm.pdf(mu), \"$\\gamma={:.2f}\\%$\".format(area*100), fontsize=12)\n",
    "    plt.title(\"$\\overline{X}$ e linhas com erro máximo desejado (probabilidade $\\gamma$)\")"
   ]
  },
  {
   "cell_type": "markdown",
   "metadata": {},
   "source": [
    "Note, no exemplo acima, que a média $\\mu$ específica não importa. O tamanho da amostra determina a variância da distribuição amostral, e a probabilidade será $\\gamma$ de conter o valor da média qualquer que seja ela.\n",
    "\n",
    "Baseado nas propriedades de variáveis aleatórias, isso pode ser representado da seguinte forma:\n",
    "\n",
    "$N(\\mu, \\sigma^2) = \\mu + N(0, \\sigma^2)$\n",
    "\n",
    "### Resumindo\n",
    "\n",
    "Os passos para encontrar um tamanho de amostra $n$ que contenha a média com erro máximo $d$ e probabilidade $\\gamma$ são:\n",
    "\n",
    "Encontrar $z_{\\gamma/2}$ na normal padrão $Z \\sim N(0,1)$\n",
    "\n",
    "Vamos usar a fórmula de padronização na normal de $\\overline{X}$: $z_{\\gamma/2} = \\frac{\\overline{x} - \\mu}{\\frac{\\sigma}{\\sqrt{n}}}$\n",
    "\n",
    "Lembremos que estamos interessados numa distância em relação à média populacional $\\mu$, ou seja:\n",
    "\n",
    "$\\varepsilon = \\overline{x} - \\mu$\n",
    "\n",
    "Temos então:\n",
    "\n",
    "$z_{\\gamma/2} = \\frac{\\varepsilon}{\\frac{\\sigma}{\\sqrt{n}}}$\n",
    "\n",
    "\n",
    "Isolando o $n$, encontramos:\n",
    "\n",
    "$n = ( z_{\\gamma/2}\\frac{\\sigma}{\\varepsilon} )^2$\n",
    "\n",
    "Utilizando a fórmula acima devemos obter o mesmo valor (ou próximo) encontrado na versão interativa."
   ]
  },
  {
   "cell_type": "code",
   "execution_count": null,
   "metadata": {},
   "outputs": [],
   "source": [
    "n = (z_gamma2 * σ / 𝜀)**2\n",
    "print(\"n={}\".format(n))\n",
    "print(\"Mas n deve ser um número inteiro, então: n={}\".format(ceil(n)))"
   ]
  },
  {
   "cell_type": "markdown",
   "metadata": {},
   "source": [
    "<div id=\"ex5\"></div>\n",
    "\n",
    "### EXERCÍCIO 5\n",
    "\n",
    "Uma fábrica de mantas de chumbo para proteção em radiografias precisa garantir que suas mantas têm uma certa espessura. Sabe-se que o desvio padrão é de $0.6mm$.\n",
    "\n",
    "Qual o tamanho da amostra é preciso ter para garantir que a média amostral $\\overline{x}$ esteja a uma distância máxima de $0.2mm$ da média $\\mu$? Considere 0,1% de significância.\n",
    "\n",
    "*Valores de referência para a resposta: z=3.2905267314918945, n=98*"
   ]
  },
  {
   "cell_type": "code",
   "execution_count": 48,
   "metadata": {},
   "outputs": [
    {
     "data": {
      "text/plain": [
       "3.2905267314919255"
      ]
     },
     "execution_count": 48,
     "metadata": {},
     "output_type": "execute_result"
    }
   ],
   "source": [
    "std = 0.6\n",
    "erro = 0.2\n",
    "alpha = 0.001\n",
    "z_gamma2 = stats.norm.ppf(1-alpha/2)\n",
    "z_gamma2"
   ]
  },
  {
   "cell_type": "code",
   "execution_count": 49,
   "metadata": {},
   "outputs": [
    {
     "data": {
      "text/plain": [
       "97.44809553596639"
      ]
     },
     "execution_count": 49,
     "metadata": {},
     "output_type": "execute_result"
    }
   ],
   "source": [
    "n=(z_gamma2*std/erro)**2\n",
    "n"
   ]
  }
 ],
 "metadata": {
  "hide_input": false,
  "kernelspec": {
   "display_name": "Python 3",
   "language": "python",
   "name": "python3"
  },
  "language_info": {
   "codemirror_mode": {
    "name": "ipython",
    "version": 3
   },
   "file_extension": ".py",
   "mimetype": "text/x-python",
   "name": "python",
   "nbconvert_exporter": "python",
   "pygments_lexer": "ipython3",
   "version": "3.7.1"
  }
 },
 "nbformat": 4,
 "nbformat_minor": 2
}
