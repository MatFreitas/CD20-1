{
 "cells": [
  {
   "cell_type": "markdown",
   "metadata": {},
   "source": [
    "___\n",
    "\n",
    "# Atividade - Regressão Linear Simples\n",
    "\n",
    "## Aula 22\n",
    "___\n",
    "\n",
    "<div id=\"indice\"></div>\n",
    "\n",
    "## Índice\n",
    "\n",
    "- [Renda vs CO2](#base)\n",
    "    - [Dados: Inner Join](#join)\n",
    "    - [Problema](#problema)\n",
    "- [Ajustando um modelo de regressão simples via Mínimos Quadrados](#regressao)\n",
    "    - [Suposições do modelo](#suposicoes)\n",
    "    - [Exercício 1 - $\\hat{\\beta}_1$ e  $\\hat{\\beta}_0$](#ex1)\n",
    "    - [Verificando os resultados da regressão](#verificando-resultados)\n",
    "    - [Exercício 2 - Resíduos ](#ex2)\n",
    "- [Ajustando um modelo de regressão simples via `statsmodels.OLS`](#ols)\n",
    "    - [Teste de hipóteses para os coeficientes](#th-coefs)\n",
    "    - [Usando `statsmodels.OLS`](#usando-ols)\n",
    "    - [Exercício 3 - Plot da reta ajustada](#ex3)\n",
    "    - [Exercício 4 - Resíduos](#ex4)\n",
    "    - [Exercício 5](#ex5)\n",
    "- [Explicação sobre resultados e suposições do modelo de regressão linear:](#explica)\n",
    "    - [Teste t :  valor-*p*  da estatística t](#testet)\n",
    "    - [Coeficiente de determinação $R^2$](#r2)\n",
    "    - [$R^2$ ajustado](#r2adj)\n",
    "    - [Estatística F](#f)\n",
    "    - [Teste Omnibus](#omnibus)\n",
    "    - [Teste Jarque-Bera](#jb)\n",
    "    - [Teste Durbin-Watson](#dw)\n",
    "- [Utilização dos resultados e validação das suposições do modelo:](#uso)    \n",
    "    - [Exercício 6 - Análise dos valores p](#ex6)\n",
    "    - [Exercício 7 - Análise da estatística F](#ex7)\n",
    "    - [Exercício 8 - Análise do $R^2$](#ex8)\n",
    "    - [Exercício 9 - Análise de normalidade do resíduo](#ex9)\n",
    "    - [Exercício 10 - Análise de homocedasticidade](#ex10)\n",
    "___"
   ]
  },
  {
   "cell_type": "markdown",
   "metadata": {},
   "source": [
    "___\n",
    "\n",
    "<div id=\"base\"></div>\n",
    "\n",
    "# Renda vs CO2\n",
    "\n",
    "Vamos trabalhar com os seguintes dados coletados do site https://www.gapminder.org/:\n",
    "1. Emissão de CO2 per capita\n",
    "1. Renda per capita\n",
    "\n",
    "As linhas representam os países e as colunas representam a emissão de CO2 ou renda per capita em cada ano. Estamos interessados em investigar a relação entre essas variáveis.\n",
    "\n",
    "Como os arquivos estão separados, será preciso juntá-los cruzando o país."
   ]
  },
  {
   "cell_type": "code",
   "execution_count": 1,
   "metadata": {},
   "outputs": [],
   "source": [
    "%matplotlib inline\n",
    "import pandas as pd\n",
    "\n",
    "import numpy as np\n",
    "from scipy import stats\n",
    "import matplotlib.pyplot as plt"
   ]
  },
  {
   "cell_type": "code",
   "execution_count": 2,
   "metadata": {},
   "outputs": [],
   "source": [
    "#Leitura dos arquivos em Excel\n",
    "co2 = pd.read_excel('indicator CDIAC carbon_dioxide_emissions_per_capita.xlsx')\n",
    "income = pd.read_excel('indicator gapminder gdp_per_capita_ppp.xlsx')"
   ]
  },
  {
   "cell_type": "code",
   "execution_count": 3,
   "metadata": {},
   "outputs": [
    {
     "data": {
      "text/html": [
       "<div>\n",
       "<style scoped>\n",
       "    .dataframe tbody tr th:only-of-type {\n",
       "        vertical-align: middle;\n",
       "    }\n",
       "\n",
       "    .dataframe tbody tr th {\n",
       "        vertical-align: top;\n",
       "    }\n",
       "\n",
       "    .dataframe thead th {\n",
       "        text-align: right;\n",
       "    }\n",
       "</style>\n",
       "<table border=\"1\" class=\"dataframe\">\n",
       "  <thead>\n",
       "    <tr style=\"text-align: right;\">\n",
       "      <th></th>\n",
       "      <th>CO2 per capita</th>\n",
       "      <th>1751</th>\n",
       "      <th>1755</th>\n",
       "      <th>1762</th>\n",
       "      <th>1763</th>\n",
       "      <th>1764</th>\n",
       "      <th>1765</th>\n",
       "      <th>1766</th>\n",
       "      <th>1767</th>\n",
       "      <th>1768</th>\n",
       "      <th>...</th>\n",
       "      <th>2003</th>\n",
       "      <th>2004</th>\n",
       "      <th>2005</th>\n",
       "      <th>2006</th>\n",
       "      <th>2007</th>\n",
       "      <th>2008</th>\n",
       "      <th>2009</th>\n",
       "      <th>2010</th>\n",
       "      <th>2011</th>\n",
       "      <th>2012</th>\n",
       "    </tr>\n",
       "  </thead>\n",
       "  <tbody>\n",
       "    <tr>\n",
       "      <th>0</th>\n",
       "      <td>Abkhazia</td>\n",
       "      <td>NaN</td>\n",
       "      <td>NaN</td>\n",
       "      <td>NaN</td>\n",
       "      <td>NaN</td>\n",
       "      <td>NaN</td>\n",
       "      <td>NaN</td>\n",
       "      <td>NaN</td>\n",
       "      <td>NaN</td>\n",
       "      <td>NaN</td>\n",
       "      <td>...</td>\n",
       "      <td>NaN</td>\n",
       "      <td>NaN</td>\n",
       "      <td>NaN</td>\n",
       "      <td>NaN</td>\n",
       "      <td>NaN</td>\n",
       "      <td>NaN</td>\n",
       "      <td>NaN</td>\n",
       "      <td>NaN</td>\n",
       "      <td>NaN</td>\n",
       "      <td>NaN</td>\n",
       "    </tr>\n",
       "    <tr>\n",
       "      <th>1</th>\n",
       "      <td>Afghanistan</td>\n",
       "      <td>NaN</td>\n",
       "      <td>NaN</td>\n",
       "      <td>NaN</td>\n",
       "      <td>NaN</td>\n",
       "      <td>NaN</td>\n",
       "      <td>NaN</td>\n",
       "      <td>NaN</td>\n",
       "      <td>NaN</td>\n",
       "      <td>NaN</td>\n",
       "      <td>...</td>\n",
       "      <td>0.022704</td>\n",
       "      <td>0.027472</td>\n",
       "      <td>0.03678</td>\n",
       "      <td>0.04709</td>\n",
       "      <td>0.068312</td>\n",
       "      <td>0.131602</td>\n",
       "      <td>0.213325</td>\n",
       "      <td>0.262174</td>\n",
       "      <td>NaN</td>\n",
       "      <td>NaN</td>\n",
       "    </tr>\n",
       "    <tr>\n",
       "      <th>2</th>\n",
       "      <td>Akrotiri and Dhekelia</td>\n",
       "      <td>NaN</td>\n",
       "      <td>NaN</td>\n",
       "      <td>NaN</td>\n",
       "      <td>NaN</td>\n",
       "      <td>NaN</td>\n",
       "      <td>NaN</td>\n",
       "      <td>NaN</td>\n",
       "      <td>NaN</td>\n",
       "      <td>NaN</td>\n",
       "      <td>...</td>\n",
       "      <td>NaN</td>\n",
       "      <td>NaN</td>\n",
       "      <td>NaN</td>\n",
       "      <td>NaN</td>\n",
       "      <td>NaN</td>\n",
       "      <td>NaN</td>\n",
       "      <td>NaN</td>\n",
       "      <td>NaN</td>\n",
       "      <td>NaN</td>\n",
       "      <td>NaN</td>\n",
       "    </tr>\n",
       "  </tbody>\n",
       "</table>\n",
       "<p>3 rows × 254 columns</p>\n",
       "</div>"
      ],
      "text/plain": [
       "          CO2 per capita  1751  1755  1762  1763  1764  1765  1766  1767  \\\n",
       "0               Abkhazia   NaN   NaN   NaN   NaN   NaN   NaN   NaN   NaN   \n",
       "1            Afghanistan   NaN   NaN   NaN   NaN   NaN   NaN   NaN   NaN   \n",
       "2  Akrotiri and Dhekelia   NaN   NaN   NaN   NaN   NaN   NaN   NaN   NaN   \n",
       "\n",
       "   1768  ...       2003      2004     2005     2006      2007      2008  \\\n",
       "0   NaN  ...        NaN       NaN      NaN      NaN       NaN       NaN   \n",
       "1   NaN  ...   0.022704  0.027472  0.03678  0.04709  0.068312  0.131602   \n",
       "2   NaN  ...        NaN       NaN      NaN      NaN       NaN       NaN   \n",
       "\n",
       "       2009      2010  2011  2012  \n",
       "0       NaN       NaN   NaN   NaN  \n",
       "1  0.213325  0.262174   NaN   NaN  \n",
       "2       NaN       NaN   NaN   NaN  \n",
       "\n",
       "[3 rows x 254 columns]"
      ]
     },
     "execution_count": 3,
     "metadata": {},
     "output_type": "execute_result"
    }
   ],
   "source": [
    "#É possível verificar que cada linha representa um país e as colunas representam o ano\n",
    "co2.head(3)"
   ]
  },
  {
   "cell_type": "code",
   "execution_count": 4,
   "metadata": {},
   "outputs": [
    {
     "data": {
      "text/html": [
       "<div>\n",
       "<style scoped>\n",
       "    .dataframe tbody tr th:only-of-type {\n",
       "        vertical-align: middle;\n",
       "    }\n",
       "\n",
       "    .dataframe tbody tr th {\n",
       "        vertical-align: top;\n",
       "    }\n",
       "\n",
       "    .dataframe thead th {\n",
       "        text-align: right;\n",
       "    }\n",
       "</style>\n",
       "<table border=\"1\" class=\"dataframe\">\n",
       "  <thead>\n",
       "    <tr style=\"text-align: right;\">\n",
       "      <th></th>\n",
       "      <th>GDP per capita</th>\n",
       "      <th>1800</th>\n",
       "      <th>1801</th>\n",
       "      <th>1802</th>\n",
       "      <th>1803</th>\n",
       "      <th>1804</th>\n",
       "      <th>1805</th>\n",
       "      <th>1806</th>\n",
       "      <th>1807</th>\n",
       "      <th>1808</th>\n",
       "      <th>...</th>\n",
       "      <th>2006</th>\n",
       "      <th>2007</th>\n",
       "      <th>2008</th>\n",
       "      <th>2009</th>\n",
       "      <th>2010</th>\n",
       "      <th>2011</th>\n",
       "      <th>2012</th>\n",
       "      <th>2013</th>\n",
       "      <th>2014</th>\n",
       "      <th>2015</th>\n",
       "    </tr>\n",
       "  </thead>\n",
       "  <tbody>\n",
       "    <tr>\n",
       "      <th>0</th>\n",
       "      <td>Abkhazia</td>\n",
       "      <td>NaN</td>\n",
       "      <td>NaN</td>\n",
       "      <td>NaN</td>\n",
       "      <td>NaN</td>\n",
       "      <td>NaN</td>\n",
       "      <td>NaN</td>\n",
       "      <td>NaN</td>\n",
       "      <td>NaN</td>\n",
       "      <td>NaN</td>\n",
       "      <td>...</td>\n",
       "      <td>NaN</td>\n",
       "      <td>NaN</td>\n",
       "      <td>NaN</td>\n",
       "      <td>NaN</td>\n",
       "      <td>NaN</td>\n",
       "      <td>NaN</td>\n",
       "      <td>NaN</td>\n",
       "      <td>NaN</td>\n",
       "      <td>NaN</td>\n",
       "      <td>NaN</td>\n",
       "    </tr>\n",
       "    <tr>\n",
       "      <th>1</th>\n",
       "      <td>Afghanistan</td>\n",
       "      <td>603.0</td>\n",
       "      <td>603.0</td>\n",
       "      <td>603.0</td>\n",
       "      <td>603.0</td>\n",
       "      <td>603.0</td>\n",
       "      <td>603.0</td>\n",
       "      <td>603.0</td>\n",
       "      <td>603.0</td>\n",
       "      <td>603.0</td>\n",
       "      <td>...</td>\n",
       "      <td>1173.0</td>\n",
       "      <td>1298.0</td>\n",
       "      <td>1311.0</td>\n",
       "      <td>1548.0</td>\n",
       "      <td>1637.0</td>\n",
       "      <td>1695.0</td>\n",
       "      <td>1893.0</td>\n",
       "      <td>1884.0</td>\n",
       "      <td>1877.0</td>\n",
       "      <td>1925.0</td>\n",
       "    </tr>\n",
       "    <tr>\n",
       "      <th>2</th>\n",
       "      <td>Akrotiri and Dhekelia</td>\n",
       "      <td>NaN</td>\n",
       "      <td>NaN</td>\n",
       "      <td>NaN</td>\n",
       "      <td>NaN</td>\n",
       "      <td>NaN</td>\n",
       "      <td>NaN</td>\n",
       "      <td>NaN</td>\n",
       "      <td>NaN</td>\n",
       "      <td>NaN</td>\n",
       "      <td>...</td>\n",
       "      <td>NaN</td>\n",
       "      <td>NaN</td>\n",
       "      <td>NaN</td>\n",
       "      <td>NaN</td>\n",
       "      <td>NaN</td>\n",
       "      <td>NaN</td>\n",
       "      <td>NaN</td>\n",
       "      <td>NaN</td>\n",
       "      <td>NaN</td>\n",
       "      <td>NaN</td>\n",
       "    </tr>\n",
       "  </tbody>\n",
       "</table>\n",
       "<p>3 rows × 217 columns</p>\n",
       "</div>"
      ],
      "text/plain": [
       "          GDP per capita   1800   1801   1802   1803   1804   1805   1806  \\\n",
       "0               Abkhazia    NaN    NaN    NaN    NaN    NaN    NaN    NaN   \n",
       "1            Afghanistan  603.0  603.0  603.0  603.0  603.0  603.0  603.0   \n",
       "2  Akrotiri and Dhekelia    NaN    NaN    NaN    NaN    NaN    NaN    NaN   \n",
       "\n",
       "    1807   1808   ...      2006    2007    2008    2009    2010    2011  \\\n",
       "0    NaN    NaN   ...       NaN     NaN     NaN     NaN     NaN     NaN   \n",
       "1  603.0  603.0   ...    1173.0  1298.0  1311.0  1548.0  1637.0  1695.0   \n",
       "2    NaN    NaN   ...       NaN     NaN     NaN     NaN     NaN     NaN   \n",
       "\n",
       "     2012    2013    2014    2015  \n",
       "0     NaN     NaN     NaN     NaN  \n",
       "1  1893.0  1884.0  1877.0  1925.0  \n",
       "2     NaN     NaN     NaN     NaN  \n",
       "\n",
       "[3 rows x 217 columns]"
      ]
     },
     "execution_count": 4,
     "metadata": {},
     "output_type": "execute_result"
    }
   ],
   "source": [
    "#O mesmo se aplica a renda.\n",
    "income.head(3)"
   ]
  },
  {
   "cell_type": "markdown",
   "metadata": {},
   "source": [
    "___\n",
    "\n",
    "<div id=\"join\"></div>\n",
    "\n",
    "### Dados: Inner Join\n",
    "\n",
    "Vamos agora juntar as duas tabelas via país, selecionar apenas o ano de 2010 e remover os NaNs.\n",
    "\n",
    "Ao final vamos fazer o gráfico de dispersão das duas variáveis.\n",
    "\n",
    "**Sugestão**: pesquise sobre a função DataFrame.join(), pode ser muito útil no futuro."
   ]
  },
  {
   "cell_type": "code",
   "execution_count": 5,
   "metadata": {},
   "outputs": [],
   "source": [
    "#Cruza as duas tabelas via país\n",
    "co2_index = co2.set_index('CO2 per capita')\n",
    "income_index = income.set_index('GDP per capita')\n",
    "\n",
    "df = co2_index.join(income_index, how='inner', lsuffix='_co2', rsuffix='_income')"
   ]
  },
  {
   "cell_type": "code",
   "execution_count": 8,
   "metadata": {},
   "outputs": [
    {
     "data": {
      "text/html": [
       "<div>\n",
       "<style scoped>\n",
       "    .dataframe tbody tr th:only-of-type {\n",
       "        vertical-align: middle;\n",
       "    }\n",
       "\n",
       "    .dataframe tbody tr th {\n",
       "        vertical-align: top;\n",
       "    }\n",
       "\n",
       "    .dataframe thead th {\n",
       "        text-align: right;\n",
       "    }\n",
       "</style>\n",
       "<table border=\"1\" class=\"dataframe\">\n",
       "  <thead>\n",
       "    <tr style=\"text-align: right;\">\n",
       "      <th></th>\n",
       "      <th>2010_co2</th>\n",
       "      <th>2010_income</th>\n",
       "    </tr>\n",
       "  </thead>\n",
       "  <tbody>\n",
       "    <tr>\n",
       "      <th>Afghanistan</th>\n",
       "      <td>0.262174</td>\n",
       "      <td>1637.0</td>\n",
       "    </tr>\n",
       "    <tr>\n",
       "      <th>Albania</th>\n",
       "      <td>1.336544</td>\n",
       "      <td>9374.0</td>\n",
       "    </tr>\n",
       "    <tr>\n",
       "      <th>Algeria</th>\n",
       "      <td>3.480977</td>\n",
       "      <td>12494.0</td>\n",
       "    </tr>\n",
       "    <tr>\n",
       "      <th>Andorra</th>\n",
       "      <td>6.092100</td>\n",
       "      <td>38982.0</td>\n",
       "    </tr>\n",
       "    <tr>\n",
       "      <th>Angola</th>\n",
       "      <td>1.593918</td>\n",
       "      <td>7047.0</td>\n",
       "    </tr>\n",
       "  </tbody>\n",
       "</table>\n",
       "</div>"
      ],
      "text/plain": [
       "             2010_co2  2010_income\n",
       "Afghanistan  0.262174       1637.0\n",
       "Albania      1.336544       9374.0\n",
       "Algeria      3.480977      12494.0\n",
       "Andorra      6.092100      38982.0\n",
       "Angola       1.593918       7047.0"
      ]
     },
     "execution_count": 8,
     "metadata": {},
     "output_type": "execute_result"
    }
   ],
   "source": [
    "#Seleciona o ano de 2010 e remove os NaNs\n",
    "df = df[['2010_co2','2010_income']].dropna()\n",
    "df.head()"
   ]
  },
  {
   "cell_type": "code",
   "execution_count": 9,
   "metadata": {},
   "outputs": [
    {
     "data": {
      "text/html": [
       "<div>\n",
       "<style scoped>\n",
       "    .dataframe tbody tr th:only-of-type {\n",
       "        vertical-align: middle;\n",
       "    }\n",
       "\n",
       "    .dataframe tbody tr th {\n",
       "        vertical-align: top;\n",
       "    }\n",
       "\n",
       "    .dataframe thead th {\n",
       "        text-align: right;\n",
       "    }\n",
       "</style>\n",
       "<table border=\"1\" class=\"dataframe\">\n",
       "  <thead>\n",
       "    <tr style=\"text-align: right;\">\n",
       "      <th></th>\n",
       "      <th>2010_co2</th>\n",
       "      <th>2010_income</th>\n",
       "    </tr>\n",
       "  </thead>\n",
       "  <tbody>\n",
       "    <tr>\n",
       "      <th>Afghanistan</th>\n",
       "      <td>0.262174</td>\n",
       "      <td>1.637</td>\n",
       "    </tr>\n",
       "    <tr>\n",
       "      <th>Albania</th>\n",
       "      <td>1.336544</td>\n",
       "      <td>9.374</td>\n",
       "    </tr>\n",
       "    <tr>\n",
       "      <th>Algeria</th>\n",
       "      <td>3.480977</td>\n",
       "      <td>12.494</td>\n",
       "    </tr>\n",
       "    <tr>\n",
       "      <th>Andorra</th>\n",
       "      <td>6.092100</td>\n",
       "      <td>38.982</td>\n",
       "    </tr>\n",
       "    <tr>\n",
       "      <th>Angola</th>\n",
       "      <td>1.593918</td>\n",
       "      <td>7.047</td>\n",
       "    </tr>\n",
       "  </tbody>\n",
       "</table>\n",
       "</div>"
      ],
      "text/plain": [
       "             2010_co2  2010_income\n",
       "Afghanistan  0.262174        1.637\n",
       "Albania      1.336544        9.374\n",
       "Algeria      3.480977       12.494\n",
       "Andorra      6.092100       38.982\n",
       "Angola       1.593918        7.047"
      ]
     },
     "execution_count": 9,
     "metadata": {},
     "output_type": "execute_result"
    }
   ],
   "source": [
    "#Transforma a renda na escala de milhares de dólares\n",
    "df['2010_income'] /= 1000\n",
    "df.head()"
   ]
  },
  {
   "cell_type": "markdown",
   "metadata": {},
   "source": [
    "___\n",
    "\n",
    "<div id=\"problema\"></div>\n",
    "\n",
    "### Problema\n",
    "\n",
    "Considere que o objetivo aqui seja **explicar/prever** a emissão de gás carbono (CO2) per capita de um país em função da renda (PIB) per capita.\n",
    "\n",
    "Por conta disso, vamos considerar `CO2` como variável dependente (ou variável resposta ou variável *target*) para ser considerada no `eixo y` e `renda` como independente (ou explicativa ou *features*) no `eixo x`."
   ]
  },
  {
   "cell_type": "code",
   "execution_count": 10,
   "metadata": {},
   "outputs": [
    {
     "data": {
      "image/png": "[encoded data removed]",
      "text/plain": [
       "<Figure size 432x288 with 1 Axes>"
      ]
     },
     "metadata": {
      "needs_background": "light"
     },
     "output_type": "display_data"
    }
   ],
   "source": [
    "x_dados = df['2010_income'] # Definindo renda como explicativa\n",
    "y_dados = df['2010_co2']    # Definindo CO2 como resposta\n",
    "\n",
    "plt.scatter(x_dados,y_dados);\n",
    "plt.xlabel(\"x: 2010 income\");\n",
    "plt.ylabel(\"y: 2010 co2 per capita\");"
   ]
  },
  {
   "cell_type": "markdown",
   "metadata": {},
   "source": [
    "___\n",
    "\n",
    "<div id=\"regressao\"></div>\n",
    "\n",
    "# Ajustando um modelo de regressão simples via Mínimos Quadrados\n",
    "\n",
    "Vamos tentar agora ajustar um modelo sobre os dados. A primeira tentativa será ajustar um reta:\n",
    "\n",
    "$$y_i=\\beta_0+\\beta_1x_i+\\varepsilon_i$$\n",
    "\n",
    "Onde:\n",
    "1. $\\beta_i$ são os coeficientes do modelo de regressão;\n",
    "1. $\\varepsilon_i$ representa os **erros aleatórios**. O erro aleatório tem média zero e variância (desconhecida) $\\sigma^2$. Além disso, esses erros aleatórios correspondentes as diferentes observações são também considerados variáveis aleatórias não correlacionadas. Vide Montegomery e Runger (2018), Seção 11-2, página 335.\n",
    "\n",
    "O primeiro passo agora é calcular os valores da regressão. Existem diversas formas de estimar os $\\beta$s, vamos utilizar o método de **Mínimos Quadrados Ordinários (MQO ou OLS - Ordinary Least Squares em inglês)**. \n",
    "\n",
    "$$\\hat{\\beta}_0=\\bar{y}-\\hat{\\beta}_1\\bar{x}$$\n",
    "\n",
    "$$\\hat{\\beta}_1=\\frac{S_{XY}}{S_{XX}}=\\frac{\\sum_{i=1}^n(x_i-\\bar{x})(y_i-\\bar{y})}{\\sum_{i=1}^n(x_i-\\bar{x})^2}$$\n",
    "\n",
    "<div id=\"suposicoes\"></div>\n",
    "\n",
    "### Suposições do modelo\n",
    "\n",
    "Para podermos aplicar o modelo é necessário fazermos algumas suposições:\n",
    "\n",
    "1. Os **erros têm distribuição normal** com média 0 e variância constante, ou seja, $\\varepsilon_i \\sim N(0, \\sigma^2)$.\n",
    "2. Os **erros são independentes** entre si, ou seja, $Corr(\\varepsilon_i, \\varepsilon_j)=0$, para qualquer $i \\neq j$.\n",
    "3. **O modelo é linear nos parâmetros**.\n",
    "4. **Homocedasticidade: $Var(\\varepsilon_i) = \\sigma^2$** para qualquer $i = 1, \\dots, n$."
   ]
  },
  {
   "cell_type": "markdown",
   "metadata": {},
   "source": [
    "___\n",
    "\n",
    "<div id=\"ex1\"></div>\n",
    "\n",
    "### EXERCÍCIO 1 - $\\hat{\\beta}_1$ e  $\\hat{\\beta}_0$\n",
    "\n",
    "Calcule os valores de $\\bar{x}$ e $\\bar{y}$. Calcule também $S_{XX}$ e $S_{XY}$, em seguida calcule o $\\hat{\\beta}_1$ e o $\\hat{\\beta}_0$. Armazene os resultados de $\\hat{\\beta}_1$ e $\\hat{\\beta}_0$ nas variáveis `b1` e `b0`, respectivamente."
   ]
  },
  {
   "cell_type": "code",
   "execution_count": 12,
   "metadata": {},
   "outputs": [],
   "source": [
    "# ESCREVA SEU CÓDIGO AQUI\n",
    "\n",
    "xbarra = x_dados.mean()\n",
    "ybarra = y_dados.mean()"
   ]
  },
  {
   "cell_type": "code",
   "execution_count": 19,
   "metadata": {},
   "outputs": [
    {
     "name": "stdout",
     "output_type": "stream",
     "text": [
      "Coeficiente linear  (beta0): 0.6557309117836843\n",
      "Coeficiente angular (beta1): 0.24326849086184094\n",
      "Valor previsto para CO2 = 0.655731 + 0.243268*Renda\n"
     ]
    }
   ],
   "source": [
    "num = ((x_dados-xbarra)*(y_dados-ybarra)).sum()\n",
    "den = ((x_dados-xbarra)**2).sum()\n",
    "\n",
    "b1 = num/den\n",
    "b0 = ybarra - beta1*xbarra\n",
    "\n",
    "print(\"Coeficiente linear  (beta0): {}\".format(b0))\n",
    "print(\"Coeficiente angular (beta1): {}\".format(b1))\n",
    "print(\"Valor previsto para CO2 = {0:g} + {1:g}*Renda\".format(b0, b1))"
   ]
  },
  {
   "cell_type": "markdown",
   "metadata": {},
   "source": [
    "<div id=\"verificando-resultados\"></div>\n",
    "\n",
    "### Verificando os resultados da regressão\n",
    "\n",
    "Vamos contrastar a reta estimada pelo modelo de regressão com os dados observados.\n",
    "\n",
    "Para tanto, serão construídos:\n",
    " * `x_vec`: vetor de valores considerando a amplitude dos dados que estão no `eixo x`\n",
    " * `y_vec`: vetor com valores ajustados para y a partir de um valor de `x_vec`, considerando os coeficentes da reta"
   ]
  },
  {
   "cell_type": "code",
   "execution_count": 20,
   "metadata": {},
   "outputs": [
    {
     "data": {
      "image/png": "[encoded data removed]",
      "text/plain": [
       "<Figure size 504x432 with 1 Axes>"
      ]
     },
     "metadata": {
      "needs_background": "light"
     },
     "output_type": "display_data"
    }
   ],
   "source": [
    "x_vec = np.linspace(x_dados.min(), x_dados.max(), 500)\n",
    "y_vec = b0 + b1*x_vec\n",
    "\n",
    "plt.figure(figsize=(7,6))\n",
    "plt.plot(x_vec,y_vec, color=\"r\") # resultados da regressão\n",
    "plt.scatter(x_dados, y_dados); # dados\n",
    "plt.xlabel(\"x: 2010 income\")\n",
    "plt.ylabel(\"y: 2010 co2 per capita\")\n",
    "plt.legend(('reta ajustada','dados'), bbox_to_anchor=(1.05, 1), borderaxespad=0.)\n",
    "plt.show()"
   ]
  },
  {
   "cell_type": "markdown",
   "metadata": {},
   "source": [
    "___\n",
    "\n",
    "<div id=\"ex2\"></div>\n",
    "\n",
    "### EXERCÍCIO 2 - Resíduos \n",
    "\n",
    "Agora calcular o vetor de resíduos, dado por:\n",
    "$$e_i=y_i-\\hat{y_i}=y_i-(\\hat{\\beta}_0+\\hat{\\beta}_1x_i)$$\n",
    "\n",
    "Ou seja, resíduo indica o que cada valor observado em $y$ ficou distante do valor previsto pela reta $\\hat{y}$.\n",
    "\n",
    "**Verifique GRAFICAMENTE a normalidade dos resíduos. Parece uma Normal?**"
   ]
  },
  {
   "cell_type": "code",
   "execution_count": 22,
   "metadata": {},
   "outputs": [
    {
     "data": {
      "text/plain": [
       "Afghanistan     1.053961\n",
       "Albania         2.936130\n",
       "Algeria         3.695127\n",
       "Andorra        10.138823\n",
       "Angola          2.370044\n",
       "Name: 2010_income, dtype: float64"
      ]
     },
     "execution_count": 22,
     "metadata": {},
     "output_type": "execute_result"
    }
   ],
   "source": [
    "y_previsto = b0 + b1*x_dados\n",
    "y_previsto.head()"
   ]
  },
  {
   "cell_type": "code",
   "execution_count": 25,
   "metadata": {},
   "outputs": [
    {
     "data": {
      "text/plain": [
       "Afghanistan   -0.791788\n",
       "Albania       -1.599586\n",
       "Algeria       -0.214151\n",
       "Andorra       -4.046723\n",
       "Angola        -0.776126\n",
       "dtype: float64"
      ]
     },
     "execution_count": 25,
     "metadata": {},
     "output_type": "execute_result"
    }
   ],
   "source": [
    "res = y_dados - y_previsto\n",
    "res.head()"
   ]
  },
  {
   "cell_type": "code",
   "execution_count": 28,
   "metadata": {},
   "outputs": [
    {
     "data": {
      "image/png": "[encoded data removed]",
      "text/plain": [
       "<Figure size 720x360 with 2 Axes>"
      ]
     },
     "metadata": {
      "needs_background": "light"
     },
     "output_type": "display_data"
    }
   ],
   "source": [
    "plt.figure(figsize=(10,5))\n",
    "\n",
    "plt.subplot(121)\n",
    "plt.hist(res)\n",
    "\n",
    "\n",
    "plt.subplot(122)\n",
    "stats.probplot(res, dist=\"norm\", plot=plt)\n",
    "\n",
    "plt.tight_layout()"
   ]
  },
  {
   "cell_type": "markdown",
   "metadata": {},
   "source": [
    "Para esse caso, os resíduos **não** se encaixam numa normal muito bem!"
   ]
  },
  {
   "cell_type": "markdown",
   "metadata": {},
   "source": [
    "___\n",
    "\n",
    "<div id=\"ols\"></div>\n",
    "\n",
    "# Ajustando um modelo de regressão simples via `statsmodels.OLS`"
   ]
  },
  {
   "cell_type": "markdown",
   "metadata": {},
   "source": [
    "<div id=\"th-coefs\"></div>\n",
    "\n",
    "### Teste de hipóteses para os coeficientes \n",
    "\n",
    "Agora que já aprendemos Teste de Hipóteses, podemos verificar a significância dos $\\beta$'s e para tal vamos testar:\n",
    "\n",
    "$$H_0: \\beta_i=0$$\n",
    "$$H_1: \\beta_i\\neq0$$\n",
    "\n",
    "com $i=0$ e $i=1$. A **significância da regressão** está na rejeição de $H_0: \\beta_1=0$, pois isso torna a variável descrita em $x$ relevante ao modelo para melhor prever a variável descrita em $y$.\n",
    "\n",
    "\n",
    "Verifique os resultados da regressão obtidos considerando o comando `OLS` contido no pacote `statsmodelos.api`.\n",
    "\n",
    "Considerando os resultados desse ajuste obtido pelo `summary`, responda os exercícios."
   ]
  },
  {
   "cell_type": "markdown",
   "metadata": {},
   "source": [
    "___\n",
    "\n",
    "<div id=\"usando-ols\"></div>\n",
    "\n",
    "### Usando `statsmodels.OLS`\n",
    "\n",
    "Agora que estão familiarizados com algumas medidas obtidas na \"raça\" calculando $\\hat{beta}_0$ e $\\hat{beta}_1$ com as expressões obtidas pelo método dos mínimos quadrados, vamos aprender como utilizar a função `OLS()` da biblioteca `statsmodel` e interpretar os resultados."
   ]
  },
  {
   "cell_type": "code",
   "execution_count": 29,
   "metadata": {},
   "outputs": [],
   "source": [
    "import statsmodels.api as sm # Importe da biblioteca"
   ]
  },
  {
   "cell_type": "code",
   "execution_count": 30,
   "metadata": {},
   "outputs": [],
   "source": [
    "# Repetindo - mas já fizemos isso anteriormente\n",
    "x_dados = df['2010_income'] # Definindo renda como explicativa\n",
    "y_dados = df['2010_co2']    # Definindo CO2 como resposta\n",
    "\n",
    "# Matriz de 1s e valores de x_dados\n",
    "X_dados = sm.add_constant(x_dados) # Adiciona coluna de 1s para estimar intercepto junto com a coluna de x (dados), para compor \n",
    "                                   # beta0"
   ]
  },
  {
   "cell_type": "code",
   "execution_count": 31,
   "metadata": {},
   "outputs": [
    {
     "data": {
      "text/html": [
       "<table class=\"simpletable\">\n",
       "<caption>OLS Regression Results</caption>\n",
       "<tr>\n",
       "  <th>Dep. Variable:</th>        <td>2010_co2</td>     <th>  R-squared:         </th> <td>   0.561</td>\n",
       "</tr>\n",
       "<tr>\n",
       "  <th>Model:</th>                   <td>OLS</td>       <th>  Adj. R-squared:    </th> <td>   0.559</td>\n",
       "</tr>\n",
       "<tr>\n",
       "  <th>Method:</th>             <td>Least Squares</td>  <th>  F-statistic:       </th> <td>   235.2</td>\n",
       "</tr>\n",
       "<tr>\n",
       "  <th>Date:</th>             <td>Tue, 19 May 2020</td> <th>  Prob (F-statistic):</th> <td>9.80e-35</td>\n",
       "</tr>\n",
       "<tr>\n",
       "  <th>Time:</th>                 <td>18:19:17</td>     <th>  Log-Likelihood:    </th> <td> -534.72</td>\n",
       "</tr>\n",
       "<tr>\n",
       "  <th>No. Observations:</th>      <td>   186</td>      <th>  AIC:               </th> <td>   1073.</td>\n",
       "</tr>\n",
       "<tr>\n",
       "  <th>Df Residuals:</th>          <td>   184</td>      <th>  BIC:               </th> <td>   1080.</td>\n",
       "</tr>\n",
       "<tr>\n",
       "  <th>Df Model:</th>              <td>     1</td>      <th>                     </th>     <td> </td>   \n",
       "</tr>\n",
       "<tr>\n",
       "  <th>Covariance Type:</th>      <td>nonrobust</td>    <th>                     </th>     <td> </td>   \n",
       "</tr>\n",
       "</table>\n",
       "<table class=\"simpletable\">\n",
       "<tr>\n",
       "       <td></td>          <th>coef</th>     <th>std err</th>      <th>t</th>      <th>P>|t|</th>  <th>[0.025</th>    <th>0.975]</th>  \n",
       "</tr>\n",
       "<tr>\n",
       "  <th>const</th>       <td>    0.6557</td> <td>    0.423</td> <td>    1.551</td> <td> 0.123</td> <td>   -0.178</td> <td>    1.490</td>\n",
       "</tr>\n",
       "<tr>\n",
       "  <th>2010_income</th> <td>    0.2433</td> <td>    0.016</td> <td>   15.337</td> <td> 0.000</td> <td>    0.212</td> <td>    0.275</td>\n",
       "</tr>\n",
       "</table>\n",
       "<table class=\"simpletable\">\n",
       "<tr>\n",
       "  <th>Omnibus:</th>       <td>100.299</td> <th>  Durbin-Watson:     </th> <td>   2.049</td>\n",
       "</tr>\n",
       "<tr>\n",
       "  <th>Prob(Omnibus):</th> <td> 0.000</td>  <th>  Jarque-Bera (JB):  </th> <td>2384.399</td>\n",
       "</tr>\n",
       "<tr>\n",
       "  <th>Skew:</th>          <td> 1.435</td>  <th>  Prob(JB):          </th> <td>    0.00</td>\n",
       "</tr>\n",
       "<tr>\n",
       "  <th>Kurtosis:</th>      <td>20.304</td>  <th>  Cond. No.          </th> <td>    35.7</td>\n",
       "</tr>\n",
       "</table><br/><br/>Warnings:<br/>[1] Standard Errors assume that the covariance matrix of the errors is correctly specified."
      ],
      "text/plain": [
       "<class 'statsmodels.iolib.summary.Summary'>\n",
       "\"\"\"\n",
       "                            OLS Regression Results                            \n",
       "==============================================================================\n",
       "Dep. Variable:               2010_co2   R-squared:                       0.561\n",
       "Model:                            OLS   Adj. R-squared:                  0.559\n",
       "Method:                 Least Squares   F-statistic:                     235.2\n",
       "Date:                Tue, 19 May 2020   Prob (F-statistic):           9.80e-35\n",
       "Time:                        18:19:17   Log-Likelihood:                -534.72\n",
       "No. Observations:                 186   AIC:                             1073.\n",
       "Df Residuals:                     184   BIC:                             1080.\n",
       "Df Model:                           1                                         \n",
       "Covariance Type:            nonrobust                                         \n",
       "===============================================================================\n",
       "                  coef    std err          t      P>|t|      [0.025      0.975]\n",
       "-------------------------------------------------------------------------------\n",
       "const           0.6557      0.423      1.551      0.123      -0.178       1.490\n",
       "2010_income     0.2433      0.016     15.337      0.000       0.212       0.275\n",
       "==============================================================================\n",
       "Omnibus:                      100.299   Durbin-Watson:                   2.049\n",
       "Prob(Omnibus):                  0.000   Jarque-Bera (JB):             2384.399\n",
       "Skew:                           1.435   Prob(JB):                         0.00\n",
       "Kurtosis:                      20.304   Cond. No.                         35.7\n",
       "==============================================================================\n",
       "\n",
       "Warnings:\n",
       "[1] Standard Errors assume that the covariance matrix of the errors is correctly specified.\n",
       "\"\"\""
      ]
     },
     "execution_count": 31,
     "metadata": {},
     "output_type": "execute_result"
    }
   ],
   "source": [
    "# Define o modelo\n",
    "model = sm.OLS(y_dados, X_dados) # Atenção: X_dados deve ter a coluna de uns adicionada aos valores observados de x\n",
    "\n",
    "# Faz o ajuste\n",
    "results = model.fit()   \n",
    "\n",
    "# Mostra os resultados\n",
    "results.summary()       "
   ]
  },
  {
   "cell_type": "markdown",
   "metadata": {},
   "source": [
    "**AGORA USE A SAIDA do OLS Regression Results**\n",
    "\n",
    "Como resultado do `statsmodels.OLS` obtivemos a tabela acima, que contém diversas informações e pode ser um pouco intimidadora em um primeiro contato. Inicialmente estamos interessados apenas nos valores de $\\hat\\beta_0$ (intercepto: `const`) e $\\hat\\beta_1$ (inclinação da reta: `2010_income`). Esses valores podem ser encontrados na coluna `coef` do *output* do OLS Regression Results. Posteriormente vamos entender algumas das outras informações disponíveis nesse resultado."
   ]
  },
  {
   "cell_type": "code",
   "execution_count": null,
   "metadata": {},
   "outputs": [],
   "source": [
    "beta0 = results.params['const']\n",
    "beta1 = results.params['2010_income']\n",
    "\n",
    "print(\"Estimativa de beta0 (coeficente linear): {0}\".format(beta0))\n",
    "print(\"Estimativa de beta1 (coeficente angular): {0}\".format(beta1))"
   ]
  },
  {
   "cell_type": "markdown",
   "metadata": {},
   "source": [
    "___\n",
    "\n",
    "<div id=\"ex3\"></div>\n",
    "\n",
    "### EXERCÍCIO 3 - Plot da reta ajustada\n",
    "\n",
    "Usando os resultados da equação obtida via `statsmodels`, plote novamente a reta ajustada sobre os pontos. \n",
    "\n",
    "**Dica 1**: você pode utilizar o `results.predict` (consulte a documentação).\n",
    "\n",
    "**Dica 2**: para usar essa função você pode precisar do `sm.add_constant` (utilizado [aqui](usando-ols))."
   ]
  },
  {
   "cell_type": "code",
   "execution_count": null,
   "metadata": {},
   "outputs": [],
   "source": [
    "# ESCREVA SEU CÓDIGO AQUI"
   ]
  },
  {
   "cell_type": "markdown",
   "metadata": {},
   "source": [
    "<div id=\"ex4\"></div>\n",
    "\n",
    "### EXERCÍCIO 4 - Resíduos\n",
    "\n",
    "Gere o `probplot` dos resíduos para verificar a sua normalidade.\n",
    "\n",
    "**Dica**: Você pode obter o valor dos resíduos no atributo `resid` dos resultados da regressão (`results.resid`)."
   ]
  },
  {
   "cell_type": "code",
   "execution_count": null,
   "metadata": {
    "scrolled": false
   },
   "outputs": [],
   "source": [
    "# ESCREVA SUA RESPOSTA AQUI"
   ]
  },
  {
   "cell_type": "markdown",
   "metadata": {},
   "source": [
    "___\n",
    "\n",
    "<div id=\"ex5\"></div>\n",
    "\n",
    "### EXERCÍCIO 5 \n",
    "\n",
    "Interprete os resultados acima. Você acha que os resíduos formam uma normal? Discuta a homocedasticidade do modelo (a variância dos erros é constante?)."
   ]
  },
  {
   "cell_type": "code",
   "execution_count": null,
   "metadata": {},
   "outputs": [],
   "source": [
    "# ESCREVA SUA RESPOSTA AQUI"
   ]
  },
  {
   "cell_type": "markdown",
   "metadata": {},
   "source": [
    "___\n",
    "\n",
    "<div id=\"explica\"></div>\n",
    "\n",
    "# Explicação sobre resultados e suposições do modelo de regressão linear:"
   ]
  },
  {
   "cell_type": "markdown",
   "metadata": {},
   "source": [
    "Os resumo dos resultados da regressão traz informações que nos permitem avaliar a qualidade do ajuste e a validade de:\n",
    "\n",
    "* Validação das suposições (normalidade, homocedasticidade e independência dos resíduos)\n",
    "* Teste de hipóteses dos coeficientes do modelo de regressão \n",
    "\n",
    "<div id=\"testet\"></div>\n",
    "\n",
    "### Teste t :  valor-*p*  da estatística t\n",
    "\n",
    "Existente para cada coeficiente $\\beta_i$ do modelo de regressão, testam as seguintes hipóteses:\n",
    "\n",
    "$H_0: \\beta_i = 0$\n",
    "\n",
    "$H_1: \\beta_i \\neq 0$\n",
    "\n",
    "Um valor-*p* (encontrado na coluna `P>|t|`) baixo permite **rejeitar** a hipótese $H_0: \\beta_i = 0$. No caso de um modelo de regressão simples, as hipóteses para o coeficiente $\\beta_1$ dizem sobre a significância da regressão."
   ]
  },
  {
   "cell_type": "code",
   "execution_count": null,
   "metadata": {},
   "outputs": [],
   "source": [
    "valorp_beta0 = results.pvalues['const']\n",
    "valorp_beta1 = results.pvalues['2010_income']\n",
    "\n",
    "print('Valor-p sob H0: beta0 = 0: {:.6f}'.format(valorp_beta0))\n",
    "print('Valor-p sob H0: beta1 = 0: {:.6f}'.format(valorp_beta1))"
   ]
  },
  {
   "cell_type": "markdown",
   "metadata": {},
   "source": [
    "<div id=\"r2\"></div>\n",
    "\n",
    "### Coeficiente de determinação $R^2$\n",
    "\n",
    "É uma medida de quão bem uma regressão capta a variação presente nos dados, ou parafraseando, o quanto de variabilidade nos dados é explicada pelo modelo de regressão.\n",
    "\n",
    "$$ R^2 = 1 - \\frac{SS_E}{SS_T}$$\n",
    "\n",
    "Para calcular esta fórmula precisamos das relações:\n",
    "\n",
    "$$SQRes=SS_{E}=\\sum\\limits^{n}_{i=1}(y_i-\\hat{y}_i)^2=\\sum\\limits_{i=1}^{n}\\epsilon^2_{i}$$\n",
    "\n",
    "$$SQT=SS_{T}=\\sum\\limits^{n}_{i=1}(y_i-\\bar{y})^2$$\n",
    "\n",
    "O valor de $R^2$ pode ser obtido na coluna `R-squared`.\n",
    "\n",
    "<div id=\"r2adj\"></div>\n",
    "\n",
    "### $R^2$ ajustado\n",
    "\n",
    "Penaliza preditores que não acrescentam poder preditivo significativo. Essa medida é útil em modelo de regressão múltipla.\n",
    "\n",
    "$$R^2ajustado = R^2 - (1-R^2)\\frac{P}{n-p-1}$$\n",
    "\n",
    "em que $n$ é o número de dados e $p$ é o número de preditores (número de variáveis explicativas)\n",
    "\n",
    "O valor de $R^2$ ajustado pode ser obtido na coluna `Adj. R-squared`.\n",
    "\n",
    "\n",
    "<div id=\"f\"></div>\n",
    "\n",
    "### Estatística F\n",
    "\n",
    "Testa as seguintes hipóteses:\n",
    "\n",
    "$H_0: \\beta_1 = \\beta_2 = \\ldots = \\beta_p = 0$\n",
    "\n",
    "$H_1: \\beta_i \\neq 0$ para no mínimo algum $i$, com $i=1,\\ldots,n$ \n",
    "\n",
    "A rejeição da hipótese nula implica que no mínimo uma variável explicativa (regressora) contruibui significantemente para o modelo. Esse teste F é mais útil no caso de modelo de regressão múltipla.\n",
    "\n",
    "O valor p dessa estatística pode ser obtido na coluna `Prob (F-statistic)`. Se ele for menor do que o nível de significância escolhido, rejeitamos $H_0$ em favor de $H_1$ (alguma variável explicativa contribui significativamente para o modelo).\n",
    "\n",
    "\n",
    "<div id=\"omnibus\"></div>\n",
    "\n",
    "### Teste Omnibus\n",
    "\n",
    "Para que o modelo obtido via regressão linear simples possa ser considerado para tomada de decisão é necessário que as [suposições do modelo](#suposicoes) sejam válidas. O teste Omnibus testa a normalidade dos resíduos ($\\varepsilon_i$):\n",
    "\n",
    "$H_0:$ a distribuição dos resíduos é normal\n",
    "\n",
    "$H_1:$ a distribuição dos resíduos não é normal\n",
    "\n",
    "O valor-p desse teste pode ser obtido em `Prob(Omnibus)`. Se `Prob(Omnibus)` for muito baixo, existe evidência de que os resíduos **não são** distribuídos normalmente, violando nesse caso a suposição do modelo de regressão. O **ideal** é que esse valor seja maior do que $\\alpha$ (nível de significância), assim não rejeitamos $H_0$.\n",
    "\n",
    "\n",
    "<div id=\"jb\"></div>\n",
    "\n",
    "### Teste Jarque-Bera\n",
    "\n",
    "Outro teste de normalidade dos resíduos:\n",
    "\n",
    "$H_0:$ a distribuição dos resíduos é normal\n",
    "\n",
    "$H_1:$ a distribuição dos resíduos não é normal\n",
    "\n",
    "O valor-p desse teste pode ser obtido em `Prob(JB)`. Se `Prob(JB)` for muito baixo, existe evidência de que os resíduos **não são** distribuídos normalmente, violando nesse caso a suposição do modelo de regressão. O **ideal** é que esse valor seja maior do que $\\alpha$ (nível de significância), assim não rejeitamos $H_0$.\n",
    "\n",
    "Consulte este [link](https://towardsdatascience.com/testing-for-normality-using-skewness-and-kurtosis-afd61be860) para mais detalhes sobre qual o propósito do teste JB para validar normalidade de dados.\n",
    "\n",
    "\n",
    "\n",
    "<div id=\"dw\"></div>\n",
    "\n",
    "### Teste Durbin-Watson\n",
    "\n",
    "Testa a autocorrelação dos resíduos. Uma das [suposições](#suposicoes) é que os resíduos são independentes entre si. Esse valor varia na faixa $[0,4]$:\n",
    "\n",
    "* Um valor próximo de $2$ sugere que não há autocorrelação dos resíduos\n",
    "* Um valor menor que $2$ sugere **correlação positiva** dois resíduos\n",
    "* Um valor maior que $2$ sugere **correlação negativa** dois resíduos\n",
    "\n",
    "O **ideal** é que o valor de `Durbin-Watson` seja próximo de 2."
   ]
  },
  {
   "cell_type": "markdown",
   "metadata": {},
   "source": [
    "___\n",
    "<div id=\"uso\"></div>\n",
    "\n",
    "# Utilização dos resultados e validação das suposições do modelo:"
   ]
  },
  {
   "cell_type": "markdown",
   "metadata": {},
   "source": [
    "<div id=\"ex6\"></div>\n",
    "\n",
    "### EXERCÍCIO 6 - Análise dos valores p\n",
    "\n",
    "O que os valores-p da regressão dizem a respeito dos *betas?*"
   ]
  },
  {
   "cell_type": "code",
   "execution_count": null,
   "metadata": {},
   "outputs": [],
   "source": [
    "# ESCREVA SUA RESPOSTA AQUI"
   ]
  },
  {
   "cell_type": "markdown",
   "metadata": {},
   "source": [
    "___\n",
    "\n",
    "<div id=\"ex7\"></div>\n",
    "\n",
    "### EXERCÍCIO 7 - Análise da estatística F\n",
    "\n",
    "O que o valor da estatística F diz sobre a qualidade da regressão? \n",
    "\n",
    "Diga qual hipótese nula e alternativa $Prob(F)$ avalia."
   ]
  },
  {
   "cell_type": "code",
   "execution_count": null,
   "metadata": {},
   "outputs": [],
   "source": [
    "# ESCREVA SUA RESPOSTA AQUI"
   ]
  },
  {
   "cell_type": "markdown",
   "metadata": {},
   "source": [
    "___\n",
    "\n",
    "<div id=\"ex8\"></div>\n",
    "\n",
    "### EXERCÍCIO 8 - Análise do $R^2$\n",
    "\n",
    "O que o valor de $R^2$ obtido diz sobre o poder explicativo da regressão obtida via OLS?"
   ]
  },
  {
   "cell_type": "code",
   "execution_count": null,
   "metadata": {},
   "outputs": [],
   "source": [
    "# ESCREVA SUA RESPOSTA AQUI"
   ]
  },
  {
   "cell_type": "markdown",
   "metadata": {},
   "source": [
    "___\n",
    "\n",
    "<div id=\"ex9\"></div>\n",
    "\n",
    "### EXERCÍCIO 9 - Análise de normalidade do resíduo\n",
    "\n",
    "O que os testes *Omnibus* e *Jarque-Bera* dizem a respeito da normalidade do resíduo? "
   ]
  },
  {
   "cell_type": "code",
   "execution_count": null,
   "metadata": {},
   "outputs": [],
   "source": [
    "# ESCREVA SUA RESPOSTA AQUI"
   ]
  },
  {
   "cell_type": "markdown",
   "metadata": {},
   "source": [
    "___\n",
    "\n",
    "<div id=\"ex10\"></div>\n",
    "\n",
    "### EXERCÍCIO 10 - Análise de homocedasticidade\n",
    "\n",
    "Verifique visualmente se a hipótese de homocedasticidade é válida."
   ]
  },
  {
   "cell_type": "code",
   "execution_count": null,
   "metadata": {},
   "outputs": [],
   "source": [
    "# ESCREVA SUA RESPOSTA AQUI"
   ]
  }
 ],
 "metadata": {
  "hide_input": false,
  "kernelspec": {
   "display_name": "Python 3",
   "language": "python",
   "name": "python3"
  },
  "language_info": {
   "codemirror_mode": {
    "name": "ipython",
    "version": 3
   },
   "file_extension": ".py",
   "mimetype": "text/x-python",
   "name": "python",
   "nbconvert_exporter": "python",
   "pygments_lexer": "ipython3",
   "version": "3.7.1"
  }
 },
 "nbformat": 4,
 "nbformat_minor": 2
}
