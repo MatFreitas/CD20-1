{
 "cells": [
  {
   "cell_type": "markdown",
   "metadata": {},
   "source": [
    "Comandos quando $X\\sim Poisson(\\mu)$\n",
    "\n",
    "- $P(X=k)$: `stats.poisson.pmf(k,mu)`\n",
    "- $P(X\\leq k)$: `stats.poisson.cdf(k, mu)`\n",
    "- $E(X)$: `stats.poisson.mean(mu)`\n",
    "- $Var(X)$: `stats.poisson.var(mu)`\n",
    "- $DP(X)$: `stats.poisson.std(mu)`\n",
    "\n",
    "Link: https://docs.scipy.org/doc/scipy/reference/generated/scipy.stats.poisson.html"
   ]
  },
  {
   "cell_type": "code",
   "execution_count": 1,
   "metadata": {},
   "outputs": [],
   "source": [
    "from scipy import stats"
   ]
  },
  {
   "cell_type": "markdown",
   "metadata": {},
   "source": [
    "O número de conversas que se iniciam entre usuário e chatbot em um site e-commerce ocorre a uma taxa média de 4 a cada minuto."
   ]
  },
  {
   "cell_type": "code",
   "execution_count": 2,
   "metadata": {},
   "outputs": [],
   "source": [
    "Mi = 4"
   ]
  },
  {
   "cell_type": "markdown",
   "metadata": {},
   "source": [
    "a) Calcule a probabilidade de ocorrer 3 conversas entre usuário e chatbot em um minuto qualquer do dia?"
   ]
  },
  {
   "cell_type": "code",
   "execution_count": 3,
   "metadata": {},
   "outputs": [
    {
     "data": {
      "text/plain": [
       "0.19536681481316454"
      ]
     },
     "execution_count": 3,
     "metadata": {},
     "output_type": "execute_result"
    }
   ],
   "source": [
    "# P(X=3)\n",
    "stats.poisson.pmf(3, Mi)"
   ]
  },
  {
   "cell_type": "markdown",
   "metadata": {},
   "source": [
    "b) Calcule a probabilidade de ocorrer menos de 3 conversas entre usuário e chatbot em um minuto qualquer do dia."
   ]
  },
  {
   "cell_type": "code",
   "execution_count": 11,
   "metadata": {},
   "outputs": [
    {
     "data": {
      "text/plain": [
       "0.23810330555354436"
      ]
     },
     "execution_count": 11,
     "metadata": {},
     "output_type": "execute_result"
    }
   ],
   "source": [
    "# P(X<3)\n",
    "stats.poisson.cdf(2, Mi)"
   ]
  },
  {
   "cell_type": "markdown",
   "metadata": {},
   "source": [
    "c) Calcule a probabilidade de ocorrer mais de 3 conversas entre usuário e chatbot em um minuto qualquer do dia, sabendo que houve pelo menos 1 conversa entre usuário e chatbot."
   ]
  },
  {
   "cell_type": "code",
   "execution_count": 13,
   "metadata": {},
   "outputs": [
    {
     "data": {
      "text/plain": [
       "0.5770998317544549"
      ]
     },
     "execution_count": 13,
     "metadata": {},
     "output_type": "execute_result"
    }
   ],
   "source": [
    "# P(X > 3|X >= 1) = P(X > 3 & X >= 1)/ P(X >= 1) = P(X > 3)/ P(X >= 1)\n",
    "P_Xpelomenos1 = 1 - stats.poisson.cdf(0, 4)\n",
    "P_Xmaiorque3 = 1 - stats.poisson.cdf(3, Mi)\n",
    "P_Xmaiorque3/P_Xpelomenos1"
   ]
  },
  {
   "cell_type": "markdown",
   "metadata": {},
   "source": [
    "Calcule a probabilidade de ocorrerem exatamente 3 inícios de conversa a cada **dois minutos** quaisquer do dia?"
   ]
  },
  {
   "cell_type": "code",
   "execution_count": 14,
   "metadata": {},
   "outputs": [
    {
     "data": {
      "text/plain": [
       "0.028626144247680996"
      ]
     },
     "execution_count": 14,
     "metadata": {},
     "output_type": "execute_result"
    }
   ],
   "source": [
    "stats.poisson.pmf(3, 8)"
   ]
  }
 ],
 "metadata": {
  "kernelspec": {
   "display_name": "Python 3",
   "language": "python",
   "name": "python3"
  },
  "language_info": {
   "codemirror_mode": {
    "name": "ipython",
    "version": 3
   },
   "file_extension": ".py",
   "mimetype": "text/x-python",
   "name": "python",
   "nbconvert_exporter": "python",
   "pygments_lexer": "ipython3",
   "version": "3.7.1"
  }
 },
 "nbformat": 4,
 "nbformat_minor": 2
}
