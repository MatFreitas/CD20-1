{
 "cells": [
  {
   "cell_type": "markdown",
   "metadata": {},
   "source": [
    "___\n",
    "# Atividade: Modelos probabilísticos discretos e Dados\n",
    "___\n",
    "\n",
    "## Aula 10 - Atividade\n",
    "\n",
    "<div id=\"indice\"></div>\n",
    "\n",
    "## Índice\n",
    "\n",
    "- [Teoria: Distribuição de Poisson](#teoria)\n",
    "    - [Esperança e Variância](#esperanca-variancia)\n",
    "- [Base de Dados: Erupções](#erupcoes)\n",
    "    - [Modelo teórico](#modelo-teorico)\n",
    "        - [Exercício 1](#ex1)\n",
    "        - [Exercício 2](#ex2)\n",
    "        - [Exercício 3](#ex3)\n",
    "        - [Exercício 4](#ex4)\n",
    "        - [Exercício 5](#ex5)\n",
    "    - [Resultados empíricos](#resultados-empiricos)\n",
    "        - [Exercício 6](#ex6)\n",
    "        - [Exercício 7](#ex7)\n",
    "        - [Exercício 8](#ex8)\n",
    "    - [Comparação: resultados empíricos *vs* modelo teórico](#comparacao)\n",
    "        - [Exercício 9](#ex9)\n",
    "        - [Exercício 10](#ex10)\n",
    "    - [Exercício extra](#ex-extra)\n",
    "\n",
    "- [Lista de comandos utilizados neste notebook](#comandos)\n",
    "\n",
    "___\n",
    "\n",
    "<div id=\"teoria\"></div>\n",
    "\n",
    "## Teoria: Distribuição de Poisson\n",
    "\n",
    "A distribuição de Poisson é utilizada para modelar estimativas de número de ocorrências em um espaço contínuo (tempo, área, distância, etc.). Seja $\\mu$ o número médio de eventos ocorrendo no intervalo considerado. Dizemos que uma variável aleatória $X$, que modela o número de ocorrências de um evento no intervalo considerado, segue uma distribuição de Poisson com parâmetro $\\mu$ utilizando a seguinte notação: $X$~$Poisson(\\mu)$.\n",
    "\n",
    "A função de probabilidade (lembrando: que associa uma probabilidade a cada valor possível de $X$) é dada por:\n",
    "\n",
    "$$P(X=x)=\\frac{e^{-\\mu}\\mu^x}{x!}$$\n",
    "\n",
    "Para que um experimento possa ser modelado por uma distribuição de Poisson, ele precisa ter as seguintes propriedades:\n",
    "\n",
    "- Probabilidade de uma ocorrência é a mesma para dois intervalos quaisquer de igual tamanho;\n",
    "- A ocorrência ou não num dado intervalo é independente da ocorrência ou não em outro intervalo.\n",
    "\n",
    "\n",
    "\n",
    "<div id=\"esperanca-variancia\"></div>\n",
    "\n",
    "### Esperança e Variância\n",
    "\n",
    "Se $X$~$Poisson(\\mu)$, o valor esperado $E(X)$ e a variância $Var(X)$ são dados por:\n",
    "\n",
    "$$E(X) = \\mu$$\n",
    "\n",
    "$$Var(X) = \\mu$$\n",
    "\n",
    "___\n",
    "\n",
    "<div id=\"erupcoes\"></div>\n",
    "\n",
    "# <font color='blue'>Base de Dados: Erupções</font> \n",
    "\n",
    "Kabum Prime é um planetinha no sistema solar de Zica-Centauri. O ano em Kabum Prime tem 50 dias. Em Kabum Prime existe um vulcão que entra em erupção diversas vezes por ano. Estamos no ano 10333 da nova era de Kabum Prime. Os cientistas kabunianos tabelaram as erupções do vulcão nos últimos 1000 anos kabunianos, e guardaram em um arquivo `\"erupcoes.csv\"`. Nesta tabela são registrados o **ano** e o **dia** em que cada erupção vulcânica ocorreu.\n",
    "\n",
    "Sabe-se que as erupções do vulcão acontecem independentemente: pode ser que tenhamos várias erupções por dia, pode ser que não tenhamos nenhuma, uma erupção não impacta a outra. Sabe-se também que o vulcão está permanentemente ativo, sempre com a mesma chance de irromper."
   ]
  },
  {
   "cell_type": "code",
   "execution_count": 5,
   "metadata": {},
   "outputs": [],
   "source": [
    "%matplotlib inline\n",
    "import pandas as pd\n",
    "import matplotlib.pyplot as plt\n",
    "import numpy as np\n",
    "\n",
    "from scipy import stats #importa apenas as funções de estatísticas da biblioteca SciPy."
   ]
  },
  {
   "cell_type": "markdown",
   "metadata": {},
   "source": [
    "<div id=\"modelo-teorico\"></div>\n",
    "\n",
    "## Modelo teórico\n",
    "\n",
    "<div id=\"ex1\"></div>\n",
    "\n",
    "### EXERCÍCIO 1\n",
    "\n",
    "Assuma que a quantidade de erupções por ano possa ser ajustada pelo modelo de Poisson com parâmetro $\\mu=10$. Interprete esse parâmetro para o problema em questão e, ainda, discuta que hipóteses devem ser verdadeiras para que as propriedades da distribuição de Poisson sejam satisfeitas para o problema aqui me questão."
   ]
  },
  {
   "cell_type": "markdown",
   "metadata": {},
   "source": [
    "PREENCHA COM AS SUAS RESPOSTAS:\n",
    "\n",
    "- $\\mu = 10$: **Ocorrência média de erupções em 50 dias no planeta.**\n",
    "\n",
    "As propriedades da distribuição de Poisson serão satisfeitas para o problema em questão se [COMPLETE COM A SUA RESPOSTA]"
   ]
  },
  {
   "cell_type": "markdown",
   "metadata": {},
   "source": [
    "<div id=\"ex2\"></div>\n",
    "\n",
    "### EXERCÍCIO 2\n",
    "\n",
    "<div id=\"pmf-stats\"></div>\n",
    "\n",
    "Consulte a [documentação dos métodos `stats.poisson.pmf` e `stats.poisson.cdf`](https://docs.scipy.org/doc/scipy-0.14.0/reference/generated/scipy.stats.poisson.html) (dica: o argumento `mu` é a média da Poisson). Utilizando esse método, calcule:\n",
    "\n",
    "1. A probabilidade de em um determinado ano ocorrerem exatamente 15 erupções;\n",
    "2. A probabilidade de em um determinado ano ocorrerem no máximo 15 erupções;\n",
    "3. A probabilidade de em um determinado ano ocorrerem pelo menos 15 erupções;\n",
    "\n",
    "Para serem consideradas corretas, suas respostas devem ser, respectivamente: 0.034718069630684245, 0.9512595966960213 e 0.0834584729346628."
   ]
  },
  {
   "cell_type": "code",
   "execution_count": 6,
   "metadata": {},
   "outputs": [
    {
     "name": "stdout",
     "output_type": "stream",
     "text": [
      "1 = 0.034718069630684245 , 2 = 0.9512595966960213, 3= 0.0834584729346628\n"
     ]
    }
   ],
   "source": [
    "# ESCREVA SEU CÓDIGO AQUI\n",
    "mu = 10\n",
    "a = stats.poisson.pmf(15, mu)\n",
    "b = stats.poisson.cdf(15, mu)\n",
    "c = 1 -stats.poisson.cdf(14, mu)\n",
    "print(\"1 = {0} , 2 = {1}, 3= {2}\".format(a,b,c))"
   ]
  },
  {
   "cell_type": "markdown",
   "metadata": {},
   "source": [
    "<div id=\"ex3\"></div>\n",
    "\n",
    "### EXERCÍCIO 3\n",
    "\n",
    "O grande sábio e vidente Vaydar Ru-Im prevê que neste ano que se inicia teremos pelo menos 15 erupções - e ele nunca erra. Qual a probabilidade de que teremos um número recorde de erupções este ano, ou seja, mais do que 20 erupções?\n",
    "\n",
    "Para ser considerada correta, sua resposta deve ser 0.0190305502366599"
   ]
  },
  {
   "cell_type": "code",
   "execution_count": 7,
   "metadata": {},
   "outputs": [
    {
     "data": {
      "text/plain": [
       "0.0190305502366599"
      ]
     },
     "execution_count": 7,
     "metadata": {},
     "output_type": "execute_result"
    }
   ],
   "source": [
    "# ESCREVA SEU CÓDIGO AQUI\n",
    "# P(X > 20| x >= 15) = P(X > 20 & X >= 15)/P(X >= 15) = P(X > 20)/P(X >= 15)\n",
    "PXmaiorque20 = 1 - stats.poisson.cdf(20, mu)\n",
    "PXmaiorIgualque15 =  c\n",
    "PXmaiorque20/PXmaiorIgualque15 "
   ]
  },
  {
   "cell_type": "markdown",
   "metadata": {},
   "source": [
    "<div id=\"ex4\"></div>\n",
    "\n",
    "### EXERCÍCIO 4\n",
    "\n",
    "O mês kabuniano tem 5 dias (ou seja, o ano tem 10 meses). Se acontece uma erupção no mês, cada kabuniano ganha 100 dinheiros de indenização do governo. Se acontecem 2 erupções, cada kabuniano ganha 150 dinheiros de indenização. Por fim, se acontecem 3 ou mais erupções o governo paga 200 dinheiros de indenização a cada kabuniano. Qual o valor médio de indenizações por kabuniano em um mês? Qual o desvio-padrão?\n",
    "\n",
    "Para serem consideradas corretas, suas respostas devem ser, respectivamente: 80.43918161928124 e 67.52060476750192"
   ]
  },
  {
   "cell_type": "code",
   "execution_count": 8,
   "metadata": {},
   "outputs": [
    {
     "name": "stdout",
     "output_type": "stream",
     "text": [
      "Valor médio de indenizações: 80.43918161928124 dinheiros\n",
      "Desvio padrão: 67.52060476750192 dinheiros\n"
     ]
    }
   ],
   "source": [
    "# ESCREVA SEU CÓDIGO AQUI\n",
    "from math import sqrt\n",
    "\n",
    "NenhumaErup = stats.poisson.pmf(0, mu/10)\n",
    "UmaErup = stats.poisson.pmf(1, mu/10)\n",
    "DuasErup = stats.poisson.pmf(2, mu/10)\n",
    "TresouMaisErup = 1 - stats.poisson.cdf(2, mu/10)\n",
    "\n",
    "PX_x = [NenhumaErup, UmaErup, DuasErup, TresouMaisErup]\n",
    "x = [0, 100, 150, 200]\n",
    "Esperanca = 0\n",
    "Var = 0\n",
    "\n",
    "for i in range(0, 4):\n",
    "    Esperanca += x[i]*PX_x[i]\n",
    "\n",
    "for i in range(0, 4):\n",
    "    Var += (x[i] - Esperanca)**2*PX_x[i]\n",
    "\n",
    "Dp = sqrt(Var)\n",
    "\n",
    "print(\"Valor médio de indenizações: {} dinheiros\".format(Esperanca))\n",
    "print(\"Desvio padrão: {} dinheiros\".format(Dp))"
   ]
  },
  {
   "cell_type": "markdown",
   "metadata": {},
   "source": [
    "<div id=\"ex5\"></div>\n",
    "\n",
    "### EXERCÍCIO 5\n",
    "\n",
    "Utilizando o método `stats.poisson.pmf`, obtenha a probabilidade de ocorrerem 0, 1, ..., 25 erupções em um ano. Armazene as probabilidades em uma lista (para as quantidades de erupções de 0 a 25) e guarde esta lista em uma variável chamada `probabilidades_teoricas`."
   ]
  },
  {
   "cell_type": "code",
   "execution_count": 9,
   "metadata": {},
   "outputs": [],
   "source": [
    "# ESCREVA SEU CÓDIGO AQUI\n",
    "probabilidades_teoricas = []\n",
    "\n",
    "for i in range(25):\n",
    "    probabilidades_teoricas.append(stats.poisson.pmf(i, mu))"
   ]
  },
  {
   "cell_type": "markdown",
   "metadata": {},
   "source": [
    "<div id=\"resultados-empiricos\"></div>\n",
    "\n",
    "## Resultados empíricos\n",
    "\n",
    "Vamos utilizar os dados tabulados pelos cientistas kabulianos."
   ]
  },
  {
   "cell_type": "code",
   "execution_count": 20,
   "metadata": {},
   "outputs": [
    {
     "data": {
      "text/plain": [
       "11187    20\n",
       "10528    20\n",
       "10283    19\n",
       "10828    19\n",
       "10677    19\n",
       "11048    19\n",
       "10924    19\n",
       "10336    18\n",
       "11124    18\n",
       "10331    18\n",
       "10535    18\n",
       "10806    18\n",
       "10769    18\n",
       "10809    18\n",
       "10558    18\n",
       "11049    18\n",
       "10421    18\n",
       "11182    18\n",
       "10883    17\n",
       "10430    17\n",
       "10611    17\n",
       "10332    17\n",
       "10955    17\n",
       "11167    17\n",
       "10531    17\n",
       "10250    17\n",
       "11046    17\n",
       "11140    17\n",
       "10498    17\n",
       "10567    17\n",
       "         ..\n",
       "10878     5\n",
       "10857     5\n",
       "10584     5\n",
       "10489     4\n",
       "10673     4\n",
       "10697     4\n",
       "10487     4\n",
       "10343     4\n",
       "10674     4\n",
       "10716     4\n",
       "11000     4\n",
       "10482     4\n",
       "10734     4\n",
       "11056     4\n",
       "10864     4\n",
       "11211     4\n",
       "11230     4\n",
       "11190     4\n",
       "10659     4\n",
       "10486     4\n",
       "10496     3\n",
       "10787     3\n",
       "10839     3\n",
       "10237     3\n",
       "10811     3\n",
       "10285     2\n",
       "10647     2\n",
       "10497     2\n",
       "11086     2\n",
       "10323     1\n",
       "Name: ano, Length: 999, dtype: int64"
      ]
     },
     "execution_count": 20,
     "metadata": {},
     "output_type": "execute_result"
    }
   ],
   "source": [
    "erupcoes = pd.read_csv('erupcoes.csv')\n",
    "erupcoes.head()"
   ]
  },
  {
   "cell_type": "markdown",
   "metadata": {},
   "source": [
    "<div id=\"ex6\"></div>\n",
    "\n",
    "### EXERCÍCIO 6\n",
    "\n",
    "A tabela `erupcoes` contém os dados dos dias nos quais ocorreu uma erupção, mas estamos interessados neste momento pela quantidade de erupções que ocorreram **em cada ano**. Para isso, calcule a tabela de frequências **absolutas** do número de erupções **por ano**. Armazene essa tabela em uma variável chamada `erupcoes_por_ano`."
   ]
  },
  {
   "cell_type": "code",
   "execution_count": 76,
   "metadata": {},
   "outputs": [
    {
     "data": {
      "text/plain": [
       "11187    20\n",
       "10528    20\n",
       "10283    19\n",
       "10828    19\n",
       "10677    19\n",
       "Name: ano, dtype: int64"
      ]
     },
     "execution_count": 76,
     "metadata": {},
     "output_type": "execute_result"
    }
   ],
   "source": [
    "# ESCREVA SEU CÓDIGO AQUI\n",
    "\n",
    "erupcoes_por_ano = erupcoes['ano'].value_counts()\n",
    "erupcoes_por_ano.head()"
   ]
  },
  {
   "cell_type": "markdown",
   "metadata": {},
   "source": [
    "<div id=\"ex7\"><div>\n",
    "    \n",
    "### EXERCÍCIO 7\n",
    "\n",
    "Gere uma tabela de frequências relativas da quantidade de erupções por ano. Armazene essa tabela em uma variável chamada `frequencias_relativas`. **Observação:** utilize o método `.sort_index()` no resultado do `.value_counts()` para corrigir a ordenação."
   ]
  },
  {
   "cell_type": "code",
   "execution_count": 61,
   "metadata": {},
   "outputs": [
    {
     "data": {
      "text/plain": [
       "1     0.001001\n",
       "2     0.004004\n",
       "3     0.005005\n",
       "4     0.017017\n",
       "5     0.034034\n",
       "6     0.060060\n",
       "7     0.090090\n",
       "8     0.115115\n",
       "9     0.116116\n",
       "10    0.128128\n",
       "11    0.125125\n",
       "12    0.096096\n",
       "13    0.064064\n",
       "14    0.055055\n",
       "15    0.037037\n",
       "16    0.019019\n",
       "17    0.015015\n",
       "18    0.011011\n",
       "19    0.005005\n",
       "20    0.002002\n",
       "Name: ano, dtype: float64"
      ]
     },
     "execution_count": 61,
     "metadata": {},
     "output_type": "execute_result"
    }
   ],
   "source": [
    "# ESCREVA SEU CÓDIGO AQUI\n",
    "frequencias_relativas = erupcoes_por_ano.value_counts(True).sort_index()\n",
    "frequencias_relativas"
   ]
  },
  {
   "cell_type": "markdown",
   "metadata": {},
   "source": [
    "<div id=\"ex8\"></div>\n",
    "\n",
    "### EXERCÍCIO 8\n",
    "\n",
    "Baseado nos dados, qual o percentual dos anos que tem pelo menos $15$ erupções? "
   ]
  },
  {
   "cell_type": "code",
   "execution_count": 52,
   "metadata": {},
   "outputs": [
    {
     "data": {
      "text/plain": [
       "[15, 16, 17, 18, 19, 20]"
      ]
     },
     "execution_count": 52,
     "metadata": {},
     "output_type": "execute_result"
    }
   ],
   "source": [
    "lista= [15, 16, 17, 18 , 19, 20]\n",
    "lista"
   ]
  },
  {
   "cell_type": "code",
   "execution_count": 65,
   "metadata": {},
   "outputs": [
    {
     "data": {
      "text/plain": [
       "8.90890890890891"
      ]
     },
     "execution_count": 65,
     "metadata": {},
     "output_type": "execute_result"
    }
   ],
   "source": [
    "total = 0\n",
    "PeloMenos15 = 0\n",
    "\n",
    "for i in erupcoes_por_ano:\n",
    "    if i in lista:\n",
    "        PeloMenos15 += 1\n",
    "    total += 1\n",
    "    \n",
    "(PeloMenos15/total)*100"
   ]
  },
  {
   "cell_type": "markdown",
   "metadata": {},
   "source": [
    "<div id=\"comparacao\"></div>\n",
    "\n",
    "## Comparação: resultados empíricos *vs* modelo teórico"
   ]
  },
  {
   "cell_type": "markdown",
   "metadata": {},
   "source": [
    "<div id=\"ex9\"></div>\n",
    "\n",
    "### EXERCÍCIO 9\n",
    "\n",
    "Qual é a média de erupções por ano? O parâmetro $\\mu$ utilizado no [modelo teórico](#modelo-teorico) é razoável? Justifique."
   ]
  },
  {
   "cell_type": "code",
   "execution_count": 72,
   "metadata": {},
   "outputs": [
    {
     "data": {
      "text/plain": [
       "10.052052052052051"
      ]
     },
     "execution_count": 72,
     "metadata": {},
     "output_type": "execute_result"
    }
   ],
   "source": [
    "# ESCREVA SEU CÓDIGO AQU"
   ]
  },
  {
   "cell_type": "markdown",
   "metadata": {},
   "source": [
    "<div id=\"ex10\"></div>\n",
    "\n",
    "### EXERCÍCIO 10\n",
    "\n",
    "Compare as probabilidades teóricas ([exercício 5](#ex5)) com as frequências relativas observadas nos dados ([exercício 7](#ex7)) utilizando o gráfico da opção 1 da atividade da aula passada (aula 09). Baseado nessa visualização, discuta se você acha razoável ou não modelar a quantidade de erupções por ano como uma Poisson."
   ]
  },
  {
   "cell_type": "code",
   "execution_count": 73,
   "metadata": {},
   "outputs": [
    {
     "data": {
      "image/png": "[encoded data removed]",
      "text/plain": [
       "<Figure size 432x288 with 1 Axes>"
      ]
     },
     "metadata": {
      "needs_background": "light"
     },
     "output_type": "display_data"
    }
   ],
   "source": [
    "# ESCREVA SEU CÓDIGO AQUI\n",
    "fr = frequencias_relativas\n",
    "pr = probabilidades_teoricas\n",
    "plt.plot(range(len(pr)), pr, 'o', alpha=0.8)\n",
    "plt.plot(range(len(fr)), fr, 'D', alpha=0.8)\n",
    "plt.legend(('Freq.rel.','P(Y=y)'))\n",
    "plt.title('Frequência relativa X Probabilidade teórica')\n",
    "plt.show()"
   ]
  },
  {
   "cell_type": "markdown",
   "metadata": {},
   "source": [
    "<div id=\"ex-extra\"></div>\n",
    "<div id=\"ppf\"></div>\n",
    "\n",
    "### EXERCÍCIO EXTRA\n",
    "\n",
    "A cada erupção cada kabuniano tem uma chance $p=10^{-3}$ de ficar azul. Neste caso ele tem que ir ao Grande Hospital de Kabum para voltar a cor normal. Existem 100 mil kabunianos. Qual o número de vagas no hospital para atender corretamente a todos os kabunianos necessitados em 99% das erupções? \n",
    "\n",
    "Para ser considerada correta, sua resposta deve ser 124.\n",
    "\n",
    "**Dica 1:** reflita sobre qual distribuição deve ser utilizada para modelar essa questão;\n",
    "**Dica 2:** métodos `.ppf` calculam o inverso dos métodos `.cdf`. Por exemplo: `stats.poisson.cdf(15, mu=10)` é aproximadamente `0.95` e `stats.poisson.ppf(0.95, mu=10)` é aproximadamente `15`."
   ]
  },
  {
   "cell_type": "code",
   "execution_count": null,
   "metadata": {},
   "outputs": [],
   "source": [
    "# ESCREVA SEU CÓDIGO AQUI"
   ]
  },
  {
   "cell_type": "markdown",
   "metadata": {},
   "source": [
    "<div id=\"comandos\"></div>\n",
    "\n",
    "___\n",
    "\n",
    "## Lista de comandos utilizados neste notebook\n",
    "\n",
    "Os seguintes comandos foram utilizados neste jupyter notebook. Para facilitar sua consulta, escreva um resumo do que cada um deles faz:\n",
    "\n",
    "- [`.pmf`](#pmf-stats): ESCREVA AQUI O RESUMO\n",
    "- [`.mean`](#pmf-stats): ESCREVA AQUI O RESUMO\n",
    "- [`.var`](#pmf-stats): ESCREVA AQUI O RESUMO\n",
    "- [`.ppf`](#ppf): ESCREVA AQUI O RESUMO"
   ]
  }
 ],
 "metadata": {
  "kernelspec": {
   "display_name": "Python 3",
   "language": "python",
   "name": "python3"
  },
  "language_info": {
   "codemirror_mode": {
    "name": "ipython",
    "version": 3
   },
   "file_extension": ".py",
   "mimetype": "text/x-python",
   "name": "python",
   "nbconvert_exporter": "python",
   "pygments_lexer": "ipython3",
   "version": "3.7.1"
  }
 },
 "nbformat": 4,
 "nbformat_minor": 2
}
